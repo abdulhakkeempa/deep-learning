{
  "nbformat": 4,
  "nbformat_minor": 0,
  "metadata": {
    "colab": {
      "provenance": [],
      "authorship_tag": "ABX9TyPmx/XZOvGVhP751ZOh20mq"
    },
    "kernelspec": {
      "name": "python3",
      "display_name": "Python 3"
    },
    "language_info": {
      "name": "python"
    }
  },
  "cells": [
    {
      "cell_type": "code",
      "execution_count": 1,
      "metadata": {
        "id": "aVl5tv9JIi_n"
      },
      "outputs": [],
      "source": [
        "import tensorflow as tf"
      ]
    },
    {
      "cell_type": "code",
      "source": [
        "print(tf.__version__)"
      ],
      "metadata": {
        "colab": {
          "base_uri": "https://localhost:8080/"
        },
        "id": "h7mE1FChl2Kz",
        "outputId": "708896ab-ce44-4ce7-e599-8889789454cd"
      },
      "execution_count": 2,
      "outputs": [
        {
          "output_type": "stream",
          "name": "stdout",
          "text": [
            "2.14.0\n"
          ]
        }
      ]
    },
    {
      "cell_type": "markdown",
      "source": [
        "## 1D Tensors"
      ],
      "metadata": {
        "id": "Od9U7ZjWniAX"
      }
    },
    {
      "cell_type": "code",
      "source": [
        "tensor_zero_d = tf.constant(4)"
      ],
      "metadata": {
        "id": "7JjwawTUl6z-"
      },
      "execution_count": 3,
      "outputs": []
    },
    {
      "cell_type": "code",
      "source": [
        "print(tensor_zero_d)"
      ],
      "metadata": {
        "colab": {
          "base_uri": "https://localhost:8080/"
        },
        "id": "tlVa89hDmEOy",
        "outputId": "5cfaaffe-765b-4c83-ec9f-12759a07eab2"
      },
      "execution_count": 4,
      "outputs": [
        {
          "output_type": "stream",
          "name": "stdout",
          "text": [
            "tf.Tensor(4, shape=(), dtype=int32)\n"
          ]
        }
      ]
    },
    {
      "cell_type": "code",
      "source": [
        "tensor_zero_d = tf.constant([2, 0, -3, 8, 10.])\n",
        "print(tensor_zero_d)"
      ],
      "metadata": {
        "colab": {
          "base_uri": "https://localhost:8080/"
        },
        "id": "rrqQLz22mG4T",
        "outputId": "a1ffda57-1fbc-4475-8a40-4bd056c49944"
      },
      "execution_count": 8,
      "outputs": [
        {
          "output_type": "stream",
          "name": "stdout",
          "text": [
            "tf.Tensor([ 2.  0. -3.  8. 10.], shape=(5,), dtype=float32)\n"
          ]
        }
      ]
    },
    {
      "cell_type": "markdown",
      "source": [
        "## 2D Tensors"
      ],
      "metadata": {
        "id": "yrFnPrJ_mk4Q"
      }
    },
    {
      "cell_type": "code",
      "source": [
        "tensor_two_d = tf.constant([\n",
        "    [1, 2, 0],\n",
        "    [3, 5, -2],\n",
        "    [1, 5, 6],\n",
        "    [2, 3, 8],\n",
        "])"
      ],
      "metadata": {
        "id": "dTVzfgvomUXr"
      },
      "execution_count": 9,
      "outputs": []
    },
    {
      "cell_type": "code",
      "source": [
        "print(tensor_two_d)"
      ],
      "metadata": {
        "colab": {
          "base_uri": "https://localhost:8080/"
        },
        "id": "SPbAhWAYmyrh",
        "outputId": "ce37a87c-6258-4db8-8fe9-8c5f88bb7e55"
      },
      "execution_count": 10,
      "outputs": [
        {
          "output_type": "stream",
          "name": "stdout",
          "text": [
            "tf.Tensor(\n",
            "[[ 1  2  0]\n",
            " [ 3  5 -2]\n",
            " [ 1  5  6]\n",
            " [ 2  3  8]], shape=(4, 3), dtype=int32)\n"
          ]
        }
      ]
    },
    {
      "cell_type": "markdown",
      "source": [
        "## 3D Tensors"
      ],
      "metadata": {
        "id": "HPKRppp_nDN7"
      }
    },
    {
      "cell_type": "code",
      "source": [
        "tensor_three_d = tf.constant([\n",
        "    [[1, 2, 0],\n",
        "    [3, 5, -2],\n",
        "    [1, 5, 6],\n",
        "    [2, 3, 8],],\n",
        "    [[1, 2, 0],\n",
        "    [3, 5, -2],\n",
        "    [3, 5, -2],\n",
        "    [2, 3, 8],],\n",
        "])"
      ],
      "metadata": {
        "id": "6fjaF5vEm0w5"
      },
      "execution_count": 12,
      "outputs": []
    },
    {
      "cell_type": "code",
      "source": [
        "print(tensor_three_d)"
      ],
      "metadata": {
        "colab": {
          "base_uri": "https://localhost:8080/"
        },
        "id": "WHS-F2MSnP8U",
        "outputId": "01b7e8e2-6b4f-4e70-d3af-79dad63829a6"
      },
      "execution_count": 13,
      "outputs": [
        {
          "output_type": "stream",
          "name": "stdout",
          "text": [
            "tf.Tensor(\n",
            "[[[ 1  2  0]\n",
            "  [ 3  5 -2]\n",
            "  [ 1  5  6]\n",
            "  [ 2  3  8]]\n",
            "\n",
            " [[ 1  2  0]\n",
            "  [ 3  5 -2]\n",
            "  [ 3  5 -2]\n",
            "  [ 2  3  8]]], shape=(2, 4, 3), dtype=int32)\n"
          ]
        }
      ]
    },
    {
      "cell_type": "code",
      "source": [],
      "metadata": {
        "id": "Aj5F2qIHnWuM"
      },
      "execution_count": null,
      "outputs": []
    }
  ]
}