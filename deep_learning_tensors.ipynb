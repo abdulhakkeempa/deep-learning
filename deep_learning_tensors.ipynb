{
  "nbformat": 4,
  "nbformat_minor": 0,
  "metadata": {
    "colab": {
      "provenance": [],
      "authorship_tag": "ABX9TyOYDmhbdTkuasX+jcTNeGwR"
    },
    "kernelspec": {
      "name": "python3",
      "display_name": "Python 3"
    },
    "language_info": {
      "name": "python"
    }
  },
  "cells": [
    {
      "cell_type": "code",
      "execution_count": 1,
      "metadata": {
        "id": "aVl5tv9JIi_n"
      },
      "outputs": [],
      "source": [
        "import tensorflow as tf"
      ]
    },
    {
      "cell_type": "code",
      "source": [
        "print(tf.__version__)"
      ],
      "metadata": {
        "colab": {
          "base_uri": "https://localhost:8080/"
        },
        "id": "h7mE1FChl2Kz",
        "outputId": "f922f068-4c4f-46af-ce5e-b6753957d1f1"
      },
      "execution_count": 2,
      "outputs": [
        {
          "output_type": "stream",
          "name": "stdout",
          "text": [
            "2.14.0\n"
          ]
        }
      ]
    },
    {
      "cell_type": "markdown",
      "source": [
        "## 1D Tensors"
      ],
      "metadata": {
        "id": "Od9U7ZjWniAX"
      }
    },
    {
      "cell_type": "code",
      "source": [
        "tensor_zero_d = tf.constant(4)"
      ],
      "metadata": {
        "id": "7JjwawTUl6z-"
      },
      "execution_count": null,
      "outputs": []
    },
    {
      "cell_type": "code",
      "source": [
        "print(tensor_zero_d)"
      ],
      "metadata": {
        "colab": {
          "base_uri": "https://localhost:8080/"
        },
        "id": "tlVa89hDmEOy",
        "outputId": "5cfaaffe-765b-4c83-ec9f-12759a07eab2"
      },
      "execution_count": null,
      "outputs": [
        {
          "output_type": "stream",
          "name": "stdout",
          "text": [
            "tf.Tensor(4, shape=(), dtype=int32)\n"
          ]
        }
      ]
    },
    {
      "cell_type": "code",
      "source": [
        "tensor_zero_d = tf.constant([2, 0, -3, 8, 10.])\n",
        "print(tensor_zero_d)"
      ],
      "metadata": {
        "colab": {
          "base_uri": "https://localhost:8080/"
        },
        "id": "rrqQLz22mG4T",
        "outputId": "0942c05e-cbe7-4449-ecbe-d531cab98fee"
      },
      "execution_count": null,
      "outputs": [
        {
          "output_type": "stream",
          "name": "stdout",
          "text": [
            "tf.Tensor([ 2.  0. -3.  8. 10.], shape=(5,), dtype=float32)\n"
          ]
        }
      ]
    },
    {
      "cell_type": "code",
      "source": [
        "casted_tensor_zero_d = tf.cast(\n",
        "    tensor_zero_d, dtype=tf.int64\n",
        ")"
      ],
      "metadata": {
        "id": "yXp-Cqsv3byX"
      },
      "execution_count": null,
      "outputs": []
    },
    {
      "cell_type": "code",
      "source": [
        "print(casted_tensor_zero_d)"
      ],
      "metadata": {
        "colab": {
          "base_uri": "https://localhost:8080/"
        },
        "id": "QA_SAS413vYP",
        "outputId": "362a5894-a02f-4e7e-d8d5-b5fb0498ab26"
      },
      "execution_count": null,
      "outputs": [
        {
          "output_type": "stream",
          "name": "stdout",
          "text": [
            "tf.Tensor([ 2  0 -3  8 10], shape=(5,), dtype=int64)\n"
          ]
        }
      ]
    },
    {
      "cell_type": "code",
      "source": [
        "tf.cast(\n",
        "    tensor_zero_d, dtype=bool\n",
        ")"
      ],
      "metadata": {
        "id": "CGduxBtR4PnQ",
        "outputId": "9e703e15-e6b2-4b4d-acf9-e3b74ccd2ff1",
        "colab": {
          "base_uri": "https://localhost:8080/"
        }
      },
      "execution_count": null,
      "outputs": [
        {
          "output_type": "execute_result",
          "data": {
            "text/plain": [
              "<tf.Tensor: shape=(5,), dtype=bool, numpy=array([ True, False,  True,  True,  True])>"
            ]
          },
          "metadata": {},
          "execution_count": 16
        }
      ]
    },
    {
      "cell_type": "markdown",
      "source": [
        "## 2D Tensors"
      ],
      "metadata": {
        "id": "yrFnPrJ_mk4Q"
      }
    },
    {
      "cell_type": "code",
      "source": [
        "tensor_two_d = tf.constant([\n",
        "    [1, 2, 0],\n",
        "    [3, 5, -2],\n",
        "    [1, 5, 6],\n",
        "    [2, 3, 8],\n",
        "])"
      ],
      "metadata": {
        "id": "dTVzfgvomUXr"
      },
      "execution_count": null,
      "outputs": []
    },
    {
      "cell_type": "code",
      "source": [
        "print(tensor_two_d)\n",
        "print(tensor_two_d.ndim)"
      ],
      "metadata": {
        "colab": {
          "base_uri": "https://localhost:8080/"
        },
        "id": "SPbAhWAYmyrh",
        "outputId": "eb99825e-6c48-4c05-d0fb-924177e03378"
      },
      "execution_count": null,
      "outputs": [
        {
          "output_type": "stream",
          "name": "stdout",
          "text": [
            "tf.Tensor(\n",
            "[[ 1  2  0]\n",
            " [ 3  5 -2]\n",
            " [ 1  5  6]\n",
            " [ 2  3  8]], shape=(4, 3), dtype=int32)\n",
            "2\n"
          ]
        }
      ]
    },
    {
      "cell_type": "markdown",
      "source": [
        "## 3D Tensors"
      ],
      "metadata": {
        "id": "HPKRppp_nDN7"
      }
    },
    {
      "cell_type": "code",
      "source": [
        "tensor_three_d = tf.constant([\n",
        "    [[1, 2, 0],\n",
        "    [3, 5, -2],\n",
        "    [1, 5, 6],\n",
        "    [2, 3, 8],],\n",
        "    [[1, 2, 0],\n",
        "    [3, 5, -2],\n",
        "    [3, 5, -2],\n",
        "    [2, 3, 8],],\n",
        "])"
      ],
      "metadata": {
        "id": "6fjaF5vEm0w5"
      },
      "execution_count": null,
      "outputs": []
    },
    {
      "cell_type": "code",
      "source": [
        "print(tensor_three_d)"
      ],
      "metadata": {
        "colab": {
          "base_uri": "https://localhost:8080/"
        },
        "id": "WHS-F2MSnP8U",
        "outputId": "01b7e8e2-6b4f-4e70-d3af-79dad63829a6"
      },
      "execution_count": null,
      "outputs": [
        {
          "output_type": "stream",
          "name": "stdout",
          "text": [
            "tf.Tensor(\n",
            "[[[ 1  2  0]\n",
            "  [ 3  5 -2]\n",
            "  [ 1  5  6]\n",
            "  [ 2  3  8]]\n",
            "\n",
            " [[ 1  2  0]\n",
            "  [ 3  5 -2]\n",
            "  [ 3  5 -2]\n",
            "  [ 2  3  8]]], shape=(2, 4, 3), dtype=int32)\n"
          ]
        }
      ]
    },
    {
      "cell_type": "code",
      "source": [
        "print(tensor_three_d.shape)"
      ],
      "metadata": {
        "colab": {
          "base_uri": "https://localhost:8080/"
        },
        "id": "Aj5F2qIHnWuM",
        "outputId": "f3c7bfd6-efa4-46eb-944a-d85455cfe322"
      },
      "execution_count": null,
      "outputs": [
        {
          "output_type": "stream",
          "name": "stdout",
          "text": [
            "(2, 4, 3)\n"
          ]
        }
      ]
    },
    {
      "cell_type": "code",
      "source": [
        "print(tensor_three_d.ndim)"
      ],
      "metadata": {
        "id": "i10mjQWsoQZ2",
        "outputId": "454e1340-5497-4ebf-c10c-0bd2761b21ae",
        "colab": {
          "base_uri": "https://localhost:8080/"
        }
      },
      "execution_count": null,
      "outputs": [
        {
          "output_type": "stream",
          "name": "stdout",
          "text": [
            "3\n"
          ]
        }
      ]
    },
    {
      "cell_type": "markdown",
      "source": [
        "## 4D Tensors"
      ],
      "metadata": {
        "id": "5ovBpmqawRGw"
      }
    },
    {
      "cell_type": "code",
      "source": [
        "tensor_four_d = tf.constant([\n",
        "      [\n",
        "        [[1, 2, 0],\n",
        "        [2, 3, 8],],\n",
        "\n",
        "        [[1, 2, 0],\n",
        "        [2, 3, 8],],\n",
        "\n",
        "        [[1, 2, 0],\n",
        "        [2, 3, 8],],\n",
        "\n",
        "        [[1, 2, 0],\n",
        "        [2, 3, 8],],\n",
        "      ],\n",
        "      [\n",
        "        [[5, 25, 123],\n",
        "        [235, 3, 198],],\n",
        "\n",
        "        [[1, 21, 53],\n",
        "        [200, 328, 8],],\n",
        "\n",
        "        [[15, 23, 5],\n",
        "        [2, 3, 89],],\n",
        "\n",
        "        [[1, 2, 90],\n",
        "        [22, 36, 87],],\n",
        "      ],\n",
        "      [\n",
        "        [[5, 25, 123],\n",
        "        [235, 3, 198],],\n",
        "\n",
        "        [[1, 21, 53],\n",
        "        [200, 328, 8],],\n",
        "\n",
        "        [[15, 23, 5],\n",
        "        [2, 3, 89],],\n",
        "\n",
        "        [[1, 2, 90],\n",
        "        [22, 36, 87],],\n",
        "      ]\n",
        "], dtype=tf.float32)"
      ],
      "metadata": {
        "id": "cCmBGgvcoR89"
      },
      "execution_count": null,
      "outputs": []
    },
    {
      "cell_type": "code",
      "source": [
        "print(tensor_four_d)\n",
        "print(tensor_four_d.shape)\n",
        "print(tensor_four_d.ndim)"
      ],
      "metadata": {
        "colab": {
          "base_uri": "https://localhost:8080/"
        },
        "id": "vuBAduInx0HA",
        "outputId": "56659687-1b8e-4f53-9e6e-188b6c685416"
      },
      "execution_count": null,
      "outputs": [
        {
          "output_type": "stream",
          "name": "stdout",
          "text": [
            "tf.Tensor(\n",
            "[[[[  1.   2.   0.]\n",
            "   [  2.   3.   8.]]\n",
            "\n",
            "  [[  1.   2.   0.]\n",
            "   [  2.   3.   8.]]\n",
            "\n",
            "  [[  1.   2.   0.]\n",
            "   [  2.   3.   8.]]\n",
            "\n",
            "  [[  1.   2.   0.]\n",
            "   [  2.   3.   8.]]]\n",
            "\n",
            "\n",
            " [[[  5.  25. 123.]\n",
            "   [235.   3. 198.]]\n",
            "\n",
            "  [[  1.  21.  53.]\n",
            "   [200. 328.   8.]]\n",
            "\n",
            "  [[ 15.  23.   5.]\n",
            "   [  2.   3.  89.]]\n",
            "\n",
            "  [[  1.   2.  90.]\n",
            "   [ 22.  36.  87.]]]\n",
            "\n",
            "\n",
            " [[[  5.  25. 123.]\n",
            "   [235.   3. 198.]]\n",
            "\n",
            "  [[  1.  21.  53.]\n",
            "   [200. 328.   8.]]\n",
            "\n",
            "  [[ 15.  23.   5.]\n",
            "   [  2.   3.  89.]]\n",
            "\n",
            "  [[  1.   2.  90.]\n",
            "   [ 22.  36.  87.]]]], shape=(3, 4, 2, 3), dtype=float32)\n",
            "(3, 4, 2, 3)\n",
            "4\n"
          ]
        }
      ]
    },
    {
      "cell_type": "markdown",
      "source": [
        "## Complex Data Type"
      ],
      "metadata": {
        "id": "1pGRPIQ12bj3"
      }
    },
    {
      "cell_type": "code",
      "source": [
        "real = tf.constant([2.25])\n",
        "imag = tf.constant([4.75])\n",
        "tf.complex(real, imag)"
      ],
      "metadata": {
        "colab": {
          "base_uri": "https://localhost:8080/"
        },
        "id": "J5RXRQe1yL21",
        "outputId": "089cbf5b-b6c4-4e9e-8bea-48ea12d8f398"
      },
      "execution_count": null,
      "outputs": [
        {
          "output_type": "execute_result",
          "data": {
            "text/plain": [
              "<tf.Tensor: shape=(1,), dtype=complex64, numpy=array([2.25+4.75j], dtype=complex64)>"
            ]
          },
          "metadata": {},
          "execution_count": 12
        }
      ]
    },
    {
      "cell_type": "markdown",
      "source": [
        "## Tensor String"
      ],
      "metadata": {
        "id": "kQCHk2mZVxDG"
      }
    },
    {
      "cell_type": "code",
      "source": [
        "tensor_string = tf.constant([\"hello world\", \"hi\"])\n",
        "print(tensor_string)"
      ],
      "metadata": {
        "colab": {
          "base_uri": "https://localhost:8080/"
        },
        "id": "WkeEDrvbVy9g",
        "outputId": "505b36fc-68c8-4817-8c9a-af83cbface04"
      },
      "execution_count": 3,
      "outputs": [
        {
          "output_type": "stream",
          "name": "stdout",
          "text": [
            "tf.Tensor([b'hello world' b'hi'], shape=(2,), dtype=string)\n"
          ]
        }
      ]
    },
    {
      "cell_type": "markdown",
      "source": [
        "## Numpy to Tensorflow"
      ],
      "metadata": {
        "id": "TzVKY-K4WI0z"
      }
    },
    {
      "cell_type": "code",
      "source": [
        "import numpy as np"
      ],
      "metadata": {
        "id": "QIXam9j2WLqt"
      },
      "execution_count": 4,
      "outputs": []
    },
    {
      "cell_type": "code",
      "source": [
        "np_array = np.array([1,2,3])"
      ],
      "metadata": {
        "id": "NaXlhxLFWNOI"
      },
      "execution_count": 5,
      "outputs": []
    },
    {
      "cell_type": "code",
      "source": [
        "print(np_array.shape)"
      ],
      "metadata": {
        "colab": {
          "base_uri": "https://localhost:8080/"
        },
        "id": "0Ll2jIuHWQyz",
        "outputId": "6184606b-2ad6-4429-b45f-bea2d21dc950"
      },
      "execution_count": 6,
      "outputs": [
        {
          "output_type": "stream",
          "name": "stdout",
          "text": [
            "(3,)\n"
          ]
        }
      ]
    },
    {
      "cell_type": "code",
      "source": [
        "converted_tensor = tf.convert_to_tensor(np_array)"
      ],
      "metadata": {
        "id": "lXRWrkuQWS0w"
      },
      "execution_count": 7,
      "outputs": []
    },
    {
      "cell_type": "code",
      "source": [
        "print(converted_tensor)"
      ],
      "metadata": {
        "colab": {
          "base_uri": "https://localhost:8080/"
        },
        "id": "_iP1ZBaCWX15",
        "outputId": "623ba086-5078-4eb1-ddb7-a4b5019f165c"
      },
      "execution_count": 8,
      "outputs": [
        {
          "output_type": "stream",
          "name": "stdout",
          "text": [
            "tf.Tensor([1 2 3], shape=(3,), dtype=int64)\n"
          ]
        }
      ]
    },
    {
      "cell_type": "code",
      "source": [
        "#let's us create multi dimensional identity matrix tensors using tf.eye function\n",
        "tf.eye(\n",
        "    num_rows=5,\n",
        "    num_columns=None,\n",
        "    batch_shape=[3],\n",
        "    dtype=tf.dtypes.bool,\n",
        "    name=None\n",
        ")"
      ],
      "metadata": {
        "colab": {
          "base_uri": "https://localhost:8080/"
        },
        "id": "vBBLqNlXWZjh",
        "outputId": "51a43f5d-9963-4d86-89bc-9be9f1b28e3d"
      },
      "execution_count": 26,
      "outputs": [
        {
          "output_type": "execute_result",
          "data": {
            "text/plain": [
              "<tf.Tensor: shape=(3, 5, 5), dtype=bool, numpy=\n",
              "array([[[ True, False, False, False, False],\n",
              "        [False,  True, False, False, False],\n",
              "        [False, False,  True, False, False],\n",
              "        [False, False, False,  True, False],\n",
              "        [False, False, False, False,  True]],\n",
              "\n",
              "       [[ True, False, False, False, False],\n",
              "        [False,  True, False, False, False],\n",
              "        [False, False,  True, False, False],\n",
              "        [False, False, False,  True, False],\n",
              "        [False, False, False, False,  True]],\n",
              "\n",
              "       [[ True, False, False, False, False],\n",
              "        [False,  True, False, False, False],\n",
              "        [False, False,  True, False, False],\n",
              "        [False, False, False,  True, False],\n",
              "        [False, False, False, False,  True]]])>"
            ]
          },
          "metadata": {},
          "execution_count": 26
        }
      ]
    },
    {
      "cell_type": "code",
      "source": [
        "#tensors filled with 1\n",
        "tf.ones(\n",
        "    [2,3,2,2],\n",
        "    dtype=tf.dtypes.float16,\n",
        "    name=None,\n",
        "    layout=None\n",
        ")"
      ],
      "metadata": {
        "colab": {
          "base_uri": "https://localhost:8080/"
        },
        "id": "k0JFFCbaWm2p",
        "outputId": "3321111f-4f72-45ab-bf65-0e5099e1a0be"
      },
      "execution_count": 31,
      "outputs": [
        {
          "output_type": "execute_result",
          "data": {
            "text/plain": [
              "<tf.Tensor: shape=(2, 3, 2, 2), dtype=float16, numpy=\n",
              "array([[[[1., 1.],\n",
              "         [1., 1.]],\n",
              "\n",
              "        [[1., 1.],\n",
              "         [1., 1.]],\n",
              "\n",
              "        [[1., 1.],\n",
              "         [1., 1.]]],\n",
              "\n",
              "\n",
              "       [[[1., 1.],\n",
              "         [1., 1.]],\n",
              "\n",
              "        [[1., 1.],\n",
              "         [1., 1.]],\n",
              "\n",
              "        [[1., 1.],\n",
              "         [1., 1.]]]], dtype=float16)>"
            ]
          },
          "metadata": {},
          "execution_count": 31
        }
      ]
    },
    {
      "cell_type": "code",
      "source": [
        "#tensors filled with 0\n",
        "tf.zeros(\n",
        "    [2,],\n",
        "    dtype=tf.dtypes.float16,\n",
        "    name=None,\n",
        "    layout=None\n",
        ")"
      ],
      "metadata": {
        "colab": {
          "base_uri": "https://localhost:8080/"
        },
        "id": "iQ6Bp9grX_QN",
        "outputId": "8f126ddd-247f-4009-e07e-145872081dae"
      },
      "execution_count": 34,
      "outputs": [
        {
          "output_type": "execute_result",
          "data": {
            "text/plain": [
              "<tf.Tensor: shape=(2,), dtype=float16, numpy=array([0., 0.], dtype=float16)>"
            ]
          },
          "metadata": {},
          "execution_count": 34
        }
      ]
    },
    {
      "cell_type": "code",
      "source": [
        "#tensors filled with custom values\n",
        "tensor_ten_filled = tf.fill(\n",
        "    [2,2,3],\n",
        "    2*5.0,\n",
        ")"
      ],
      "metadata": {
        "id": "b0xWbJPyYlYN"
      },
      "execution_count": 42,
      "outputs": []
    },
    {
      "cell_type": "code",
      "source": [
        "#gives a tensor filled with 1 of the similar shape of the tensor given as input.\n",
        "tf.ones_like(tensor_ten_filled)"
      ],
      "metadata": {
        "colab": {
          "base_uri": "https://localhost:8080/"
        },
        "id": "pv5kuTtQZJcn",
        "outputId": "48cfd644-450a-4a0e-8c15-f1b6b59f9392"
      },
      "execution_count": 43,
      "outputs": [
        {
          "output_type": "execute_result",
          "data": {
            "text/plain": [
              "<tf.Tensor: shape=(2, 2, 3), dtype=float32, numpy=\n",
              "array([[[1., 1., 1.],\n",
              "        [1., 1., 1.]],\n",
              "\n",
              "       [[1., 1., 1.],\n",
              "        [1., 1., 1.]]], dtype=float32)>"
            ]
          },
          "metadata": {},
          "execution_count": 43
        }
      ]
    },
    {
      "cell_type": "code",
      "source": [
        "random_tensor = tf.constant([\n",
        "    [1,1,1],\n",
        "    [1,1,1],\n",
        "    [1,1,1],\n",
        "])\n",
        "print(random_tensor)"
      ],
      "metadata": {
        "colab": {
          "base_uri": "https://localhost:8080/"
        },
        "id": "fu2dcC_IaI1X",
        "outputId": "6a7e6e75-bfe2-4904-89e1-098350028881"
      },
      "execution_count": 50,
      "outputs": [
        {
          "output_type": "stream",
          "name": "stdout",
          "text": [
            "tf.Tensor(\n",
            "[[1 1 1]\n",
            " [1 1 1]\n",
            " [1 1 1]], shape=(3, 3), dtype=int32)\n"
          ]
        }
      ]
    },
    {
      "cell_type": "code",
      "source": [
        "print(tf.shape(random_tensor))\n",
        "print(tf.size(random_tensor))\n",
        "print(tf.rank(random_tensor))"
      ],
      "metadata": {
        "colab": {
          "base_uri": "https://localhost:8080/"
        },
        "id": "5hvwOJQGbhQa",
        "outputId": "e09b63cf-5274-4f34-baf4-6d90c897e87f"
      },
      "execution_count": 52,
      "outputs": [
        {
          "output_type": "stream",
          "name": "stdout",
          "text": [
            "tf.Tensor([3 3], shape=(2,), dtype=int32)\n",
            "tf.Tensor(9, shape=(), dtype=int32)\n",
            "tf.Tensor(2, shape=(), dtype=int32)\n"
          ]
        }
      ]
    },
    {
      "cell_type": "markdown",
      "source": [
        "## Tensors from Normal Distribution"
      ],
      "metadata": {
        "id": "j3eTmQLqcsSm"
      }
    },
    {
      "cell_type": "code",
      "source": [
        "tf.random.normal(\n",
        "    shape,\n",
        "    mean=0.0,\n",
        "    stddev=1.0,\n",
        "    dtype=tf.dtypes.float32,\n",
        "    seed=None,\n",
        "    name=None\n",
        ")\n"
      ],
      "metadata": {
        "id": "R-yzU5tMcvWd"
      },
      "execution_count": null,
      "outputs": []
    }
  ]
}