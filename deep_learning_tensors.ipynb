{
  "nbformat": 4,
  "nbformat_minor": 0,
  "metadata": {
    "colab": {
      "provenance": [],
      "authorship_tag": "ABX9TyOajt32TH1NrqvSHNaXrPI9"
    },
    "kernelspec": {
      "name": "python3",
      "display_name": "Python 3"
    },
    "language_info": {
      "name": "python"
    }
  },
  "cells": [
    {
      "cell_type": "code",
      "execution_count": 2,
      "metadata": {
        "id": "aVl5tv9JIi_n"
      },
      "outputs": [],
      "source": [
        "import tensorflow as tf"
      ]
    },
    {
      "cell_type": "code",
      "source": [
        "print(tf.__version__)"
      ],
      "metadata": {
        "colab": {
          "base_uri": "https://localhost:8080/"
        },
        "id": "h7mE1FChl2Kz",
        "outputId": "56516f4c-4aa3-4f57-aa76-78f5e41588f7"
      },
      "execution_count": 3,
      "outputs": [
        {
          "output_type": "stream",
          "name": "stdout",
          "text": [
            "2.14.0\n"
          ]
        }
      ]
    },
    {
      "cell_type": "markdown",
      "source": [
        "## 1D Tensors"
      ],
      "metadata": {
        "id": "Od9U7ZjWniAX"
      }
    },
    {
      "cell_type": "code",
      "source": [
        "tensor_zero_d = tf.constant(4)"
      ],
      "metadata": {
        "id": "7JjwawTUl6z-"
      },
      "execution_count": null,
      "outputs": []
    },
    {
      "cell_type": "code",
      "source": [
        "print(tensor_zero_d)"
      ],
      "metadata": {
        "colab": {
          "base_uri": "https://localhost:8080/"
        },
        "id": "tlVa89hDmEOy",
        "outputId": "5cfaaffe-765b-4c83-ec9f-12759a07eab2"
      },
      "execution_count": null,
      "outputs": [
        {
          "output_type": "stream",
          "name": "stdout",
          "text": [
            "tf.Tensor(4, shape=(), dtype=int32)\n"
          ]
        }
      ]
    },
    {
      "cell_type": "code",
      "source": [
        "tensor_zero_d = tf.constant([2, 0, -3, 8, 10.])\n",
        "print(tensor_zero_d)"
      ],
      "metadata": {
        "colab": {
          "base_uri": "https://localhost:8080/"
        },
        "id": "rrqQLz22mG4T",
        "outputId": "0942c05e-cbe7-4449-ecbe-d531cab98fee"
      },
      "execution_count": 13,
      "outputs": [
        {
          "output_type": "stream",
          "name": "stdout",
          "text": [
            "tf.Tensor([ 2.  0. -3.  8. 10.], shape=(5,), dtype=float32)\n"
          ]
        }
      ]
    },
    {
      "cell_type": "code",
      "source": [
        "casted_tensor_zero_d = tf.cast(\n",
        "    tensor_zero_d, dtype=tf.int64\n",
        ")"
      ],
      "metadata": {
        "id": "yXp-Cqsv3byX"
      },
      "execution_count": 14,
      "outputs": []
    },
    {
      "cell_type": "code",
      "source": [
        "print(casted_tensor_zero_d)"
      ],
      "metadata": {
        "colab": {
          "base_uri": "https://localhost:8080/"
        },
        "id": "QA_SAS413vYP",
        "outputId": "362a5894-a02f-4e7e-d8d5-b5fb0498ab26"
      },
      "execution_count": 15,
      "outputs": [
        {
          "output_type": "stream",
          "name": "stdout",
          "text": [
            "tf.Tensor([ 2  0 -3  8 10], shape=(5,), dtype=int64)\n"
          ]
        }
      ]
    },
    {
      "cell_type": "code",
      "source": [
        "tf.cast(\n",
        "    tensor_zero_d, dtype=bool\n",
        ")"
      ],
      "metadata": {
        "colab": {
          "base_uri": "https://localhost:8080/"
        },
        "id": "CGduxBtR4PnQ",
        "outputId": "9e703e15-e6b2-4b4d-acf9-e3b74ccd2ff1"
      },
      "execution_count": 16,
      "outputs": [
        {
          "output_type": "execute_result",
          "data": {
            "text/plain": [
              "<tf.Tensor: shape=(5,), dtype=bool, numpy=array([ True, False,  True,  True,  True])>"
            ]
          },
          "metadata": {},
          "execution_count": 16
        }
      ]
    },
    {
      "cell_type": "markdown",
      "source": [
        "## 2D Tensors"
      ],
      "metadata": {
        "id": "yrFnPrJ_mk4Q"
      }
    },
    {
      "cell_type": "code",
      "source": [
        "tensor_two_d = tf.constant([\n",
        "    [1, 2, 0],\n",
        "    [3, 5, -2],\n",
        "    [1, 5, 6],\n",
        "    [2, 3, 8],\n",
        "])"
      ],
      "metadata": {
        "id": "dTVzfgvomUXr"
      },
      "execution_count": null,
      "outputs": []
    },
    {
      "cell_type": "code",
      "source": [
        "print(tensor_two_d)\n",
        "print(tensor_two_d.ndim)"
      ],
      "metadata": {
        "colab": {
          "base_uri": "https://localhost:8080/"
        },
        "id": "SPbAhWAYmyrh",
        "outputId": "eb99825e-6c48-4c05-d0fb-924177e03378"
      },
      "execution_count": null,
      "outputs": [
        {
          "output_type": "stream",
          "name": "stdout",
          "text": [
            "tf.Tensor(\n",
            "[[ 1  2  0]\n",
            " [ 3  5 -2]\n",
            " [ 1  5  6]\n",
            " [ 2  3  8]], shape=(4, 3), dtype=int32)\n",
            "2\n"
          ]
        }
      ]
    },
    {
      "cell_type": "markdown",
      "source": [
        "## 3D Tensors"
      ],
      "metadata": {
        "id": "HPKRppp_nDN7"
      }
    },
    {
      "cell_type": "code",
      "source": [
        "tensor_three_d = tf.constant([\n",
        "    [[1, 2, 0],\n",
        "    [3, 5, -2],\n",
        "    [1, 5, 6],\n",
        "    [2, 3, 8],],\n",
        "    [[1, 2, 0],\n",
        "    [3, 5, -2],\n",
        "    [3, 5, -2],\n",
        "    [2, 3, 8],],\n",
        "])"
      ],
      "metadata": {
        "id": "6fjaF5vEm0w5"
      },
      "execution_count": null,
      "outputs": []
    },
    {
      "cell_type": "code",
      "source": [
        "print(tensor_three_d)"
      ],
      "metadata": {
        "colab": {
          "base_uri": "https://localhost:8080/"
        },
        "id": "WHS-F2MSnP8U",
        "outputId": "01b7e8e2-6b4f-4e70-d3af-79dad63829a6"
      },
      "execution_count": null,
      "outputs": [
        {
          "output_type": "stream",
          "name": "stdout",
          "text": [
            "tf.Tensor(\n",
            "[[[ 1  2  0]\n",
            "  [ 3  5 -2]\n",
            "  [ 1  5  6]\n",
            "  [ 2  3  8]]\n",
            "\n",
            " [[ 1  2  0]\n",
            "  [ 3  5 -2]\n",
            "  [ 3  5 -2]\n",
            "  [ 2  3  8]]], shape=(2, 4, 3), dtype=int32)\n"
          ]
        }
      ]
    },
    {
      "cell_type": "code",
      "source": [
        "print(tensor_three_d.shape)"
      ],
      "metadata": {
        "colab": {
          "base_uri": "https://localhost:8080/"
        },
        "id": "Aj5F2qIHnWuM",
        "outputId": "f3c7bfd6-efa4-46eb-944a-d85455cfe322"
      },
      "execution_count": null,
      "outputs": [
        {
          "output_type": "stream",
          "name": "stdout",
          "text": [
            "(2, 4, 3)\n"
          ]
        }
      ]
    },
    {
      "cell_type": "code",
      "source": [
        "print(tensor_three_d.ndim)"
      ],
      "metadata": {
        "id": "i10mjQWsoQZ2",
        "outputId": "454e1340-5497-4ebf-c10c-0bd2761b21ae",
        "colab": {
          "base_uri": "https://localhost:8080/"
        }
      },
      "execution_count": null,
      "outputs": [
        {
          "output_type": "stream",
          "name": "stdout",
          "text": [
            "3\n"
          ]
        }
      ]
    },
    {
      "cell_type": "markdown",
      "source": [
        "## 4D Tensors"
      ],
      "metadata": {
        "id": "5ovBpmqawRGw"
      }
    },
    {
      "cell_type": "code",
      "source": [
        "tensor_four_d = tf.constant([\n",
        "      [\n",
        "        [[1, 2, 0],\n",
        "        [2, 3, 8],],\n",
        "\n",
        "        [[1, 2, 0],\n",
        "        [2, 3, 8],],\n",
        "\n",
        "        [[1, 2, 0],\n",
        "        [2, 3, 8],],\n",
        "\n",
        "        [[1, 2, 0],\n",
        "        [2, 3, 8],],\n",
        "      ],\n",
        "      [\n",
        "        [[5, 25, 123],\n",
        "        [235, 3, 198],],\n",
        "\n",
        "        [[1, 21, 53],\n",
        "        [200, 328, 8],],\n",
        "\n",
        "        [[15, 23, 5],\n",
        "        [2, 3, 89],],\n",
        "\n",
        "        [[1, 2, 90],\n",
        "        [22, 36, 87],],\n",
        "      ],\n",
        "      [\n",
        "        [[5, 25, 123],\n",
        "        [235, 3, 198],],\n",
        "\n",
        "        [[1, 21, 53],\n",
        "        [200, 328, 8],],\n",
        "\n",
        "        [[15, 23, 5],\n",
        "        [2, 3, 89],],\n",
        "\n",
        "        [[1, 2, 90],\n",
        "        [22, 36, 87],],\n",
        "      ]\n",
        "], dtype=tf.float32)"
      ],
      "metadata": {
        "id": "cCmBGgvcoR89"
      },
      "execution_count": 7,
      "outputs": []
    },
    {
      "cell_type": "code",
      "source": [
        "print(tensor_four_d)\n",
        "print(tensor_four_d.shape)\n",
        "print(tensor_four_d.ndim)"
      ],
      "metadata": {
        "colab": {
          "base_uri": "https://localhost:8080/"
        },
        "id": "vuBAduInx0HA",
        "outputId": "56659687-1b8e-4f53-9e6e-188b6c685416"
      },
      "execution_count": 8,
      "outputs": [
        {
          "output_type": "stream",
          "name": "stdout",
          "text": [
            "tf.Tensor(\n",
            "[[[[  1.   2.   0.]\n",
            "   [  2.   3.   8.]]\n",
            "\n",
            "  [[  1.   2.   0.]\n",
            "   [  2.   3.   8.]]\n",
            "\n",
            "  [[  1.   2.   0.]\n",
            "   [  2.   3.   8.]]\n",
            "\n",
            "  [[  1.   2.   0.]\n",
            "   [  2.   3.   8.]]]\n",
            "\n",
            "\n",
            " [[[  5.  25. 123.]\n",
            "   [235.   3. 198.]]\n",
            "\n",
            "  [[  1.  21.  53.]\n",
            "   [200. 328.   8.]]\n",
            "\n",
            "  [[ 15.  23.   5.]\n",
            "   [  2.   3.  89.]]\n",
            "\n",
            "  [[  1.   2.  90.]\n",
            "   [ 22.  36.  87.]]]\n",
            "\n",
            "\n",
            " [[[  5.  25. 123.]\n",
            "   [235.   3. 198.]]\n",
            "\n",
            "  [[  1.  21.  53.]\n",
            "   [200. 328.   8.]]\n",
            "\n",
            "  [[ 15.  23.   5.]\n",
            "   [  2.   3.  89.]]\n",
            "\n",
            "  [[  1.   2.  90.]\n",
            "   [ 22.  36.  87.]]]], shape=(3, 4, 2, 3), dtype=float32)\n",
            "(3, 4, 2, 3)\n",
            "4\n"
          ]
        }
      ]
    },
    {
      "cell_type": "markdown",
      "source": [
        "## Complex Data Type"
      ],
      "metadata": {
        "id": "1pGRPIQ12bj3"
      }
    },
    {
      "cell_type": "code",
      "source": [
        "real = tf.constant([2.25])\n",
        "imag = tf.constant([4.75])\n",
        "tf.complex(real, imag)"
      ],
      "metadata": {
        "colab": {
          "base_uri": "https://localhost:8080/"
        },
        "id": "J5RXRQe1yL21",
        "outputId": "089cbf5b-b6c4-4e9e-8bea-48ea12d8f398"
      },
      "execution_count": 12,
      "outputs": [
        {
          "output_type": "execute_result",
          "data": {
            "text/plain": [
              "<tf.Tensor: shape=(1,), dtype=complex64, numpy=array([2.25+4.75j], dtype=complex64)>"
            ]
          },
          "metadata": {},
          "execution_count": 12
        }
      ]
    }
  ]
}