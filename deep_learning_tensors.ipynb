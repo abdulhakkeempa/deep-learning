{
  "nbformat": 4,
  "nbformat_minor": 0,
  "metadata": {
    "colab": {
      "provenance": [],
      "authorship_tag": "ABX9TyOA1aHwCFczwJ4DDxVL4Rx0"
    },
    "kernelspec": {
      "name": "python3",
      "display_name": "Python 3"
    },
    "language_info": {
      "name": "python"
    }
  },
  "cells": [
    {
      "cell_type": "code",
      "execution_count": 1,
      "metadata": {
        "id": "aVl5tv9JIi_n"
      },
      "outputs": [],
      "source": [
        "import tensorflow as tf"
      ]
    },
    {
      "cell_type": "code",
      "source": [
        "print(tf.__version__)"
      ],
      "metadata": {
        "colab": {
          "base_uri": "https://localhost:8080/"
        },
        "id": "h7mE1FChl2Kz",
        "outputId": "f922f068-4c4f-46af-ce5e-b6753957d1f1"
      },
      "execution_count": null,
      "outputs": [
        {
          "output_type": "stream",
          "name": "stdout",
          "text": [
            "2.14.0\n"
          ]
        }
      ]
    },
    {
      "cell_type": "markdown",
      "source": [
        "## 1D Tensors"
      ],
      "metadata": {
        "id": "Od9U7ZjWniAX"
      }
    },
    {
      "cell_type": "code",
      "source": [
        "tensor_zero_d = tf.constant(4)"
      ],
      "metadata": {
        "id": "7JjwawTUl6z-"
      },
      "execution_count": null,
      "outputs": []
    },
    {
      "cell_type": "code",
      "source": [
        "print(tensor_zero_d)"
      ],
      "metadata": {
        "colab": {
          "base_uri": "https://localhost:8080/"
        },
        "id": "tlVa89hDmEOy",
        "outputId": "5cfaaffe-765b-4c83-ec9f-12759a07eab2"
      },
      "execution_count": null,
      "outputs": [
        {
          "output_type": "stream",
          "name": "stdout",
          "text": [
            "tf.Tensor(4, shape=(), dtype=int32)\n"
          ]
        }
      ]
    },
    {
      "cell_type": "code",
      "source": [
        "tensor_zero_d = tf.constant([2, 0, -3, 8, 10.])\n",
        "print(tensor_zero_d)"
      ],
      "metadata": {
        "colab": {
          "base_uri": "https://localhost:8080/"
        },
        "id": "rrqQLz22mG4T",
        "outputId": "0942c05e-cbe7-4449-ecbe-d531cab98fee"
      },
      "execution_count": null,
      "outputs": [
        {
          "output_type": "stream",
          "name": "stdout",
          "text": [
            "tf.Tensor([ 2.  0. -3.  8. 10.], shape=(5,), dtype=float32)\n"
          ]
        }
      ]
    },
    {
      "cell_type": "code",
      "source": [
        "casted_tensor_zero_d = tf.cast(\n",
        "    tensor_zero_d, dtype=tf.int64\n",
        ")"
      ],
      "metadata": {
        "id": "yXp-Cqsv3byX"
      },
      "execution_count": null,
      "outputs": []
    },
    {
      "cell_type": "code",
      "source": [
        "print(casted_tensor_zero_d)"
      ],
      "metadata": {
        "colab": {
          "base_uri": "https://localhost:8080/"
        },
        "id": "QA_SAS413vYP",
        "outputId": "362a5894-a02f-4e7e-d8d5-b5fb0498ab26"
      },
      "execution_count": null,
      "outputs": [
        {
          "output_type": "stream",
          "name": "stdout",
          "text": [
            "tf.Tensor([ 2  0 -3  8 10], shape=(5,), dtype=int64)\n"
          ]
        }
      ]
    },
    {
      "cell_type": "code",
      "source": [
        "tf.cast(\n",
        "    tensor_zero_d, dtype=bool\n",
        ")"
      ],
      "metadata": {
        "id": "CGduxBtR4PnQ",
        "outputId": "9e703e15-e6b2-4b4d-acf9-e3b74ccd2ff1",
        "colab": {
          "base_uri": "https://localhost:8080/"
        }
      },
      "execution_count": null,
      "outputs": [
        {
          "output_type": "execute_result",
          "data": {
            "text/plain": [
              "<tf.Tensor: shape=(5,), dtype=bool, numpy=array([ True, False,  True,  True,  True])>"
            ]
          },
          "metadata": {},
          "execution_count": 16
        }
      ]
    },
    {
      "cell_type": "markdown",
      "source": [
        "## 2D Tensors"
      ],
      "metadata": {
        "id": "yrFnPrJ_mk4Q"
      }
    },
    {
      "cell_type": "code",
      "source": [
        "tensor_two_d = tf.constant([\n",
        "    [1, 2, 0],\n",
        "    [3, 5, -2],\n",
        "    [1, 5, 6],\n",
        "    [2, 3, 8],\n",
        "])"
      ],
      "metadata": {
        "id": "dTVzfgvomUXr"
      },
      "execution_count": 27,
      "outputs": []
    },
    {
      "cell_type": "code",
      "source": [
        "print(tensor_two_d)\n",
        "print(tensor_two_d.ndim)"
      ],
      "metadata": {
        "colab": {
          "base_uri": "https://localhost:8080/"
        },
        "id": "SPbAhWAYmyrh",
        "outputId": "eb99825e-6c48-4c05-d0fb-924177e03378"
      },
      "execution_count": null,
      "outputs": [
        {
          "output_type": "stream",
          "name": "stdout",
          "text": [
            "tf.Tensor(\n",
            "[[ 1  2  0]\n",
            " [ 3  5 -2]\n",
            " [ 1  5  6]\n",
            " [ 2  3  8]], shape=(4, 3), dtype=int32)\n",
            "2\n"
          ]
        }
      ]
    },
    {
      "cell_type": "markdown",
      "source": [
        "## 3D Tensors"
      ],
      "metadata": {
        "id": "HPKRppp_nDN7"
      }
    },
    {
      "cell_type": "code",
      "source": [
        "tensor_three_d = tf.constant([\n",
        "    [[1, 2, 0],\n",
        "    [3, 5, -2],\n",
        "    [1, 5, 6],\n",
        "    [2, 3, 8],],\n",
        "    [[1, 2, 0],\n",
        "    [3, 5, -2],\n",
        "    [3, 5, -2],\n",
        "    [2, 3, 8],],\n",
        "])"
      ],
      "metadata": {
        "id": "6fjaF5vEm0w5"
      },
      "execution_count": null,
      "outputs": []
    },
    {
      "cell_type": "code",
      "source": [
        "print(tensor_three_d)"
      ],
      "metadata": {
        "colab": {
          "base_uri": "https://localhost:8080/"
        },
        "id": "WHS-F2MSnP8U",
        "outputId": "01b7e8e2-6b4f-4e70-d3af-79dad63829a6"
      },
      "execution_count": null,
      "outputs": [
        {
          "output_type": "stream",
          "name": "stdout",
          "text": [
            "tf.Tensor(\n",
            "[[[ 1  2  0]\n",
            "  [ 3  5 -2]\n",
            "  [ 1  5  6]\n",
            "  [ 2  3  8]]\n",
            "\n",
            " [[ 1  2  0]\n",
            "  [ 3  5 -2]\n",
            "  [ 3  5 -2]\n",
            "  [ 2  3  8]]], shape=(2, 4, 3), dtype=int32)\n"
          ]
        }
      ]
    },
    {
      "cell_type": "code",
      "source": [
        "print(tensor_three_d.shape)"
      ],
      "metadata": {
        "colab": {
          "base_uri": "https://localhost:8080/"
        },
        "id": "Aj5F2qIHnWuM",
        "outputId": "f3c7bfd6-efa4-46eb-944a-d85455cfe322"
      },
      "execution_count": null,
      "outputs": [
        {
          "output_type": "stream",
          "name": "stdout",
          "text": [
            "(2, 4, 3)\n"
          ]
        }
      ]
    },
    {
      "cell_type": "code",
      "source": [
        "print(tensor_three_d.ndim)"
      ],
      "metadata": {
        "id": "i10mjQWsoQZ2",
        "outputId": "454e1340-5497-4ebf-c10c-0bd2761b21ae",
        "colab": {
          "base_uri": "https://localhost:8080/"
        }
      },
      "execution_count": null,
      "outputs": [
        {
          "output_type": "stream",
          "name": "stdout",
          "text": [
            "3\n"
          ]
        }
      ]
    },
    {
      "cell_type": "markdown",
      "source": [
        "## 4D Tensors"
      ],
      "metadata": {
        "id": "5ovBpmqawRGw"
      }
    },
    {
      "cell_type": "code",
      "source": [
        "tensor_four_d = tf.constant([\n",
        "      [\n",
        "        [[1, 2, 0],\n",
        "        [2, 3, 8],],\n",
        "\n",
        "        [[1, 2, 0],\n",
        "        [2, 3, 8],],\n",
        "\n",
        "        [[1, 2, 0],\n",
        "        [2, 3, 8],],\n",
        "\n",
        "        [[1, 2, 0],\n",
        "        [2, 3, 8],],\n",
        "      ],\n",
        "      [\n",
        "        [[5, 25, 123],\n",
        "        [235, 3, 198],],\n",
        "\n",
        "        [[1, 21, 53],\n",
        "        [200, 328, 8],],\n",
        "\n",
        "        [[15, 23, 5],\n",
        "        [2, 3, 89],],\n",
        "\n",
        "        [[1, 2, 90],\n",
        "        [22, 36, 87],],\n",
        "      ],\n",
        "      [\n",
        "        [[5, 25, 123],\n",
        "        [235, 3, 198],],\n",
        "\n",
        "        [[1, 21, 53],\n",
        "        [200, 328, 8],],\n",
        "\n",
        "        [[15, 23, 5],\n",
        "        [2, 3, 89],],\n",
        "\n",
        "        [[1, 2, 90],\n",
        "        [22, 36, 87],],\n",
        "      ]\n",
        "], dtype=tf.float32)"
      ],
      "metadata": {
        "id": "cCmBGgvcoR89"
      },
      "execution_count": null,
      "outputs": []
    },
    {
      "cell_type": "code",
      "source": [
        "print(tensor_four_d)\n",
        "print(tensor_four_d.shape)\n",
        "print(tensor_four_d.ndim)"
      ],
      "metadata": {
        "colab": {
          "base_uri": "https://localhost:8080/"
        },
        "id": "vuBAduInx0HA",
        "outputId": "56659687-1b8e-4f53-9e6e-188b6c685416"
      },
      "execution_count": null,
      "outputs": [
        {
          "output_type": "stream",
          "name": "stdout",
          "text": [
            "tf.Tensor(\n",
            "[[[[  1.   2.   0.]\n",
            "   [  2.   3.   8.]]\n",
            "\n",
            "  [[  1.   2.   0.]\n",
            "   [  2.   3.   8.]]\n",
            "\n",
            "  [[  1.   2.   0.]\n",
            "   [  2.   3.   8.]]\n",
            "\n",
            "  [[  1.   2.   0.]\n",
            "   [  2.   3.   8.]]]\n",
            "\n",
            "\n",
            " [[[  5.  25. 123.]\n",
            "   [235.   3. 198.]]\n",
            "\n",
            "  [[  1.  21.  53.]\n",
            "   [200. 328.   8.]]\n",
            "\n",
            "  [[ 15.  23.   5.]\n",
            "   [  2.   3.  89.]]\n",
            "\n",
            "  [[  1.   2.  90.]\n",
            "   [ 22.  36.  87.]]]\n",
            "\n",
            "\n",
            " [[[  5.  25. 123.]\n",
            "   [235.   3. 198.]]\n",
            "\n",
            "  [[  1.  21.  53.]\n",
            "   [200. 328.   8.]]\n",
            "\n",
            "  [[ 15.  23.   5.]\n",
            "   [  2.   3.  89.]]\n",
            "\n",
            "  [[  1.   2.  90.]\n",
            "   [ 22.  36.  87.]]]], shape=(3, 4, 2, 3), dtype=float32)\n",
            "(3, 4, 2, 3)\n",
            "4\n"
          ]
        }
      ]
    },
    {
      "cell_type": "markdown",
      "source": [
        "## Complex Data Type"
      ],
      "metadata": {
        "id": "1pGRPIQ12bj3"
      }
    },
    {
      "cell_type": "code",
      "source": [
        "real = tf.constant([2.25])\n",
        "imag = tf.constant([4.75])\n",
        "tf.complex(real, imag)"
      ],
      "metadata": {
        "colab": {
          "base_uri": "https://localhost:8080/"
        },
        "id": "J5RXRQe1yL21",
        "outputId": "089cbf5b-b6c4-4e9e-8bea-48ea12d8f398"
      },
      "execution_count": null,
      "outputs": [
        {
          "output_type": "execute_result",
          "data": {
            "text/plain": [
              "<tf.Tensor: shape=(1,), dtype=complex64, numpy=array([2.25+4.75j], dtype=complex64)>"
            ]
          },
          "metadata": {},
          "execution_count": 12
        }
      ]
    },
    {
      "cell_type": "markdown",
      "source": [
        "## Tensor String"
      ],
      "metadata": {
        "id": "kQCHk2mZVxDG"
      }
    },
    {
      "cell_type": "code",
      "source": [
        "tensor_string = tf.constant([\"hello world\", \"hi\"])\n",
        "print(tensor_string)"
      ],
      "metadata": {
        "colab": {
          "base_uri": "https://localhost:8080/"
        },
        "id": "WkeEDrvbVy9g",
        "outputId": "505b36fc-68c8-4817-8c9a-af83cbface04"
      },
      "execution_count": null,
      "outputs": [
        {
          "output_type": "stream",
          "name": "stdout",
          "text": [
            "tf.Tensor([b'hello world' b'hi'], shape=(2,), dtype=string)\n"
          ]
        }
      ]
    },
    {
      "cell_type": "markdown",
      "source": [
        "## Numpy to Tensorflow"
      ],
      "metadata": {
        "id": "TzVKY-K4WI0z"
      }
    },
    {
      "cell_type": "code",
      "source": [
        "import numpy as np"
      ],
      "metadata": {
        "id": "QIXam9j2WLqt"
      },
      "execution_count": null,
      "outputs": []
    },
    {
      "cell_type": "code",
      "source": [
        "np_array = np.array([1,2,3])"
      ],
      "metadata": {
        "id": "NaXlhxLFWNOI"
      },
      "execution_count": null,
      "outputs": []
    },
    {
      "cell_type": "code",
      "source": [
        "print(np_array.shape)"
      ],
      "metadata": {
        "colab": {
          "base_uri": "https://localhost:8080/"
        },
        "id": "0Ll2jIuHWQyz",
        "outputId": "6184606b-2ad6-4429-b45f-bea2d21dc950"
      },
      "execution_count": null,
      "outputs": [
        {
          "output_type": "stream",
          "name": "stdout",
          "text": [
            "(3,)\n"
          ]
        }
      ]
    },
    {
      "cell_type": "code",
      "source": [
        "converted_tensor = tf.convert_to_tensor(np_array)"
      ],
      "metadata": {
        "id": "lXRWrkuQWS0w"
      },
      "execution_count": null,
      "outputs": []
    },
    {
      "cell_type": "code",
      "source": [
        "print(converted_tensor)"
      ],
      "metadata": {
        "colab": {
          "base_uri": "https://localhost:8080/"
        },
        "id": "_iP1ZBaCWX15",
        "outputId": "623ba086-5078-4eb1-ddb7-a4b5019f165c"
      },
      "execution_count": null,
      "outputs": [
        {
          "output_type": "stream",
          "name": "stdout",
          "text": [
            "tf.Tensor([1 2 3], shape=(3,), dtype=int64)\n"
          ]
        }
      ]
    },
    {
      "cell_type": "code",
      "source": [
        "#let's us create multi dimensional identity matrix tensors using tf.eye function\n",
        "tf.eye(\n",
        "    num_rows=5,\n",
        "    num_columns=None,\n",
        "    batch_shape=[3],\n",
        "    dtype=tf.dtypes.bool,\n",
        "    name=None\n",
        ")"
      ],
      "metadata": {
        "colab": {
          "base_uri": "https://localhost:8080/"
        },
        "id": "vBBLqNlXWZjh",
        "outputId": "51a43f5d-9963-4d86-89bc-9be9f1b28e3d"
      },
      "execution_count": null,
      "outputs": [
        {
          "output_type": "execute_result",
          "data": {
            "text/plain": [
              "<tf.Tensor: shape=(3, 5, 5), dtype=bool, numpy=\n",
              "array([[[ True, False, False, False, False],\n",
              "        [False,  True, False, False, False],\n",
              "        [False, False,  True, False, False],\n",
              "        [False, False, False,  True, False],\n",
              "        [False, False, False, False,  True]],\n",
              "\n",
              "       [[ True, False, False, False, False],\n",
              "        [False,  True, False, False, False],\n",
              "        [False, False,  True, False, False],\n",
              "        [False, False, False,  True, False],\n",
              "        [False, False, False, False,  True]],\n",
              "\n",
              "       [[ True, False, False, False, False],\n",
              "        [False,  True, False, False, False],\n",
              "        [False, False,  True, False, False],\n",
              "        [False, False, False,  True, False],\n",
              "        [False, False, False, False,  True]]])>"
            ]
          },
          "metadata": {},
          "execution_count": 26
        }
      ]
    },
    {
      "cell_type": "code",
      "source": [
        "#tensors filled with 1\n",
        "tf.ones(\n",
        "    [2,3,2,2],\n",
        "    dtype=tf.dtypes.float16,\n",
        "    name=None,\n",
        "    layout=None\n",
        ")"
      ],
      "metadata": {
        "colab": {
          "base_uri": "https://localhost:8080/"
        },
        "id": "k0JFFCbaWm2p",
        "outputId": "3321111f-4f72-45ab-bf65-0e5099e1a0be"
      },
      "execution_count": null,
      "outputs": [
        {
          "output_type": "execute_result",
          "data": {
            "text/plain": [
              "<tf.Tensor: shape=(2, 3, 2, 2), dtype=float16, numpy=\n",
              "array([[[[1., 1.],\n",
              "         [1., 1.]],\n",
              "\n",
              "        [[1., 1.],\n",
              "         [1., 1.]],\n",
              "\n",
              "        [[1., 1.],\n",
              "         [1., 1.]]],\n",
              "\n",
              "\n",
              "       [[[1., 1.],\n",
              "         [1., 1.]],\n",
              "\n",
              "        [[1., 1.],\n",
              "         [1., 1.]],\n",
              "\n",
              "        [[1., 1.],\n",
              "         [1., 1.]]]], dtype=float16)>"
            ]
          },
          "metadata": {},
          "execution_count": 31
        }
      ]
    },
    {
      "cell_type": "code",
      "source": [
        "#tensors filled with 0\n",
        "tf.zeros(\n",
        "    [2,],\n",
        "    dtype=tf.dtypes.float16,\n",
        "    name=None,\n",
        "    layout=None\n",
        ")"
      ],
      "metadata": {
        "colab": {
          "base_uri": "https://localhost:8080/"
        },
        "id": "iQ6Bp9grX_QN",
        "outputId": "8f126ddd-247f-4009-e07e-145872081dae"
      },
      "execution_count": null,
      "outputs": [
        {
          "output_type": "execute_result",
          "data": {
            "text/plain": [
              "<tf.Tensor: shape=(2,), dtype=float16, numpy=array([0., 0.], dtype=float16)>"
            ]
          },
          "metadata": {},
          "execution_count": 34
        }
      ]
    },
    {
      "cell_type": "code",
      "source": [
        "#tensors filled with custom values\n",
        "tensor_ten_filled = tf.fill(\n",
        "    [2,2,3],\n",
        "    2*5.0,\n",
        ")"
      ],
      "metadata": {
        "id": "b0xWbJPyYlYN"
      },
      "execution_count": null,
      "outputs": []
    },
    {
      "cell_type": "code",
      "source": [
        "#gives a tensor filled with 1 of the similar shape of the tensor given as input.\n",
        "tf.ones_like(tensor_ten_filled)"
      ],
      "metadata": {
        "colab": {
          "base_uri": "https://localhost:8080/"
        },
        "id": "pv5kuTtQZJcn",
        "outputId": "48cfd644-450a-4a0e-8c15-f1b6b59f9392"
      },
      "execution_count": null,
      "outputs": [
        {
          "output_type": "execute_result",
          "data": {
            "text/plain": [
              "<tf.Tensor: shape=(2, 2, 3), dtype=float32, numpy=\n",
              "array([[[1., 1., 1.],\n",
              "        [1., 1., 1.]],\n",
              "\n",
              "       [[1., 1., 1.],\n",
              "        [1., 1., 1.]]], dtype=float32)>"
            ]
          },
          "metadata": {},
          "execution_count": 43
        }
      ]
    },
    {
      "cell_type": "code",
      "source": [
        "random_tensor = tf.constant([\n",
        "    [1,1,1],\n",
        "    [1,1,1],\n",
        "    [1,1,1],\n",
        "])\n",
        "print(random_tensor)"
      ],
      "metadata": {
        "colab": {
          "base_uri": "https://localhost:8080/"
        },
        "id": "fu2dcC_IaI1X",
        "outputId": "6a7e6e75-bfe2-4904-89e1-098350028881"
      },
      "execution_count": null,
      "outputs": [
        {
          "output_type": "stream",
          "name": "stdout",
          "text": [
            "tf.Tensor(\n",
            "[[1 1 1]\n",
            " [1 1 1]\n",
            " [1 1 1]], shape=(3, 3), dtype=int32)\n"
          ]
        }
      ]
    },
    {
      "cell_type": "code",
      "source": [
        "print(tf.shape(random_tensor))\n",
        "print(tf.size(random_tensor))\n",
        "print(tf.rank(random_tensor))"
      ],
      "metadata": {
        "colab": {
          "base_uri": "https://localhost:8080/"
        },
        "id": "5hvwOJQGbhQa",
        "outputId": "e09b63cf-5274-4f34-baf4-6d90c897e87f"
      },
      "execution_count": null,
      "outputs": [
        {
          "output_type": "stream",
          "name": "stdout",
          "text": [
            "tf.Tensor([3 3], shape=(2,), dtype=int32)\n",
            "tf.Tensor(9, shape=(), dtype=int32)\n",
            "tf.Tensor(2, shape=(), dtype=int32)\n"
          ]
        }
      ]
    },
    {
      "cell_type": "markdown",
      "source": [
        "## Tensors from Normal Distribution"
      ],
      "metadata": {
        "id": "j3eTmQLqcsSm"
      }
    },
    {
      "cell_type": "code",
      "source": [
        "tf.random.set_seed(\n",
        "    5\n",
        ")"
      ],
      "metadata": {
        "id": "VYXDHJzwdSFk"
      },
      "execution_count": null,
      "outputs": []
    },
    {
      "cell_type": "code",
      "source": [
        "normal_dist_tensor = tf.random.normal(\n",
        "    [2,2],\n",
        "    mean=6.0,\n",
        "    stddev=1.0,\n",
        "    dtype=tf.dtypes.float32,\n",
        "    seed=5,\n",
        "    name=None\n",
        ")\n",
        "print(normal_dist_tensor)"
      ],
      "metadata": {
        "colab": {
          "base_uri": "https://localhost:8080/"
        },
        "id": "R-yzU5tMcvWd",
        "outputId": "b14e3959-71f6-440e-faec-9bfa8ff6c489"
      },
      "execution_count": null,
      "outputs": [
        {
          "output_type": "stream",
          "name": "stdout",
          "text": [
            "tf.Tensor(\n",
            "[[4.2759366 7.153922 ]\n",
            " [6.6372123 6.168168 ]], shape=(2, 2), dtype=float32)\n"
          ]
        }
      ]
    },
    {
      "cell_type": "code",
      "source": [
        "# setting global seed value to 5.\n",
        "tf.random.set_seed(5)\n",
        "\n",
        "random_tensor = tf.random.uniform(\n",
        "    [4,4],\n",
        "    minval=4,\n",
        "    maxval=80,\n",
        "    dtype=tf.dtypes.int32,\n",
        "    seed=5,\n",
        "    name=None\n",
        ")\n",
        "print(random_tensor)"
      ],
      "metadata": {
        "colab": {
          "base_uri": "https://localhost:8080/"
        },
        "id": "GbGLWe4fdEyB",
        "outputId": "8e33926e-1749-4b1c-b23f-46b3be1ad412"
      },
      "execution_count": null,
      "outputs": [
        {
          "output_type": "stream",
          "name": "stdout",
          "text": [
            "tf.Tensor(\n",
            "[[48 43 52 39]\n",
            " [72 39 34  6]\n",
            " [58 66 68 20]\n",
            " [15  8 50 11]], shape=(4, 4), dtype=int32)\n"
          ]
        }
      ]
    },
    {
      "cell_type": "markdown",
      "source": [
        "## Tensor Indexing"
      ],
      "metadata": {
        "id": "cvxTMwqH2cPQ"
      }
    },
    {
      "cell_type": "code",
      "source": [
        "oned_tensor_indexed = tf.random.uniform([5,], minval=2, maxval=10, dtype=tf.dtypes.int32)"
      ],
      "metadata": {
        "id": "MpG_CGlt1aex"
      },
      "execution_count": null,
      "outputs": []
    },
    {
      "cell_type": "code",
      "source": [
        "print(oned_tensor_indexed)\n",
        "print(oned_tensor_indexed[4::-1])"
      ],
      "metadata": {
        "colab": {
          "base_uri": "https://localhost:8080/"
        },
        "id": "bU9PuXSH2qrj",
        "outputId": "fc42f2c5-417d-4664-8e3f-998f314517cd"
      },
      "execution_count": null,
      "outputs": [
        {
          "output_type": "stream",
          "name": "stdout",
          "text": [
            "tf.Tensor([8 9 2 8 5], shape=(5,), dtype=int32)\n",
            "tf.Tensor([5 8 2 9 8], shape=(5,), dtype=int32)\n"
          ]
        }
      ]
    },
    {
      "cell_type": "code",
      "source": [
        "twod_tensor_indexed = tf.random.uniform([5,5], minval=2, maxval=10, dtype=tf.dtypes.int32)"
      ],
      "metadata": {
        "id": "adaKhZmk3TVL"
      },
      "execution_count": null,
      "outputs": []
    },
    {
      "cell_type": "code",
      "source": [
        "#indexing with 2d tensors\n",
        "print(twod_tensor_indexed)\n",
        "print(twod_tensor_indexed[3::-1,2:4])"
      ],
      "metadata": {
        "colab": {
          "base_uri": "https://localhost:8080/"
        },
        "id": "Jtmx-ZOx3fCY",
        "outputId": "3867b42a-088a-49ee-e010-f243afb50c95"
      },
      "execution_count": null,
      "outputs": [
        {
          "output_type": "stream",
          "name": "stdout",
          "text": [
            "tf.Tensor(\n",
            "[[7 6 2 8 8]\n",
            " [3 6 9 3 8]\n",
            " [2 7 5 2 8]\n",
            " [2 6 9 3 5]\n",
            " [3 8 4 8 3]], shape=(5, 5), dtype=int32)\n",
            "tf.Tensor(\n",
            "[[9 3]\n",
            " [5 2]\n",
            " [9 3]\n",
            " [2 8]], shape=(4, 2), dtype=int32)\n"
          ]
        }
      ]
    },
    {
      "cell_type": "code",
      "source": [
        "print(twod_tensor_indexed[...,0])"
      ],
      "metadata": {
        "colab": {
          "base_uri": "https://localhost:8080/"
        },
        "id": "SRzd6zWh3hD0",
        "outputId": "61cb0637-660e-491a-92c2-63e9fd344ef5"
      },
      "execution_count": null,
      "outputs": [
        {
          "output_type": "stream",
          "name": "stdout",
          "text": [
            "tf.Tensor([7 3 2 2 3], shape=(5,), dtype=int32)\n"
          ]
        }
      ]
    },
    {
      "cell_type": "code",
      "source": [
        "threed_tensor_indexed = tf.random.uniform([4,2,3], minval=2, maxval=10, dtype=tf.dtypes.int32)"
      ],
      "metadata": {
        "id": "aJnk-t0F_wUF"
      },
      "execution_count": null,
      "outputs": []
    },
    {
      "cell_type": "code",
      "source": [
        "print(threed_tensor_indexed)\n",
        "print(50*\"*\", end=\"\\n\")\n",
        "print(threed_tensor_indexed[..., :,2])"
      ],
      "metadata": {
        "colab": {
          "base_uri": "https://localhost:8080/"
        },
        "id": "NCYgR3S__-GX",
        "outputId": "62506a02-83a8-4bf9-df05-ddab5c1340e2"
      },
      "execution_count": null,
      "outputs": [
        {
          "output_type": "stream",
          "name": "stdout",
          "text": [
            "tf.Tensor(\n",
            "[[[9 6 7]\n",
            "  [6 7 4]]\n",
            "\n",
            " [[9 4 9]\n",
            "  [8 8 4]]\n",
            "\n",
            " [[3 6 9]\n",
            "  [7 5 7]]\n",
            "\n",
            " [[2 4 4]\n",
            "  [8 5 6]]], shape=(4, 2, 3), dtype=int32)\n",
            "**************************************************\n",
            "tf.Tensor(\n",
            "[[7 4]\n",
            " [9 4]\n",
            " [9 7]\n",
            " [4 6]], shape=(4, 2), dtype=int32)\n"
          ]
        }
      ]
    },
    {
      "cell_type": "markdown",
      "source": [
        "## Tensorflow Math Operations"
      ],
      "metadata": {
        "id": "1xJpLZyZCW7G"
      }
    },
    {
      "cell_type": "code",
      "source": [
        "x_abs = tf.constant([1, -2, 3])\n",
        "print(tf.math.abs(x_abs))"
      ],
      "metadata": {
        "colab": {
          "base_uri": "https://localhost:8080/"
        },
        "id": "u17J7tMEC2AN",
        "outputId": "72ca221b-1bc9-476e-ee1a-18b0da78ef29"
      },
      "execution_count": null,
      "outputs": [
        {
          "output_type": "stream",
          "name": "stdout",
          "text": [
            "tf.Tensor([1 2 3], shape=(3,), dtype=int32)\n"
          ]
        }
      ]
    },
    {
      "cell_type": "code",
      "source": [
        "x = tf.constant([[-2.25 + 4.75j]])\n",
        "tf.abs(x)"
      ],
      "metadata": {
        "colab": {
          "base_uri": "https://localhost:8080/"
        },
        "id": "HqzLjhWBDBUU",
        "outputId": "69ed2468-7af2-44b9-d88b-f26960c3f455"
      },
      "execution_count": null,
      "outputs": [
        {
          "output_type": "execute_result",
          "data": {
            "text/plain": [
              "<tf.Tensor: shape=(1, 1), dtype=float64, numpy=array([[5.25594901]])>"
            ]
          },
          "metadata": {},
          "execution_count": 136
        }
      ]
    },
    {
      "cell_type": "code",
      "source": [
        "x1 = tf.constant([1,2,3,4,5,6])\n",
        "x2 = tf.constant([5,2,30,41,52,63])\n",
        "\n",
        "print(tf.add(x1, x2))\n",
        "print(tf.subtract(x2, x1))"
      ],
      "metadata": {
        "colab": {
          "base_uri": "https://localhost:8080/"
        },
        "id": "ETudlIHMEIHc",
        "outputId": "f1435ad0-39b3-4ebf-f386-f02160314770"
      },
      "execution_count": null,
      "outputs": [
        {
          "output_type": "stream",
          "name": "stdout",
          "text": [
            "tf.Tensor([ 6  4 33 45 57 69], shape=(6,), dtype=int32)\n",
            "tf.Tensor([ 4  0 27 37 47 57], shape=(6,), dtype=int32)\n"
          ]
        }
      ]
    },
    {
      "cell_type": "code",
      "source": [
        "tf.math.acos(\n",
        "    tf.cast(x1, dtype=tf.float32), name=None\n",
        ")"
      ],
      "metadata": {
        "colab": {
          "base_uri": "https://localhost:8080/"
        },
        "id": "YjKA3aauEaa8",
        "outputId": "74d2209f-ec4b-4215-c866-de52435388f4"
      },
      "execution_count": null,
      "outputs": [
        {
          "output_type": "execute_result",
          "data": {
            "text/plain": [
              "<tf.Tensor: shape=(6,), dtype=float32, numpy=array([ 0., nan, nan, nan, nan, nan], dtype=float32)>"
            ]
          },
          "metadata": {},
          "execution_count": 141
        }
      ]
    },
    {
      "cell_type": "code",
      "source": [
        "x_1 = tf.constant([1,2,3,4,5,6])\n",
        "x_2 = tf.constant([5])\n",
        "x_2_streched = tf.constant([5, 5, 5, 5, 5, 5])\n",
        "x_2_temp = tf.constant([5, 2])\n",
        "\n",
        "print(tf.add(x_1, x_2)) # this will strech the tensor to the size of x_1 with same value in x_2\n",
        "print(tf.subtract(x_1, x_2)) # this will strech the tensor to the size of x_1 with same value in x_2\n",
        "print(tf.add(x_1, x_2_streched))\n",
        "# print(tf.add(x_1, x_2_temp)) # this will throw and error due to variance in the sizes"
      ],
      "metadata": {
        "id": "VJrh4rtTEky8",
        "colab": {
          "base_uri": "https://localhost:8080/"
        },
        "outputId": "06c87515-52b4-4f1f-c83d-545c5ffba678"
      },
      "execution_count": 6,
      "outputs": [
        {
          "output_type": "stream",
          "name": "stdout",
          "text": [
            "tf.Tensor([ 6  7  8  9 10 11], shape=(6,), dtype=int32)\n",
            "tf.Tensor([-4 -3 -2 -1  0  1], shape=(6,), dtype=int32)\n",
            "tf.Tensor([ 6  7  8  9 10 11], shape=(6,), dtype=int32)\n"
          ]
        }
      ]
    },
    {
      "cell_type": "code",
      "source": [
        "x = tf.constant([0., 0., 0., 0.,])\n",
        "y = tf.constant([-2.])\n",
        "tf.math.maximum(x, y)"
      ],
      "metadata": {
        "colab": {
          "base_uri": "https://localhost:8080/"
        },
        "id": "FZBlafeQkJs6",
        "outputId": "8a368dc9-e602-4dca-8ed9-b961f39941c6"
      },
      "execution_count": 13,
      "outputs": [
        {
          "output_type": "execute_result",
          "data": {
            "text/plain": [
              "<tf.Tensor: shape=(4,), dtype=float32, numpy=array([0., 0., 0., 0.], dtype=float32)>"
            ]
          },
          "metadata": {},
          "execution_count": 13
        }
      ]
    },
    {
      "cell_type": "code",
      "source": [
        "# arg max\n",
        "A = tf.constant([2, 20, 30, 3, 6])\n",
        "print(tf.math.argmax(A))"
      ],
      "metadata": {
        "colab": {
          "base_uri": "https://localhost:8080/"
        },
        "id": "Ky5OBwshlzZ4",
        "outputId": "dba59db4-ed22-4286-9a41-be72efc236e5"
      },
      "execution_count": 15,
      "outputs": [
        {
          "output_type": "stream",
          "name": "stdout",
          "text": [
            "tf.Tensor(2, shape=(), dtype=int64)\n"
          ]
        }
      ]
    },
    {
      "cell_type": "code",
      "source": [
        "B = tf.constant([[20, 20, 30, 3, 6], [3, 11, 16, 1, 8],\n",
        "                 [14, 45, 23, 5, 27]])\n",
        "print(B)\n",
        "print(tf.math.argmax(B, 0))\n",
        "print(tf.math.argmax(B, 1))"
      ],
      "metadata": {
        "colab": {
          "base_uri": "https://localhost:8080/"
        },
        "id": "XZ5CR0XrmStg",
        "outputId": "c1277366-c73a-4130-8d9a-fde22b78cd67"
      },
      "execution_count": 18,
      "outputs": [
        {
          "output_type": "stream",
          "name": "stdout",
          "text": [
            "tf.Tensor(\n",
            "[[20 20 30  3  6]\n",
            " [ 3 11 16  1  8]\n",
            " [14 45 23  5 27]], shape=(3, 5), dtype=int32)\n",
            "tf.Tensor([0 2 0 2 2], shape=(5,), dtype=int64)\n",
            "tf.Tensor([2 2 1], shape=(3,), dtype=int64)\n"
          ]
        }
      ]
    },
    {
      "cell_type": "code",
      "source": [
        "C = tf.constant([0, 0, 0, 0])\n",
        "tf.math.argmax(C) # Returns smallest index in case of ties"
      ],
      "metadata": {
        "colab": {
          "base_uri": "https://localhost:8080/"
        },
        "id": "ZmwpWUKtmkDg",
        "outputId": "bf8c119f-263c-4ffd-9c8a-b20030ef7cdd"
      },
      "execution_count": 19,
      "outputs": [
        {
          "output_type": "execute_result",
          "data": {
            "text/plain": [
              "<tf.Tensor: shape=(), dtype=int64, numpy=0>"
            ]
          },
          "metadata": {},
          "execution_count": 19
        }
      ]
    },
    {
      "cell_type": "code",
      "source": [
        "print(tf.math.argmin(B, 0))\n",
        "print(tf.math.argmin(B, 1))"
      ],
      "metadata": {
        "colab": {
          "base_uri": "https://localhost:8080/"
        },
        "id": "inrPJLBJm8yd",
        "outputId": "c0568373-7093-49d9-d231-03af24917531"
      },
      "execution_count": 20,
      "outputs": [
        {
          "output_type": "stream",
          "name": "stdout",
          "text": [
            "tf.Tensor([1 1 1 1 0], shape=(5,), dtype=int64)\n",
            "tf.Tensor([3 3 3], shape=(3,), dtype=int64)\n"
          ]
        }
      ]
    },
    {
      "cell_type": "code",
      "source": [
        "x = tf.constant([2, 4, 3])\n",
        "y = tf.constant(2)\n",
        "print(x.shape)\n",
        "print(y.shape)\n",
        "tf.math.equal(x, y)"
      ],
      "metadata": {
        "colab": {
          "base_uri": "https://localhost:8080/"
        },
        "id": "00zi4YydnQxc",
        "outputId": "65a4103b-9079-4565-e166-b541a0fd435d"
      },
      "execution_count": 23,
      "outputs": [
        {
          "output_type": "stream",
          "name": "stdout",
          "text": [
            "(3,)\n",
            "()\n"
          ]
        },
        {
          "output_type": "execute_result",
          "data": {
            "text/plain": [
              "<tf.Tensor: shape=(3,), dtype=bool, numpy=array([ True, False, False])>"
            ]
          },
          "metadata": {},
          "execution_count": 23
        }
      ]
    },
    {
      "cell_type": "code",
      "source": [
        "x = tf.constant([[2, 2], [3, 3]])\n",
        "y = tf.constant([[8, 16], [2, 3]])\n",
        "tf.pow(x, y)"
      ],
      "metadata": {
        "colab": {
          "base_uri": "https://localhost:8080/"
        },
        "id": "czS3JWgCzrez",
        "outputId": "211d2d8d-ef8a-4771-a89f-0a118f10cbc3"
      },
      "execution_count": 24,
      "outputs": [
        {
          "output_type": "execute_result",
          "data": {
            "text/plain": [
              "<tf.Tensor: shape=(2, 2), dtype=int32, numpy=\n",
              "array([[  256, 65536],\n",
              "       [    9,    27]], dtype=int32)>"
            ]
          },
          "metadata": {},
          "execution_count": 24
        }
      ]
    },
    {
      "cell_type": "code",
      "source": [
        "print(2**8)\n",
        "print(2**16)\n",
        "print(3**2)\n",
        "print(3**3)"
      ],
      "metadata": {
        "colab": {
          "base_uri": "https://localhost:8080/"
        },
        "id": "_OnDV4400CAo",
        "outputId": "ef7de982-0b73-4049-abaa-5366f4378bf0"
      },
      "execution_count": 25,
      "outputs": [
        {
          "output_type": "stream",
          "name": "stdout",
          "text": [
            "256\n",
            "65536\n",
            "9\n",
            "27\n"
          ]
        }
      ]
    },
    {
      "cell_type": "code",
      "source": [
        "tf.pow(tf.constant(2), tf.constant(3))"
      ],
      "metadata": {
        "colab": {
          "base_uri": "https://localhost:8080/"
        },
        "id": "yY3LZcfl0Ji4",
        "outputId": "573dd512-b512-4d63-d9e6-e467bdb56884"
      },
      "execution_count": 26,
      "outputs": [
        {
          "output_type": "execute_result",
          "data": {
            "text/plain": [
              "<tf.Tensor: shape=(), dtype=int32, numpy=8>"
            ]
          },
          "metadata": {},
          "execution_count": 26
        }
      ]
    },
    {
      "cell_type": "code",
      "source": [
        "# math.reduce_sum\n",
        "\n",
        "print(tensor_two_d)\n",
        "\n",
        "print(tf.math.reduce_sum(\n",
        "    tensor_two_d , axis=0, keepdims=False, name=None\n",
        "))\n",
        "\n",
        "print(tf.math.reduce_std(\n",
        "    tf.cast(tensor_two_d, dtype=tf.dtypes.float64) , axis=0, keepdims=False, name=None\n",
        "))\n",
        "\n",
        "tf.math.reduce_max(\n",
        "    tensor_two_d , axis=0, keepdims=False, name=None\n",
        ")"
      ],
      "metadata": {
        "colab": {
          "base_uri": "https://localhost:8080/"
        },
        "id": "8VsOjyEQ0Rqh",
        "outputId": "848186de-bb04-473c-8abe-a4c48bda2387"
      },
      "execution_count": 40,
      "outputs": [
        {
          "output_type": "stream",
          "name": "stdout",
          "text": [
            "tf.Tensor(\n",
            "[[ 1  2  0]\n",
            " [ 3  5 -2]\n",
            " [ 1  5  6]\n",
            " [ 2  3  8]], shape=(4, 3), dtype=int32)\n",
            "tf.Tensor([ 7 15 12], shape=(3,), dtype=int32)\n",
            "tf.Tensor([0.8291562  1.29903811 4.12310563], shape=(3,), dtype=float64)\n"
          ]
        },
        {
          "output_type": "execute_result",
          "data": {
            "text/plain": [
              "<tf.Tensor: shape=(3,), dtype=int32, numpy=array([3, 5, 8], dtype=int32)>"
            ]
          },
          "metadata": {},
          "execution_count": 40
        }
      ]
    },
    {
      "cell_type": "code",
      "source": [
        "# top k-values; k = 3\n",
        "result = tf.math.top_k([1, 2, 98, 1, 1, 99, 3, 1, 3, 96, 4, 1],\n",
        "                        k=3)\n",
        "result\n"
      ],
      "metadata": {
        "colab": {
          "base_uri": "https://localhost:8080/"
        },
        "id": "h4w_2ExE0gli",
        "outputId": "f9fcc8ce-41bf-48c9-d911-baf572110e6a"
      },
      "execution_count": 43,
      "outputs": [
        {
          "output_type": "execute_result",
          "data": {
            "text/plain": [
              "TopKV2(values=<tf.Tensor: shape=(3,), dtype=int32, numpy=array([99, 98, 96], dtype=int32)>, indices=<tf.Tensor: shape=(3,), dtype=int32, numpy=array([5, 2, 9], dtype=int32)>)"
            ]
          },
          "metadata": {},
          "execution_count": 43
        }
      ]
    },
    {
      "cell_type": "code",
      "source": [
        "tf.math.top_k(tensor_two_d)"
      ],
      "metadata": {
        "colab": {
          "base_uri": "https://localhost:8080/"
        },
        "id": "ak9z49aC2Abh",
        "outputId": "1e134b43-955d-4b1c-f096-9089c0ee0e4b"
      },
      "execution_count": 42,
      "outputs": [
        {
          "output_type": "execute_result",
          "data": {
            "text/plain": [
              "TopKV2(values=<tf.Tensor: shape=(4, 1), dtype=int32, numpy=\n",
              "array([[2],\n",
              "       [5],\n",
              "       [6],\n",
              "       [8]], dtype=int32)>, indices=<tf.Tensor: shape=(4, 1), dtype=int32, numpy=\n",
              "array([[1],\n",
              "       [1],\n",
              "       [2],\n",
              "       [2]], dtype=int32)>)"
            ]
          },
          "metadata": {},
          "execution_count": 42
        }
      ]
    },
    {
      "cell_type": "code",
      "source": [],
      "metadata": {
        "id": "jyV9bxeG2J51"
      },
      "execution_count": null,
      "outputs": []
    }
  ]
}