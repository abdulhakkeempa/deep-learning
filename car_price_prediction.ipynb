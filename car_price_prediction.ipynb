{
  "nbformat": 4,
  "nbformat_minor": 0,
  "metadata": {
    "colab": {
      "provenance": [],
      "authorship_tag": "ABX9TyMxFt7nOAl4h4CCzTUJMUNS"
    },
    "kernelspec": {
      "name": "python3",
      "display_name": "Python 3"
    },
    "language_info": {
      "name": "python"
    }
  },
  "cells": [
    {
      "cell_type": "code",
      "execution_count": 46,
      "metadata": {
        "id": "PYD4LJL2KhLo"
      },
      "outputs": [],
      "source": [
        "import tensorflow as tf\n",
        "import pandas as pd\n",
        "import seaborn as sns\n",
        "from tensorflow.keras.layers import Normalization, Dense, InputLayer\n",
        "from tensorflow.keras.losses import MeanSquaredError, Huber, MeanAbsoluteError\n",
        "from tensorflow.keras.metrics import RootMeanSquaredError\n",
        "from tensorflow.keras.optimizers import Adam"
      ]
    },
    {
      "cell_type": "markdown",
      "source": [
        "## Data Preperation"
      ],
      "metadata": {
        "id": "5omFq0fJRT9O"
      }
    },
    {
      "cell_type": "code",
      "source": [
        "import os\n",
        "os.environ['eda'] = \"False\""
      ],
      "metadata": {
        "id": "5Js7ykS6yfVh"
      },
      "execution_count": 7,
      "outputs": []
    },
    {
      "cell_type": "code",
      "source": [
        "df = pd.read_csv(\"/content/second-hand-car.csv\")"
      ],
      "metadata": {
        "id": "ArFwlemsMzJf"
      },
      "execution_count": 8,
      "outputs": []
    },
    {
      "cell_type": "code",
      "source": [
        "df.head()"
      ],
      "metadata": {
        "colab": {
          "base_uri": "https://localhost:8080/",
          "height": 206
        },
        "id": "KJPXSEJvM5ft",
        "outputId": "d069f3d6-fd02-415c-b661-1e21c25dab06"
      },
      "execution_count": 9,
      "outputs": [
        {
          "output_type": "execute_result",
          "data": {
            "text/plain": [
              "   v.id  on road old  on road now  years      km  rating  condition  economy  \\\n",
              "0     1       535651       798186      3   78945       1          2       14   \n",
              "1     2       591911       861056      6  117220       5          9        9   \n",
              "2     3       686990       770762      2  132538       2          8       15   \n",
              "3     4       573999       722381      4  101065       4          3       11   \n",
              "4     5       691388       811335      6   61559       3          9       12   \n",
              "\n",
              "   top speed  hp  torque  current price  \n",
              "0        177  73     123       351318.0  \n",
              "1        148  74      95       285001.5  \n",
              "2        181  53      97       215386.0  \n",
              "3        197  54     116       244295.5  \n",
              "4        160  53     105       531114.5  "
            ],
            "text/html": [
              "\n",
              "  <div id=\"df-2a504ced-6d64-466d-b7bf-233f31a9312d\" class=\"colab-df-container\">\n",
              "    <div>\n",
              "<style scoped>\n",
              "    .dataframe tbody tr th:only-of-type {\n",
              "        vertical-align: middle;\n",
              "    }\n",
              "\n",
              "    .dataframe tbody tr th {\n",
              "        vertical-align: top;\n",
              "    }\n",
              "\n",
              "    .dataframe thead th {\n",
              "        text-align: right;\n",
              "    }\n",
              "</style>\n",
              "<table border=\"1\" class=\"dataframe\">\n",
              "  <thead>\n",
              "    <tr style=\"text-align: right;\">\n",
              "      <th></th>\n",
              "      <th>v.id</th>\n",
              "      <th>on road old</th>\n",
              "      <th>on road now</th>\n",
              "      <th>years</th>\n",
              "      <th>km</th>\n",
              "      <th>rating</th>\n",
              "      <th>condition</th>\n",
              "      <th>economy</th>\n",
              "      <th>top speed</th>\n",
              "      <th>hp</th>\n",
              "      <th>torque</th>\n",
              "      <th>current price</th>\n",
              "    </tr>\n",
              "  </thead>\n",
              "  <tbody>\n",
              "    <tr>\n",
              "      <th>0</th>\n",
              "      <td>1</td>\n",
              "      <td>535651</td>\n",
              "      <td>798186</td>\n",
              "      <td>3</td>\n",
              "      <td>78945</td>\n",
              "      <td>1</td>\n",
              "      <td>2</td>\n",
              "      <td>14</td>\n",
              "      <td>177</td>\n",
              "      <td>73</td>\n",
              "      <td>123</td>\n",
              "      <td>351318.0</td>\n",
              "    </tr>\n",
              "    <tr>\n",
              "      <th>1</th>\n",
              "      <td>2</td>\n",
              "      <td>591911</td>\n",
              "      <td>861056</td>\n",
              "      <td>6</td>\n",
              "      <td>117220</td>\n",
              "      <td>5</td>\n",
              "      <td>9</td>\n",
              "      <td>9</td>\n",
              "      <td>148</td>\n",
              "      <td>74</td>\n",
              "      <td>95</td>\n",
              "      <td>285001.5</td>\n",
              "    </tr>\n",
              "    <tr>\n",
              "      <th>2</th>\n",
              "      <td>3</td>\n",
              "      <td>686990</td>\n",
              "      <td>770762</td>\n",
              "      <td>2</td>\n",
              "      <td>132538</td>\n",
              "      <td>2</td>\n",
              "      <td>8</td>\n",
              "      <td>15</td>\n",
              "      <td>181</td>\n",
              "      <td>53</td>\n",
              "      <td>97</td>\n",
              "      <td>215386.0</td>\n",
              "    </tr>\n",
              "    <tr>\n",
              "      <th>3</th>\n",
              "      <td>4</td>\n",
              "      <td>573999</td>\n",
              "      <td>722381</td>\n",
              "      <td>4</td>\n",
              "      <td>101065</td>\n",
              "      <td>4</td>\n",
              "      <td>3</td>\n",
              "      <td>11</td>\n",
              "      <td>197</td>\n",
              "      <td>54</td>\n",
              "      <td>116</td>\n",
              "      <td>244295.5</td>\n",
              "    </tr>\n",
              "    <tr>\n",
              "      <th>4</th>\n",
              "      <td>5</td>\n",
              "      <td>691388</td>\n",
              "      <td>811335</td>\n",
              "      <td>6</td>\n",
              "      <td>61559</td>\n",
              "      <td>3</td>\n",
              "      <td>9</td>\n",
              "      <td>12</td>\n",
              "      <td>160</td>\n",
              "      <td>53</td>\n",
              "      <td>105</td>\n",
              "      <td>531114.5</td>\n",
              "    </tr>\n",
              "  </tbody>\n",
              "</table>\n",
              "</div>\n",
              "    <div class=\"colab-df-buttons\">\n",
              "\n",
              "  <div class=\"colab-df-container\">\n",
              "    <button class=\"colab-df-convert\" onclick=\"convertToInteractive('df-2a504ced-6d64-466d-b7bf-233f31a9312d')\"\n",
              "            title=\"Convert this dataframe to an interactive table.\"\n",
              "            style=\"display:none;\">\n",
              "\n",
              "  <svg xmlns=\"http://www.w3.org/2000/svg\" height=\"24px\" viewBox=\"0 -960 960 960\">\n",
              "    <path d=\"M120-120v-720h720v720H120Zm60-500h600v-160H180v160Zm220 220h160v-160H400v160Zm0 220h160v-160H400v160ZM180-400h160v-160H180v160Zm440 0h160v-160H620v160ZM180-180h160v-160H180v160Zm440 0h160v-160H620v160Z\"/>\n",
              "  </svg>\n",
              "    </button>\n",
              "\n",
              "  <style>\n",
              "    .colab-df-container {\n",
              "      display:flex;\n",
              "      gap: 12px;\n",
              "    }\n",
              "\n",
              "    .colab-df-convert {\n",
              "      background-color: #E8F0FE;\n",
              "      border: none;\n",
              "      border-radius: 50%;\n",
              "      cursor: pointer;\n",
              "      display: none;\n",
              "      fill: #1967D2;\n",
              "      height: 32px;\n",
              "      padding: 0 0 0 0;\n",
              "      width: 32px;\n",
              "    }\n",
              "\n",
              "    .colab-df-convert:hover {\n",
              "      background-color: #E2EBFA;\n",
              "      box-shadow: 0px 1px 2px rgba(60, 64, 67, 0.3), 0px 1px 3px 1px rgba(60, 64, 67, 0.15);\n",
              "      fill: #174EA6;\n",
              "    }\n",
              "\n",
              "    .colab-df-buttons div {\n",
              "      margin-bottom: 4px;\n",
              "    }\n",
              "\n",
              "    [theme=dark] .colab-df-convert {\n",
              "      background-color: #3B4455;\n",
              "      fill: #D2E3FC;\n",
              "    }\n",
              "\n",
              "    [theme=dark] .colab-df-convert:hover {\n",
              "      background-color: #434B5C;\n",
              "      box-shadow: 0px 1px 3px 1px rgba(0, 0, 0, 0.15);\n",
              "      filter: drop-shadow(0px 1px 2px rgba(0, 0, 0, 0.3));\n",
              "      fill: #FFFFFF;\n",
              "    }\n",
              "  </style>\n",
              "\n",
              "    <script>\n",
              "      const buttonEl =\n",
              "        document.querySelector('#df-2a504ced-6d64-466d-b7bf-233f31a9312d button.colab-df-convert');\n",
              "      buttonEl.style.display =\n",
              "        google.colab.kernel.accessAllowed ? 'block' : 'none';\n",
              "\n",
              "      async function convertToInteractive(key) {\n",
              "        const element = document.querySelector('#df-2a504ced-6d64-466d-b7bf-233f31a9312d');\n",
              "        const dataTable =\n",
              "          await google.colab.kernel.invokeFunction('convertToInteractive',\n",
              "                                                    [key], {});\n",
              "        if (!dataTable) return;\n",
              "\n",
              "        const docLinkHtml = 'Like what you see? Visit the ' +\n",
              "          '<a target=\"_blank\" href=https://colab.research.google.com/notebooks/data_table.ipynb>data table notebook</a>'\n",
              "          + ' to learn more about interactive tables.';\n",
              "        element.innerHTML = '';\n",
              "        dataTable['output_type'] = 'display_data';\n",
              "        await google.colab.output.renderOutput(dataTable, element);\n",
              "        const docLink = document.createElement('div');\n",
              "        docLink.innerHTML = docLinkHtml;\n",
              "        element.appendChild(docLink);\n",
              "      }\n",
              "    </script>\n",
              "  </div>\n",
              "\n",
              "\n",
              "<div id=\"df-dd0a4704-7c04-4887-8f1f-96d8ddf43baf\">\n",
              "  <button class=\"colab-df-quickchart\" onclick=\"quickchart('df-dd0a4704-7c04-4887-8f1f-96d8ddf43baf')\"\n",
              "            title=\"Suggest charts\"\n",
              "            style=\"display:none;\">\n",
              "\n",
              "<svg xmlns=\"http://www.w3.org/2000/svg\" height=\"24px\"viewBox=\"0 0 24 24\"\n",
              "     width=\"24px\">\n",
              "    <g>\n",
              "        <path d=\"M19 3H5c-1.1 0-2 .9-2 2v14c0 1.1.9 2 2 2h14c1.1 0 2-.9 2-2V5c0-1.1-.9-2-2-2zM9 17H7v-7h2v7zm4 0h-2V7h2v10zm4 0h-2v-4h2v4z\"/>\n",
              "    </g>\n",
              "</svg>\n",
              "  </button>\n",
              "\n",
              "<style>\n",
              "  .colab-df-quickchart {\n",
              "      --bg-color: #E8F0FE;\n",
              "      --fill-color: #1967D2;\n",
              "      --hover-bg-color: #E2EBFA;\n",
              "      --hover-fill-color: #174EA6;\n",
              "      --disabled-fill-color: #AAA;\n",
              "      --disabled-bg-color: #DDD;\n",
              "  }\n",
              "\n",
              "  [theme=dark] .colab-df-quickchart {\n",
              "      --bg-color: #3B4455;\n",
              "      --fill-color: #D2E3FC;\n",
              "      --hover-bg-color: #434B5C;\n",
              "      --hover-fill-color: #FFFFFF;\n",
              "      --disabled-bg-color: #3B4455;\n",
              "      --disabled-fill-color: #666;\n",
              "  }\n",
              "\n",
              "  .colab-df-quickchart {\n",
              "    background-color: var(--bg-color);\n",
              "    border: none;\n",
              "    border-radius: 50%;\n",
              "    cursor: pointer;\n",
              "    display: none;\n",
              "    fill: var(--fill-color);\n",
              "    height: 32px;\n",
              "    padding: 0;\n",
              "    width: 32px;\n",
              "  }\n",
              "\n",
              "  .colab-df-quickchart:hover {\n",
              "    background-color: var(--hover-bg-color);\n",
              "    box-shadow: 0 1px 2px rgba(60, 64, 67, 0.3), 0 1px 3px 1px rgba(60, 64, 67, 0.15);\n",
              "    fill: var(--button-hover-fill-color);\n",
              "  }\n",
              "\n",
              "  .colab-df-quickchart-complete:disabled,\n",
              "  .colab-df-quickchart-complete:disabled:hover {\n",
              "    background-color: var(--disabled-bg-color);\n",
              "    fill: var(--disabled-fill-color);\n",
              "    box-shadow: none;\n",
              "  }\n",
              "\n",
              "  .colab-df-spinner {\n",
              "    border: 2px solid var(--fill-color);\n",
              "    border-color: transparent;\n",
              "    border-bottom-color: var(--fill-color);\n",
              "    animation:\n",
              "      spin 1s steps(1) infinite;\n",
              "  }\n",
              "\n",
              "  @keyframes spin {\n",
              "    0% {\n",
              "      border-color: transparent;\n",
              "      border-bottom-color: var(--fill-color);\n",
              "      border-left-color: var(--fill-color);\n",
              "    }\n",
              "    20% {\n",
              "      border-color: transparent;\n",
              "      border-left-color: var(--fill-color);\n",
              "      border-top-color: var(--fill-color);\n",
              "    }\n",
              "    30% {\n",
              "      border-color: transparent;\n",
              "      border-left-color: var(--fill-color);\n",
              "      border-top-color: var(--fill-color);\n",
              "      border-right-color: var(--fill-color);\n",
              "    }\n",
              "    40% {\n",
              "      border-color: transparent;\n",
              "      border-right-color: var(--fill-color);\n",
              "      border-top-color: var(--fill-color);\n",
              "    }\n",
              "    60% {\n",
              "      border-color: transparent;\n",
              "      border-right-color: var(--fill-color);\n",
              "    }\n",
              "    80% {\n",
              "      border-color: transparent;\n",
              "      border-right-color: var(--fill-color);\n",
              "      border-bottom-color: var(--fill-color);\n",
              "    }\n",
              "    90% {\n",
              "      border-color: transparent;\n",
              "      border-bottom-color: var(--fill-color);\n",
              "    }\n",
              "  }\n",
              "</style>\n",
              "\n",
              "  <script>\n",
              "    async function quickchart(key) {\n",
              "      const quickchartButtonEl =\n",
              "        document.querySelector('#' + key + ' button');\n",
              "      quickchartButtonEl.disabled = true;  // To prevent multiple clicks.\n",
              "      quickchartButtonEl.classList.add('colab-df-spinner');\n",
              "      try {\n",
              "        const charts = await google.colab.kernel.invokeFunction(\n",
              "            'suggestCharts', [key], {});\n",
              "      } catch (error) {\n",
              "        console.error('Error during call to suggestCharts:', error);\n",
              "      }\n",
              "      quickchartButtonEl.classList.remove('colab-df-spinner');\n",
              "      quickchartButtonEl.classList.add('colab-df-quickchart-complete');\n",
              "    }\n",
              "    (() => {\n",
              "      let quickchartButtonEl =\n",
              "        document.querySelector('#df-dd0a4704-7c04-4887-8f1f-96d8ddf43baf button');\n",
              "      quickchartButtonEl.style.display =\n",
              "        google.colab.kernel.accessAllowed ? 'block' : 'none';\n",
              "    })();\n",
              "  </script>\n",
              "</div>\n",
              "\n",
              "    </div>\n",
              "  </div>\n"
            ]
          },
          "metadata": {},
          "execution_count": 9
        }
      ]
    },
    {
      "cell_type": "code",
      "source": [
        "print(df.columns)"
      ],
      "metadata": {
        "colab": {
          "base_uri": "https://localhost:8080/"
        },
        "id": "rE10I5ACM_CX",
        "outputId": "ae9e8539-7fa5-4a64-e86a-a1974195d3fd"
      },
      "execution_count": 10,
      "outputs": [
        {
          "output_type": "stream",
          "name": "stdout",
          "text": [
            "Index(['v.id', 'on road old', 'on road now', 'years', 'km', 'rating',\n",
            "       'condition', 'economy', 'top speed', 'hp', 'torque', 'current price'],\n",
            "      dtype='object')\n"
          ]
        }
      ]
    },
    {
      "cell_type": "code",
      "source": [
        "df.shape"
      ],
      "metadata": {
        "colab": {
          "base_uri": "https://localhost:8080/"
        },
        "id": "l_1o9tAlNBXT",
        "outputId": "2ee19542-67ff-43c5-9409-30dc553392a3"
      },
      "execution_count": 11,
      "outputs": [
        {
          "output_type": "execute_result",
          "data": {
            "text/plain": [
              "(1000, 12)"
            ]
          },
          "metadata": {},
          "execution_count": 11
        }
      ]
    },
    {
      "cell_type": "code",
      "source": [
        "if os.environ['eda'] == \"True\":\n",
        "  sns.pairplot(df[['on road old', 'on road now', 'years', 'km', 'rating',\n",
        "       'condition', 'economy', 'top speed', 'hp', 'torque', 'current price']], diag_kind='kde')"
      ],
      "metadata": {
        "id": "UslcVfzENLfF"
      },
      "execution_count": 12,
      "outputs": []
    },
    {
      "cell_type": "code",
      "source": [
        "tensor_data = tf.constant(df)\n",
        "print(tensor_data.shape)"
      ],
      "metadata": {
        "colab": {
          "base_uri": "https://localhost:8080/"
        },
        "id": "fpR0xzXfOVnJ",
        "outputId": "723531f2-103a-4441-98f9-607a52d0b819"
      },
      "execution_count": 13,
      "outputs": [
        {
          "output_type": "stream",
          "name": "stdout",
          "text": [
            "(1000, 12)\n"
          ]
        }
      ]
    },
    {
      "cell_type": "code",
      "source": [
        "print(tensor_data)"
      ],
      "metadata": {
        "colab": {
          "base_uri": "https://localhost:8080/"
        },
        "id": "q9avs0KwQcCP",
        "outputId": "69bda778-5ed2-4b5d-b1a1-5aeeed346406"
      },
      "execution_count": 14,
      "outputs": [
        {
          "output_type": "stream",
          "name": "stdout",
          "text": [
            "tf.Tensor(\n",
            "[[1.000000e+00 5.356510e+05 7.981860e+05 ... 7.300000e+01 1.230000e+02\n",
            "  3.513180e+05]\n",
            " [2.000000e+00 5.919110e+05 8.610560e+05 ... 7.400000e+01 9.500000e+01\n",
            "  2.850015e+05]\n",
            " [3.000000e+00 6.869900e+05 7.707620e+05 ... 5.300000e+01 9.700000e+01\n",
            "  2.153860e+05]\n",
            " ...\n",
            " [9.980000e+02 6.463440e+05 8.427330e+05 ... 1.130000e+02 8.900000e+01\n",
            "  4.058710e+05]\n",
            " [9.990000e+02 5.355590e+05 7.324390e+05 ... 1.120000e+02 1.280000e+02\n",
            "  7.439800e+04]\n",
            " [1.000000e+03 5.901050e+05 7.797430e+05 ... 9.900000e+01 9.600000e+01\n",
            "  4.149385e+05]], shape=(1000, 12), dtype=float64)\n"
          ]
        }
      ]
    },
    {
      "cell_type": "code",
      "source": [
        "tensor_data = tf.random.shuffle(tensor_data)\n",
        "print(tensor_data[:5])"
      ],
      "metadata": {
        "colab": {
          "base_uri": "https://localhost:8080/"
        },
        "id": "Gmls1kIVQrqu",
        "outputId": "3ac2a94c-ee2d-4dbf-b457-1a0cf43884e7"
      },
      "execution_count": 15,
      "outputs": [
        {
          "output_type": "stream",
          "name": "stdout",
          "text": [
            "tf.Tensor(\n",
            "[[6.890000e+02 6.238250e+05 7.293350e+05 2.000000e+00 5.652300e+04\n",
            "  5.000000e+00 6.000000e+00 1.200000e+01 1.550000e+02 5.700000e+01\n",
            "  1.080000e+02 4.561545e+05]\n",
            " [7.770000e+02 6.934950e+05 8.303220e+05 6.000000e+00 7.757000e+04\n",
            "  5.000000e+00 3.000000e+00 9.000000e+00 1.820000e+02 1.090000e+02\n",
            "  7.900000e+01 4.496500e+05]\n",
            " [8.730000e+02 6.921570e+05 8.249260e+05 7.000000e+00 1.429590e+05\n",
            "  2.000000e+00 4.000000e+00 9.000000e+00 1.980000e+02 1.160000e+02\n",
            "  9.900000e+01 1.790770e+05]\n",
            " [5.410000e+02 5.222020e+05 8.281700e+05 3.000000e+00 9.672300e+04\n",
            "  4.000000e+00 2.000000e+00 1.100000e+01 1.430000e+02 1.140000e+02\n",
            "  7.300000e+01 2.889260e+05]\n",
            " [9.550000e+02 5.065040e+05 7.004280e+05 4.000000e+00 1.059050e+05\n",
            "  3.000000e+00 1.000000e+00 1.300000e+01 1.600000e+02 5.200000e+01\n",
            "  1.300000e+02 1.797115e+05]], shape=(5, 12), dtype=float64)\n"
          ]
        }
      ]
    },
    {
      "cell_type": "code",
      "source": [
        "X = tensor_data[:, 3:-1]\n",
        "print(X.shape)"
      ],
      "metadata": {
        "colab": {
          "base_uri": "https://localhost:8080/"
        },
        "id": "_1lgqIevQ8p9",
        "outputId": "af104a90-94eb-4fdf-ef32-42040c9d848f"
      },
      "execution_count": 16,
      "outputs": [
        {
          "output_type": "stream",
          "name": "stdout",
          "text": [
            "(1000, 8)\n"
          ]
        }
      ]
    },
    {
      "cell_type": "code",
      "source": [
        "y = tensor_data[:, -1]\n",
        "y = tf.expand_dims(y, axis=-1)\n",
        "print(y.shape)"
      ],
      "metadata": {
        "colab": {
          "base_uri": "https://localhost:8080/"
        },
        "id": "Hhv5Bw18RkoS",
        "outputId": "404768ae-5d1d-4096-c488-7175d090a4ab"
      },
      "execution_count": 17,
      "outputs": [
        {
          "output_type": "stream",
          "name": "stdout",
          "text": [
            "(1000, 1)\n"
          ]
        }
      ]
    },
    {
      "cell_type": "code",
      "source": [
        "TRAIN_RATIO = 0.8\n",
        "VAL_RATIO = 0.1\n",
        "TEST_RATIO = 0.1\n",
        "DATASET_SIZE = len(X)"
      ],
      "metadata": {
        "id": "5-YM78SG_pgX"
      },
      "execution_count": 56,
      "outputs": []
    },
    {
      "cell_type": "code",
      "source": [
        "X_train = X[:int(DATASET_SIZE*TRAIN_RATIO)]\n",
        "y_train = y[:int(DATASET_SIZE*TRAIN_RATIO)]\n",
        "print(X_train.shape)\n",
        "print(y_train.shape)"
      ],
      "metadata": {
        "colab": {
          "base_uri": "https://localhost:8080/"
        },
        "id": "YSoXfyTK_2rV",
        "outputId": "606d5fdc-d952-4dc1-ecdd-7f5fb5ceb131"
      },
      "execution_count": 70,
      "outputs": [
        {
          "output_type": "stream",
          "name": "stdout",
          "text": [
            "(800, 8)\n",
            "(800, 1)\n"
          ]
        }
      ]
    },
    {
      "cell_type": "code",
      "source": [
        "X_val = X[int(DATASET_SIZE*TRAIN_RATIO):int(DATASET_SIZE*(VAL_RATIO+TRAIN_RATIO))]\n",
        "y_val = y[int(DATASET_SIZE*TRAIN_RATIO):int(DATASET_SIZE*(VAL_RATIO+TRAIN_RATIO))]\n",
        "print(X_val.shape)\n",
        "print(y_val.shape)"
      ],
      "metadata": {
        "colab": {
          "base_uri": "https://localhost:8080/"
        },
        "id": "0aptbmAXAL0E",
        "outputId": "f7eec6b7-ac54-4ab5-b0ac-ed437684c4ae"
      },
      "execution_count": 71,
      "outputs": [
        {
          "output_type": "stream",
          "name": "stdout",
          "text": [
            "(100, 8)\n",
            "(100, 1)\n"
          ]
        }
      ]
    },
    {
      "cell_type": "code",
      "source": [
        "X_test = X[int(DATASET_SIZE*(VAL_RATIO+TRAIN_RATIO)):int(DATASET_SIZE*(VAL_RATIO+TRAIN_RATIO+TEST_RATIO))]\n",
        "y_test = y[int(DATASET_SIZE*(VAL_RATIO+TRAIN_RATIO)):int(DATASET_SIZE*(VAL_RATIO+TRAIN_RATIO+TEST_RATIO))]\n",
        "print(X_test.shape)\n",
        "print(y_test.shape)"
      ],
      "metadata": {
        "colab": {
          "base_uri": "https://localhost:8080/"
        },
        "id": "AogHetAIAi3E",
        "outputId": "770bb1e2-05be-4430-b33b-1f831c1c9405"
      },
      "execution_count": 72,
      "outputs": [
        {
          "output_type": "stream",
          "name": "stdout",
          "text": [
            "(100, 8)\n",
            "(100, 1)\n"
          ]
        }
      ]
    },
    {
      "cell_type": "code",
      "source": [
        "normalizer = Normalization()\n",
        "normalizer.adapt(X_train) # adapts the mean and variance\n",
        "normalizer(X_train)\n",
        "print(X_train[:5, :])"
      ],
      "metadata": {
        "colab": {
          "base_uri": "https://localhost:8080/"
        },
        "id": "dP4HRGHVRt7N",
        "outputId": "e3ba9ec2-0db5-48aa-c64b-045401f52669"
      },
      "execution_count": 73,
      "outputs": [
        {
          "output_type": "stream",
          "name": "stdout",
          "text": [
            "tf.Tensor(\n",
            "[[2.00000e+00 5.65230e+04 5.00000e+00 6.00000e+00 1.20000e+01 1.55000e+02\n",
            "  5.70000e+01 1.08000e+02]\n",
            " [6.00000e+00 7.75700e+04 5.00000e+00 3.00000e+00 9.00000e+00 1.82000e+02\n",
            "  1.09000e+02 7.90000e+01]\n",
            " [7.00000e+00 1.42959e+05 2.00000e+00 4.00000e+00 9.00000e+00 1.98000e+02\n",
            "  1.16000e+02 9.90000e+01]\n",
            " [3.00000e+00 9.67230e+04 4.00000e+00 2.00000e+00 1.10000e+01 1.43000e+02\n",
            "  1.14000e+02 7.30000e+01]\n",
            " [4.00000e+00 1.05905e+05 3.00000e+00 1.00000e+00 1.30000e+01 1.60000e+02\n",
            "  5.20000e+01 1.30000e+02]], shape=(5, 8), dtype=float64)\n"
          ]
        }
      ]
    },
    {
      "cell_type": "markdown",
      "source": [
        "- Sequential API\n",
        "- Functional API\n",
        "- Subclass"
      ],
      "metadata": {
        "id": "PPEysFgDgPf3"
      }
    },
    {
      "cell_type": "markdown",
      "source": [
        "## Neural Network"
      ],
      "metadata": {
        "id": "Vd8WocckRdc1"
      }
    },
    {
      "cell_type": "code",
      "source": [
        "model = tf.keras.Sequential([\n",
        "     InputLayer(input_shape = (8,), batch_size=10),\n",
        "     normalizer,\n",
        "     Dense(1),\n",
        "])\n",
        "print(model.summary())"
      ],
      "metadata": {
        "colab": {
          "base_uri": "https://localhost:8080/"
        },
        "id": "Rpdvak_lbyLY",
        "outputId": "83ae5200-8610-4e9f-fcae-7c583e4cc9b0"
      },
      "execution_count": 74,
      "outputs": [
        {
          "output_type": "stream",
          "name": "stdout",
          "text": [
            "Model: \"sequential_1\"\n",
            "_________________________________________________________________\n",
            " Layer (type)                Output Shape              Param #   \n",
            "=================================================================\n",
            " normalization_1 (Normaliza  (10, 8)                   17        \n",
            " tion)                                                           \n",
            "                                                                 \n",
            " dense_1 (Dense)             (10, 1)                   9         \n",
            "                                                                 \n",
            "=================================================================\n",
            "Total params: 26 (108.00 Byte)\n",
            "Trainable params: 9 (36.00 Byte)\n",
            "Non-trainable params: 17 (72.00 Byte)\n",
            "_________________________________________________________________\n",
            "None\n"
          ]
        }
      ]
    },
    {
      "cell_type": "code",
      "source": [
        "tf.keras.utils.plot_model(model, to_file=\"model.png\", show_shapes=True)"
      ],
      "metadata": {
        "colab": {
          "base_uri": "https://localhost:8080/",
          "height": 312
        },
        "id": "onRI0NuDRWzc",
        "outputId": "6db3b194-5700-49d6-cb3e-04754c5da68f"
      },
      "execution_count": 75,
      "outputs": [
        {
          "output_type": "execute_result",
          "data": {
            "image/png": "[encoded data removed]",
            "text/plain": [
              "<IPython.core.display.Image object>"
            ]
          },
          "metadata": {},
          "execution_count": 75
        }
      ]
    },
    {
      "cell_type": "markdown",
      "source": [
        "### Alternative Method for constructing Neural Network"
      ],
      "metadata": {
        "id": "2EZ4sprLSL8T"
      }
    },
    {
      "cell_type": "code",
      "source": [
        "\"\"\"\n",
        "model = tf.keras.Sequential()\n",
        "\n",
        "model.add(normalizer)\n",
        "model.add(Dense(1)) # Dense (1) will give one output, Dense (n) will give n outputs\n",
        "print(model.summary())\n",
        "\"\"\""
      ],
      "metadata": {
        "colab": {
          "base_uri": "https://localhost:8080/",
          "height": 53
        },
        "id": "C7uqHIApgGyM",
        "outputId": "e96ab9b6-c839-4f6c-8ead-dcbe340faf95"
      },
      "execution_count": 21,
      "outputs": [
        {
          "output_type": "execute_result",
          "data": {
            "text/plain": [
              "'\\nmodel = tf.keras.Sequential()\\n\\nmodel.add(normalizer)\\nmodel.add(Dense(1)) # Dense (1) will give one output, Dense (n) will give n outputs\\nprint(model.summary())\\n'"
            ],
            "application/vnd.google.colaboratory.intrinsic+json": {
              "type": "string"
            }
          },
          "metadata": {},
          "execution_count": 21
        }
      ]
    },
    {
      "cell_type": "code",
      "source": [
        "tf.keras.utils.plot_model(model, to_file=\"model.png\", show_shapes=True)"
      ],
      "metadata": {
        "id": "zZzQnL3Dgo4b",
        "colab": {
          "base_uri": "https://localhost:8080/",
          "height": 312
        },
        "outputId": "69a2d25d-0624-4252-ddf7-4fc11c673994"
      },
      "execution_count": 22,
      "outputs": [
        {
          "output_type": "execute_result",
          "data": {
            "image/png": "[encoded data removed]",
            "text/plain": [
              "<IPython.core.display.Image object>"
            ]
          },
          "metadata": {},
          "execution_count": 22
        }
      ]
    },
    {
      "cell_type": "markdown",
      "source": [
        "## Training & Compiling it"
      ],
      "metadata": {
        "id": "VD1cPfY5y-7m"
      }
    },
    {
      "cell_type": "code",
      "source": [
        "model.compile(loss= MeanAbsoluteError(), optimizer = Adam(learning_rate=1), metrics= RootMeanSquaredError())"
      ],
      "metadata": {
        "id": "LkqUTnvYVHks"
      },
      "execution_count": 76,
      "outputs": []
    },
    {
      "cell_type": "code",
      "source": [
        "history = model.fit(X_train, y_train, validation_data=(X_val, y_val) ,epochs=100, verbose=1)"
      ],
      "metadata": {
        "colab": {
          "base_uri": "https://localhost:8080/"
        },
        "id": "WudCsp7OzDWX",
        "outputId": "3d91f7b3-d803-47bf-9582-1d0b69094d00"
      },
      "execution_count": 77,
      "outputs": [
        {
          "output_type": "stream",
          "name": "stdout",
          "text": [
            "Epoch 1/100\n",
            "25/25 [==============================] - 1s 9ms/step - loss: 309591.1562 - root_mean_squared_error: 334048.2188 - val_loss: 296759.1562 - val_root_mean_squared_error: 323257.6562\n",
            "Epoch 2/100\n",
            "25/25 [==============================] - 0s 3ms/step - loss: 309565.5000 - root_mean_squared_error: 334024.6875 - val_loss: 296734.0938 - val_root_mean_squared_error: 323234.8750\n",
            "Epoch 3/100\n",
            "25/25 [==============================] - 0s 3ms/step - loss: 309540.6250 - root_mean_squared_error: 334001.6875 - val_loss: 296709.0938 - val_root_mean_squared_error: 323211.7812\n",
            "Epoch 4/100\n",
            "25/25 [==============================] - 0s 4ms/step - loss: 309515.8750 - root_mean_squared_error: 333978.3750 - val_loss: 296684.5938 - val_root_mean_squared_error: 323188.9688\n",
            "Epoch 5/100\n",
            "25/25 [==============================] - 0s 3ms/step - loss: 309490.6250 - root_mean_squared_error: 333955.0625 - val_loss: 296659.1250 - val_root_mean_squared_error: 323166.2812\n",
            "Epoch 6/100\n",
            "25/25 [==============================] - 0s 3ms/step - loss: 309465.7812 - root_mean_squared_error: 333932.0625 - val_loss: 296634.2812 - val_root_mean_squared_error: 323142.8125\n",
            "Epoch 7/100\n",
            "25/25 [==============================] - 0s 3ms/step - loss: 309440.5938 - root_mean_squared_error: 333908.5312 - val_loss: 296608.8750 - val_root_mean_squared_error: 323119.8438\n",
            "Epoch 8/100\n",
            "25/25 [==============================] - 0s 3ms/step - loss: 309415.5938 - root_mean_squared_error: 333885.5000 - val_loss: 296584.4062 - val_root_mean_squared_error: 323097.0938\n",
            "Epoch 9/100\n",
            "25/25 [==============================] - 0s 4ms/step - loss: 309390.6875 - root_mean_squared_error: 333862.5938 - val_loss: 296558.8750 - val_root_mean_squared_error: 323074.1250\n",
            "Epoch 10/100\n",
            "25/25 [==============================] - 0s 3ms/step - loss: 309365.7188 - root_mean_squared_error: 333839.4688 - val_loss: 296534.0000 - val_root_mean_squared_error: 323050.9375\n",
            "Epoch 11/100\n",
            "25/25 [==============================] - 0s 4ms/step - loss: 309340.5625 - root_mean_squared_error: 333815.9688 - val_loss: 296509.4062 - val_root_mean_squared_error: 323028.3750\n",
            "Epoch 12/100\n",
            "25/25 [==============================] - 0s 3ms/step - loss: 309315.6250 - root_mean_squared_error: 333792.9688 - val_loss: 296484.2812 - val_root_mean_squared_error: 323005.0625\n",
            "Epoch 13/100\n",
            "25/25 [==============================] - 0s 3ms/step - loss: 309290.8125 - root_mean_squared_error: 333769.6562 - val_loss: 296459.5625 - val_root_mean_squared_error: 322982.2500\n",
            "Epoch 14/100\n",
            "25/25 [==============================] - 0s 3ms/step - loss: 309265.6875 - root_mean_squared_error: 333746.1875 - val_loss: 296433.8438 - val_root_mean_squared_error: 322958.9688\n",
            "Epoch 15/100\n",
            "25/25 [==============================] - 0s 3ms/step - loss: 309240.6562 - root_mean_squared_error: 333723.3125 - val_loss: 296409.1250 - val_root_mean_squared_error: 322936.4688\n",
            "Epoch 16/100\n",
            "25/25 [==============================] - 0s 4ms/step - loss: 309215.6875 - root_mean_squared_error: 333700.5000 - val_loss: 296383.6875 - val_root_mean_squared_error: 322913.2812\n",
            "Epoch 17/100\n",
            "25/25 [==============================] - 0s 4ms/step - loss: 309190.6250 - root_mean_squared_error: 333677.7500 - val_loss: 296358.8438 - val_root_mean_squared_error: 322890.4062\n",
            "Epoch 18/100\n",
            "25/25 [==============================] - 0s 4ms/step - loss: 309165.6562 - root_mean_squared_error: 333654.2500 - val_loss: 296334.4375 - val_root_mean_squared_error: 322868.2188\n",
            "Epoch 19/100\n",
            "25/25 [==============================] - 0s 3ms/step - loss: 309140.8750 - root_mean_squared_error: 333630.5000 - val_loss: 296308.6562 - val_root_mean_squared_error: 322843.7500\n",
            "Epoch 20/100\n",
            "25/25 [==============================] - 0s 4ms/step - loss: 309115.5938 - root_mean_squared_error: 333607.1250 - val_loss: 296284.3750 - val_root_mean_squared_error: 322821.5312\n",
            "Epoch 21/100\n",
            "25/25 [==============================] - 0s 4ms/step - loss: 309090.5625 - root_mean_squared_error: 333583.9062 - val_loss: 296259.3438 - val_root_mean_squared_error: 322798.6562\n",
            "Epoch 22/100\n",
            "25/25 [==============================] - 0s 3ms/step - loss: 309065.6875 - root_mean_squared_error: 333560.8125 - val_loss: 296234.0312 - val_root_mean_squared_error: 322775.0312\n",
            "Epoch 23/100\n",
            "25/25 [==============================] - 0s 3ms/step - loss: 309040.8125 - root_mean_squared_error: 333537.7188 - val_loss: 296209.3438 - val_root_mean_squared_error: 322753.1250\n",
            "Epoch 24/100\n",
            "25/25 [==============================] - 0s 4ms/step - loss: 309015.6562 - root_mean_squared_error: 333514.5625 - val_loss: 296184.4375 - val_root_mean_squared_error: 322729.2812\n",
            "Epoch 25/100\n",
            "25/25 [==============================] - 0s 4ms/step - loss: 308990.6562 - root_mean_squared_error: 333491.6250 - val_loss: 296159.2188 - val_root_mean_squared_error: 322706.8438\n",
            "Epoch 26/100\n",
            "25/25 [==============================] - 0s 3ms/step - loss: 308965.5312 - root_mean_squared_error: 333468.5000 - val_loss: 296134.0625 - val_root_mean_squared_error: 322683.6562\n",
            "Epoch 27/100\n",
            "25/25 [==============================] - 0s 4ms/step - loss: 308940.5938 - root_mean_squared_error: 333445.2188 - val_loss: 296109.4062 - val_root_mean_squared_error: 322661.3438\n",
            "Epoch 28/100\n",
            "25/25 [==============================] - 0s 3ms/step - loss: 308915.8438 - root_mean_squared_error: 333422.4062 - val_loss: 296083.5312 - val_root_mean_squared_error: 322637.5000\n",
            "Epoch 29/100\n",
            "25/25 [==============================] - 0s 3ms/step - loss: 308890.6562 - root_mean_squared_error: 333399.1562 - val_loss: 296059.0312 - val_root_mean_squared_error: 322615.1875\n",
            "Epoch 30/100\n",
            "25/25 [==============================] - 0s 4ms/step - loss: 308865.6250 - root_mean_squared_error: 333375.5625 - val_loss: 296034.0938 - val_root_mean_squared_error: 322591.8438\n",
            "Epoch 31/100\n",
            "25/25 [==============================] - 0s 3ms/step - loss: 308840.6250 - root_mean_squared_error: 333351.9688 - val_loss: 296009.5938 - val_root_mean_squared_error: 322569.3438\n",
            "Epoch 32/100\n",
            "25/25 [==============================] - 0s 4ms/step - loss: 308815.6875 - root_mean_squared_error: 333329.5312 - val_loss: 295983.6875 - val_root_mean_squared_error: 322546.0312\n",
            "Epoch 33/100\n",
            "25/25 [==============================] - 0s 4ms/step - loss: 308790.5938 - root_mean_squared_error: 333306.9375 - val_loss: 295958.8750 - val_root_mean_squared_error: 322523.7812\n",
            "Epoch 34/100\n",
            "25/25 [==============================] - 0s 3ms/step - loss: 308765.6562 - root_mean_squared_error: 333283.3750 - val_loss: 295934.8125 - val_root_mean_squared_error: 322500.8438\n",
            "Epoch 35/100\n",
            "25/25 [==============================] - 0s 3ms/step - loss: 308740.6875 - root_mean_squared_error: 333259.6250 - val_loss: 295909.6250 - val_root_mean_squared_error: 322477.3125\n",
            "Epoch 36/100\n",
            "25/25 [==============================] - 0s 6ms/step - loss: 308715.6875 - root_mean_squared_error: 333236.6250 - val_loss: 295884.3438 - val_root_mean_squared_error: 322454.0312\n",
            "Epoch 37/100\n",
            "25/25 [==============================] - 0s 6ms/step - loss: 308690.6562 - root_mean_squared_error: 333213.3438 - val_loss: 295859.3750 - val_root_mean_squared_error: 322431.6562\n",
            "Epoch 38/100\n",
            "25/25 [==============================] - 0s 5ms/step - loss: 308665.8438 - root_mean_squared_error: 333190.9688 - val_loss: 295833.9688 - val_root_mean_squared_error: 322409.2812\n",
            "Epoch 39/100\n",
            "25/25 [==============================] - 0s 5ms/step - loss: 308640.8750 - root_mean_squared_error: 333168.2812 - val_loss: 295808.6875 - val_root_mean_squared_error: 322386.1250\n",
            "Epoch 40/100\n",
            "25/25 [==============================] - 0s 5ms/step - loss: 308615.6562 - root_mean_squared_error: 333144.5625 - val_loss: 295784.3438 - val_root_mean_squared_error: 322363.2188\n",
            "Epoch 41/100\n",
            "25/25 [==============================] - 0s 5ms/step - loss: 308590.6562 - root_mean_squared_error: 333120.8438 - val_loss: 295759.4062 - val_root_mean_squared_error: 322339.9375\n",
            "Epoch 42/100\n",
            "25/25 [==============================] - 0s 5ms/step - loss: 308565.6250 - root_mean_squared_error: 333097.6250 - val_loss: 295734.3125 - val_root_mean_squared_error: 322317.3438\n",
            "Epoch 43/100\n",
            "25/25 [==============================] - 0s 6ms/step - loss: 308540.7188 - root_mean_squared_error: 333075.0938 - val_loss: 295708.5000 - val_root_mean_squared_error: 322293.9062\n",
            "Epoch 44/100\n",
            "25/25 [==============================] - 0s 5ms/step - loss: 308515.5312 - root_mean_squared_error: 333051.7188 - val_loss: 295683.7500 - val_root_mean_squared_error: 322271.0938\n",
            "Epoch 45/100\n",
            "25/25 [==============================] - 0s 6ms/step - loss: 308490.5938 - root_mean_squared_error: 333028.3438 - val_loss: 295658.6875 - val_root_mean_squared_error: 322247.8125\n",
            "Epoch 46/100\n",
            "25/25 [==============================] - 0s 6ms/step - loss: 308465.7812 - root_mean_squared_error: 333005.4688 - val_loss: 295634.0938 - val_root_mean_squared_error: 322225.4688\n",
            "Epoch 47/100\n",
            "25/25 [==============================] - 0s 5ms/step - loss: 308440.7188 - root_mean_squared_error: 332981.7812 - val_loss: 295609.4062 - val_root_mean_squared_error: 322202.0000\n",
            "Epoch 48/100\n",
            "25/25 [==============================] - 0s 6ms/step - loss: 308415.6875 - root_mean_squared_error: 332958.9062 - val_loss: 295584.1562 - val_root_mean_squared_error: 322179.5938\n",
            "Epoch 49/100\n",
            "25/25 [==============================] - 0s 5ms/step - loss: 308390.8125 - root_mean_squared_error: 332935.7188 - val_loss: 295559.5938 - val_root_mean_squared_error: 322156.5000\n",
            "Epoch 50/100\n",
            "25/25 [==============================] - 0s 5ms/step - loss: 308365.7188 - root_mean_squared_error: 332912.4375 - val_loss: 295534.0938 - val_root_mean_squared_error: 322133.2188\n",
            "Epoch 51/100\n",
            "25/25 [==============================] - 0s 5ms/step - loss: 308340.6250 - root_mean_squared_error: 332889.2812 - val_loss: 295509.4688 - val_root_mean_squared_error: 322110.4688\n",
            "Epoch 52/100\n",
            "25/25 [==============================] - 0s 5ms/step - loss: 308315.7500 - root_mean_squared_error: 332866.4688 - val_loss: 295484.4375 - val_root_mean_squared_error: 322087.8438\n",
            "Epoch 53/100\n",
            "25/25 [==============================] - 0s 5ms/step - loss: 308290.5938 - root_mean_squared_error: 332843.0312 - val_loss: 295459.6875 - val_root_mean_squared_error: 322064.6250\n",
            "Epoch 54/100\n",
            "25/25 [==============================] - 0s 5ms/step - loss: 308265.5312 - root_mean_squared_error: 332819.5938 - val_loss: 295433.9062 - val_root_mean_squared_error: 322041.6875\n",
            "Epoch 55/100\n",
            "25/25 [==============================] - 0s 6ms/step - loss: 308240.6250 - root_mean_squared_error: 332797.1250 - val_loss: 295409.2500 - val_root_mean_squared_error: 322019.0312\n",
            "Epoch 56/100\n",
            "25/25 [==============================] - 0s 5ms/step - loss: 308215.6250 - root_mean_squared_error: 332773.6875 - val_loss: 295384.6250 - val_root_mean_squared_error: 321996.1562\n",
            "Epoch 57/100\n",
            "25/25 [==============================] - 0s 5ms/step - loss: 308190.8750 - root_mean_squared_error: 332750.4062 - val_loss: 295359.4688 - val_root_mean_squared_error: 321973.1562\n",
            "Epoch 58/100\n",
            "25/25 [==============================] - 0s 5ms/step - loss: 308165.6250 - root_mean_squared_error: 332726.9688 - val_loss: 295333.9688 - val_root_mean_squared_error: 321948.7500\n",
            "Epoch 59/100\n",
            "25/25 [==============================] - 0s 5ms/step - loss: 308140.6875 - root_mean_squared_error: 332703.9688 - val_loss: 295309.3750 - val_root_mean_squared_error: 321927.4062\n",
            "Epoch 60/100\n",
            "25/25 [==============================] - 0s 5ms/step - loss: 308115.5625 - root_mean_squared_error: 332681.4688 - val_loss: 295284.1562 - val_root_mean_squared_error: 321904.5000\n",
            "Epoch 61/100\n",
            "25/25 [==============================] - 0s 3ms/step - loss: 308090.6875 - root_mean_squared_error: 332657.7812 - val_loss: 295259.1250 - val_root_mean_squared_error: 321880.7812\n",
            "Epoch 62/100\n",
            "25/25 [==============================] - 0s 3ms/step - loss: 308065.6250 - root_mean_squared_error: 332634.8438 - val_loss: 295234.1250 - val_root_mean_squared_error: 321858.5625\n",
            "Epoch 63/100\n",
            "25/25 [==============================] - 0s 3ms/step - loss: 308040.6875 - root_mean_squared_error: 332611.7500 - val_loss: 295209.3438 - val_root_mean_squared_error: 321835.5625\n",
            "Epoch 64/100\n",
            "25/25 [==============================] - 0s 3ms/step - loss: 308015.8750 - root_mean_squared_error: 332588.5000 - val_loss: 295184.4062 - val_root_mean_squared_error: 321812.7188\n",
            "Epoch 65/100\n",
            "25/25 [==============================] - 0s 3ms/step - loss: 307990.7812 - root_mean_squared_error: 332565.1875 - val_loss: 295159.8438 - val_root_mean_squared_error: 321789.5312\n",
            "Epoch 66/100\n",
            "25/25 [==============================] - 0s 3ms/step - loss: 307965.8750 - root_mean_squared_error: 332542.0938 - val_loss: 295134.0938 - val_root_mean_squared_error: 321766.5312\n",
            "Epoch 67/100\n",
            "25/25 [==============================] - 0s 3ms/step - loss: 307940.5938 - root_mean_squared_error: 332518.8125 - val_loss: 295109.4688 - val_root_mean_squared_error: 321743.6562\n",
            "Epoch 68/100\n",
            "25/25 [==============================] - 0s 3ms/step - loss: 307915.8125 - root_mean_squared_error: 332495.8125 - val_loss: 295084.0312 - val_root_mean_squared_error: 321720.6875\n",
            "Epoch 69/100\n",
            "25/25 [==============================] - 0s 4ms/step - loss: 307890.7188 - root_mean_squared_error: 332472.2188 - val_loss: 295059.4062 - val_root_mean_squared_error: 321697.3750\n",
            "Epoch 70/100\n",
            "25/25 [==============================] - 0s 3ms/step - loss: 307865.5938 - root_mean_squared_error: 332448.7188 - val_loss: 295034.4688 - val_root_mean_squared_error: 321674.2812\n",
            "Epoch 71/100\n",
            "25/25 [==============================] - 0s 3ms/step - loss: 307840.5938 - root_mean_squared_error: 332426.0312 - val_loss: 295009.6875 - val_root_mean_squared_error: 321651.7500\n",
            "Epoch 72/100\n",
            "25/25 [==============================] - 0s 3ms/step - loss: 307815.6250 - root_mean_squared_error: 332403.2812 - val_loss: 294984.3125 - val_root_mean_squared_error: 321629.1562\n",
            "Epoch 73/100\n",
            "25/25 [==============================] - 0s 3ms/step - loss: 307790.6250 - root_mean_squared_error: 332380.0312 - val_loss: 294959.5938 - val_root_mean_squared_error: 321606.0000\n",
            "Epoch 74/100\n",
            "25/25 [==============================] - 0s 3ms/step - loss: 307765.6250 - root_mean_squared_error: 332356.7188 - val_loss: 294934.2500 - val_root_mean_squared_error: 321582.9375\n",
            "Epoch 75/100\n",
            "25/25 [==============================] - 0s 3ms/step - loss: 307740.6875 - root_mean_squared_error: 332333.9375 - val_loss: 294909.1250 - val_root_mean_squared_error: 321560.9062\n",
            "Epoch 76/100\n",
            "25/25 [==============================] - 0s 3ms/step - loss: 307715.6562 - root_mean_squared_error: 332311.2188 - val_loss: 294883.7188 - val_root_mean_squared_error: 321537.5625\n",
            "Epoch 77/100\n",
            "25/25 [==============================] - 0s 3ms/step - loss: 307690.5938 - root_mean_squared_error: 332287.8438 - val_loss: 294859.1250 - val_root_mean_squared_error: 321514.5938\n",
            "Epoch 78/100\n",
            "25/25 [==============================] - 0s 3ms/step - loss: 307665.7188 - root_mean_squared_error: 332264.2500 - val_loss: 294834.3125 - val_root_mean_squared_error: 321490.9375\n",
            "Epoch 79/100\n",
            "25/25 [==============================] - 0s 3ms/step - loss: 307640.6250 - root_mean_squared_error: 332240.6562 - val_loss: 294809.5312 - val_root_mean_squared_error: 321468.3125\n",
            "Epoch 80/100\n",
            "25/25 [==============================] - 0s 4ms/step - loss: 307615.5312 - root_mean_squared_error: 332217.8438 - val_loss: 294784.0312 - val_root_mean_squared_error: 321445.1875\n",
            "Epoch 81/100\n",
            "25/25 [==============================] - 0s 3ms/step - loss: 307590.6562 - root_mean_squared_error: 332194.9375 - val_loss: 294759.0938 - val_root_mean_squared_error: 321422.8438\n",
            "Epoch 82/100\n",
            "25/25 [==============================] - 0s 3ms/step - loss: 307565.6875 - root_mean_squared_error: 332172.4375 - val_loss: 294733.9688 - val_root_mean_squared_error: 321399.7500\n",
            "Epoch 83/100\n",
            "25/25 [==============================] - 0s 3ms/step - loss: 307540.7500 - root_mean_squared_error: 332149.3438 - val_loss: 294708.7188 - val_root_mean_squared_error: 321376.7812\n",
            "Epoch 84/100\n",
            "25/25 [==============================] - 0s 4ms/step - loss: 307515.7500 - root_mean_squared_error: 332125.6250 - val_loss: 294684.3125 - val_root_mean_squared_error: 321353.7812\n",
            "Epoch 85/100\n",
            "25/25 [==============================] - 0s 4ms/step - loss: 307490.6562 - root_mean_squared_error: 332102.5000 - val_loss: 294659.0312 - val_root_mean_squared_error: 321331.4375\n",
            "Epoch 86/100\n",
            "25/25 [==============================] - 0s 3ms/step - loss: 307465.6875 - root_mean_squared_error: 332079.0625 - val_loss: 294633.9688 - val_root_mean_squared_error: 321307.4688\n",
            "Epoch 87/100\n",
            "25/25 [==============================] - 0s 4ms/step - loss: 307440.8125 - root_mean_squared_error: 332056.2188 - val_loss: 294609.9688 - val_root_mean_squared_error: 321285.6250\n",
            "Epoch 88/100\n",
            "25/25 [==============================] - 0s 3ms/step - loss: 307415.5312 - root_mean_squared_error: 332032.7500 - val_loss: 294583.9688 - val_root_mean_squared_error: 321261.8438\n",
            "Epoch 89/100\n",
            "25/25 [==============================] - 0s 3ms/step - loss: 307390.7812 - root_mean_squared_error: 332010.3750 - val_loss: 294558.6250 - val_root_mean_squared_error: 321239.8438\n",
            "Epoch 90/100\n",
            "25/25 [==============================] - 0s 3ms/step - loss: 307365.6250 - root_mean_squared_error: 331987.1875 - val_loss: 294533.8125 - val_root_mean_squared_error: 321216.2500\n",
            "Epoch 91/100\n",
            "25/25 [==============================] - 0s 3ms/step - loss: 307340.6875 - root_mean_squared_error: 331964.0000 - val_loss: 294509.1562 - val_root_mean_squared_error: 321194.0312\n",
            "Epoch 92/100\n",
            "25/25 [==============================] - 0s 3ms/step - loss: 307315.6250 - root_mean_squared_error: 331940.4688 - val_loss: 294484.4062 - val_root_mean_squared_error: 321170.4062\n",
            "Epoch 93/100\n",
            "25/25 [==============================] - 0s 4ms/step - loss: 307290.8750 - root_mean_squared_error: 331918.2500 - val_loss: 294458.9062 - val_root_mean_squared_error: 321148.2188\n",
            "Epoch 94/100\n",
            "25/25 [==============================] - 0s 4ms/step - loss: 307265.6250 - root_mean_squared_error: 331894.8438 - val_loss: 294434.1250 - val_root_mean_squared_error: 321124.8750\n",
            "Epoch 95/100\n",
            "25/25 [==============================] - 0s 4ms/step - loss: 307240.5938 - root_mean_squared_error: 331871.5938 - val_loss: 294409.1875 - val_root_mean_squared_error: 321102.3750\n",
            "Epoch 96/100\n",
            "25/25 [==============================] - 0s 4ms/step - loss: 307215.6875 - root_mean_squared_error: 331847.9375 - val_loss: 294384.3750 - val_root_mean_squared_error: 321078.7500\n",
            "Epoch 97/100\n",
            "25/25 [==============================] - 0s 4ms/step - loss: 307190.6250 - root_mean_squared_error: 331824.5000 - val_loss: 294359.5312 - val_root_mean_squared_error: 321056.2812\n",
            "Epoch 98/100\n",
            "25/25 [==============================] - 0s 3ms/step - loss: 307165.7500 - root_mean_squared_error: 331801.8125 - val_loss: 294334.5000 - val_root_mean_squared_error: 321033.2188\n",
            "Epoch 99/100\n",
            "25/25 [==============================] - 0s 3ms/step - loss: 307140.6250 - root_mean_squared_error: 331777.8750 - val_loss: 294309.7188 - val_root_mean_squared_error: 321009.5938\n",
            "Epoch 100/100\n",
            "25/25 [==============================] - 0s 3ms/step - loss: 307115.6875 - root_mean_squared_error: 331755.4062 - val_loss: 294284.0312 - val_root_mean_squared_error: 320987.6562\n"
          ]
        }
      ]
    },
    {
      "cell_type": "code",
      "source": [
        "import matplotlib.pyplot as plt\n",
        "\n",
        "# Assuming `history` is the variable containing the history object\n",
        "plt.plot(history.history['loss'])\n",
        "plt.plot(history.history['val_loss'])\n",
        "plt.title('Mean Absolute Error- Model Loss')\n",
        "plt.xlabel('Epoch')\n",
        "plt.ylabel('Loss')\n",
        "plt.legend(['training', 'validation'], loc='upper right')\n",
        "plt.show()"
      ],
      "metadata": {
        "colab": {
          "base_uri": "https://localhost:8080/",
          "height": 472
        },
        "id": "qyQcseJjztR0",
        "outputId": "8981537a-8b57-4efb-bdc3-f88f409760f4"
      },
      "execution_count": 78,
      "outputs": [
        {
          "output_type": "display_data",
          "data": {
            "text/plain": [
              "<Figure size 640x480 with 1 Axes>"
            ],
            "image/png": "[encoded data removed]"
          },
          "metadata": {}
        }
      ]
    },
    {
      "cell_type": "code",
      "source": [
        "plt.plot(history.history['root_mean_squared_error'])\n",
        "plt.plot(history.history['val_root_mean_squared_error'])\n",
        "plt.title('Root Mean Square - Model Loss')\n",
        "plt.xlabel('Epoch')\n",
        "plt.ylabel('Loss')\n",
        "plt.legend(['training', 'validation'] ,loc='upper right')\n",
        "plt.show()"
      ],
      "metadata": {
        "colab": {
          "base_uri": "https://localhost:8080/",
          "height": 472
        },
        "id": "njsCkOmb7ceN",
        "outputId": "131e776b-b8ea-4c91-a860-0a7dc14cd25e"
      },
      "execution_count": 79,
      "outputs": [
        {
          "output_type": "display_data",
          "data": {
            "text/plain": [
              "<Figure size 640x480 with 1 Axes>"
            ],
            "image/png": "[encoded data removed]"
          },
          "metadata": {}
        }
      ]
    },
    {
      "cell_type": "code",
      "source": [
        "model.evaluate(X_test, y_test)"
      ],
      "metadata": {
        "colab": {
          "base_uri": "https://localhost:8080/"
        },
        "id": "I1aGVcG_7_oO",
        "outputId": "1abe9d12-995c-4d95-c71a-c1a7d3de9792"
      },
      "execution_count": 80,
      "outputs": [
        {
          "output_type": "stream",
          "name": "stdout",
          "text": [
            "4/4 [==============================] - 0s 4ms/step - loss: 309099.6250 - root_mean_squared_error: 334382.9375\n"
          ]
        },
        {
          "output_type": "execute_result",
          "data": {
            "text/plain": [
              "[309099.625, 334382.9375]"
            ]
          },
          "metadata": {},
          "execution_count": 80
        }
      ]
    },
    {
      "cell_type": "markdown",
      "source": [
        "## Predicting"
      ],
      "metadata": {
        "id": "ahEeML70SVsN"
      }
    },
    {
      "cell_type": "code",
      "source": [
        "model.predict(X_test[0])"
      ],
      "metadata": {
        "id": "uwSramE29qeH",
        "colab": {
          "base_uri": "https://localhost:8080/"
        },
        "outputId": "a75ec3c9-b80c-48f0-f7c6-daa666c80480"
      },
      "execution_count": 85,
      "outputs": [
        {
          "output_type": "stream",
          "name": "stdout",
          "text": [
            "1/1 [==============================] - 0s 81ms/step\n"
          ]
        },
        {
          "output_type": "execute_result",
          "data": {
            "text/plain": [
              "array([[2496.65]], dtype=float32)"
            ]
          },
          "metadata": {},
          "execution_count": 85
        }
      ]
    },
    {
      "cell_type": "code",
      "source": [
        "y_test[0]"
      ],
      "metadata": {
        "id": "ovaGQdnTSTdL",
        "colab": {
          "base_uri": "https://localhost:8080/"
        },
        "outputId": "98fde60a-4d79-489d-b259-5ae3e5f3687e"
      },
      "execution_count": 86,
      "outputs": [
        {
          "output_type": "execute_result",
          "data": {
            "text/plain": [
              "<tf.Tensor: shape=(1,), dtype=float64, numpy=array([360410.])>"
            ]
          },
          "metadata": {},
          "execution_count": 86
        }
      ]
    },
    {
      "cell_type": "code",
      "source": [],
      "metadata": {
        "id": "UIsAx-myFiGO"
      },
      "execution_count": null,
      "outputs": []
    }
  ]
}