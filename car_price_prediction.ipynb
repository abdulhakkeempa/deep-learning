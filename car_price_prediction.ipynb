{
  "nbformat": 4,
  "nbformat_minor": 0,
  "metadata": {
    "colab": {
      "provenance": [],
      "authorship_tag": "ABX9TyOHBiKm/GYwHV+rjnL9vmhY"
    },
    "kernelspec": {
      "name": "python3",
      "display_name": "Python 3"
    },
    "language_info": {
      "name": "python"
    }
  },
  "cells": [
    {
      "cell_type": "code",
      "execution_count": 33,
      "metadata": {
        "id": "PYD4LJL2KhLo"
      },
      "outputs": [],
      "source": [
        "import tensorflow as tf\n",
        "import pandas as pd\n",
        "import seaborn as sns\n",
        "import numpy as np\n",
        "from tensorflow.keras.layers import Normalization, Dense, InputLayer\n",
        "from tensorflow.keras.losses import MeanSquaredError, Huber, MeanAbsoluteError\n",
        "from tensorflow.keras.metrics import RootMeanSquaredError\n",
        "from tensorflow.keras.optimizers import Adam"
      ]
    },
    {
      "cell_type": "markdown",
      "source": [
        "## Data Preperation"
      ],
      "metadata": {
        "id": "5omFq0fJRT9O"
      }
    },
    {
      "cell_type": "code",
      "source": [
        "import os\n",
        "os.environ['eda'] = \"False\""
      ],
      "metadata": {
        "id": "5Js7ykS6yfVh"
      },
      "execution_count": 5,
      "outputs": []
    },
    {
      "cell_type": "code",
      "source": [
        "df = pd.read_csv(\"/content/second-hand-car.csv\")"
      ],
      "metadata": {
        "id": "ArFwlemsMzJf"
      },
      "execution_count": 6,
      "outputs": []
    },
    {
      "cell_type": "code",
      "source": [
        "df.head()"
      ],
      "metadata": {
        "colab": {
          "base_uri": "https://localhost:8080/",
          "height": 0
        },
        "id": "KJPXSEJvM5ft",
        "outputId": "f80e139a-6534-4718-ac63-6c1a47f4fb13"
      },
      "execution_count": 7,
      "outputs": [
        {
          "output_type": "execute_result",
          "data": {
            "text/plain": [
              "   v.id  on road old  on road now  years      km  rating  condition  economy  \\\n",
              "0     1       535651       798186      3   78945       1          2       14   \n",
              "1     2       591911       861056      6  117220       5          9        9   \n",
              "2     3       686990       770762      2  132538       2          8       15   \n",
              "3     4       573999       722381      4  101065       4          3       11   \n",
              "4     5       691388       811335      6   61559       3          9       12   \n",
              "\n",
              "   top speed  hp  torque  current price  \n",
              "0        177  73     123       351318.0  \n",
              "1        148  74      95       285001.5  \n",
              "2        181  53      97       215386.0  \n",
              "3        197  54     116       244295.5  \n",
              "4        160  53     105       531114.5  "
            ],
            "text/html": [
              "\n",
              "  <div id=\"df-68136c6b-9c69-4cdf-b597-c5dbb041beec\" class=\"colab-df-container\">\n",
              "    <div>\n",
              "<style scoped>\n",
              "    .dataframe tbody tr th:only-of-type {\n",
              "        vertical-align: middle;\n",
              "    }\n",
              "\n",
              "    .dataframe tbody tr th {\n",
              "        vertical-align: top;\n",
              "    }\n",
              "\n",
              "    .dataframe thead th {\n",
              "        text-align: right;\n",
              "    }\n",
              "</style>\n",
              "<table border=\"1\" class=\"dataframe\">\n",
              "  <thead>\n",
              "    <tr style=\"text-align: right;\">\n",
              "      <th></th>\n",
              "      <th>v.id</th>\n",
              "      <th>on road old</th>\n",
              "      <th>on road now</th>\n",
              "      <th>years</th>\n",
              "      <th>km</th>\n",
              "      <th>rating</th>\n",
              "      <th>condition</th>\n",
              "      <th>economy</th>\n",
              "      <th>top speed</th>\n",
              "      <th>hp</th>\n",
              "      <th>torque</th>\n",
              "      <th>current price</th>\n",
              "    </tr>\n",
              "  </thead>\n",
              "  <tbody>\n",
              "    <tr>\n",
              "      <th>0</th>\n",
              "      <td>1</td>\n",
              "      <td>535651</td>\n",
              "      <td>798186</td>\n",
              "      <td>3</td>\n",
              "      <td>78945</td>\n",
              "      <td>1</td>\n",
              "      <td>2</td>\n",
              "      <td>14</td>\n",
              "      <td>177</td>\n",
              "      <td>73</td>\n",
              "      <td>123</td>\n",
              "      <td>351318.0</td>\n",
              "    </tr>\n",
              "    <tr>\n",
              "      <th>1</th>\n",
              "      <td>2</td>\n",
              "      <td>591911</td>\n",
              "      <td>861056</td>\n",
              "      <td>6</td>\n",
              "      <td>117220</td>\n",
              "      <td>5</td>\n",
              "      <td>9</td>\n",
              "      <td>9</td>\n",
              "      <td>148</td>\n",
              "      <td>74</td>\n",
              "      <td>95</td>\n",
              "      <td>285001.5</td>\n",
              "    </tr>\n",
              "    <tr>\n",
              "      <th>2</th>\n",
              "      <td>3</td>\n",
              "      <td>686990</td>\n",
              "      <td>770762</td>\n",
              "      <td>2</td>\n",
              "      <td>132538</td>\n",
              "      <td>2</td>\n",
              "      <td>8</td>\n",
              "      <td>15</td>\n",
              "      <td>181</td>\n",
              "      <td>53</td>\n",
              "      <td>97</td>\n",
              "      <td>215386.0</td>\n",
              "    </tr>\n",
              "    <tr>\n",
              "      <th>3</th>\n",
              "      <td>4</td>\n",
              "      <td>573999</td>\n",
              "      <td>722381</td>\n",
              "      <td>4</td>\n",
              "      <td>101065</td>\n",
              "      <td>4</td>\n",
              "      <td>3</td>\n",
              "      <td>11</td>\n",
              "      <td>197</td>\n",
              "      <td>54</td>\n",
              "      <td>116</td>\n",
              "      <td>244295.5</td>\n",
              "    </tr>\n",
              "    <tr>\n",
              "      <th>4</th>\n",
              "      <td>5</td>\n",
              "      <td>691388</td>\n",
              "      <td>811335</td>\n",
              "      <td>6</td>\n",
              "      <td>61559</td>\n",
              "      <td>3</td>\n",
              "      <td>9</td>\n",
              "      <td>12</td>\n",
              "      <td>160</td>\n",
              "      <td>53</td>\n",
              "      <td>105</td>\n",
              "      <td>531114.5</td>\n",
              "    </tr>\n",
              "  </tbody>\n",
              "</table>\n",
              "</div>\n",
              "    <div class=\"colab-df-buttons\">\n",
              "\n",
              "  <div class=\"colab-df-container\">\n",
              "    <button class=\"colab-df-convert\" onclick=\"convertToInteractive('df-68136c6b-9c69-4cdf-b597-c5dbb041beec')\"\n",
              "            title=\"Convert this dataframe to an interactive table.\"\n",
              "            style=\"display:none;\">\n",
              "\n",
              "  <svg xmlns=\"http://www.w3.org/2000/svg\" height=\"24px\" viewBox=\"0 -960 960 960\">\n",
              "    <path d=\"M120-120v-720h720v720H120Zm60-500h600v-160H180v160Zm220 220h160v-160H400v160Zm0 220h160v-160H400v160ZM180-400h160v-160H180v160Zm440 0h160v-160H620v160ZM180-180h160v-160H180v160Zm440 0h160v-160H620v160Z\"/>\n",
              "  </svg>\n",
              "    </button>\n",
              "\n",
              "  <style>\n",
              "    .colab-df-container {\n",
              "      display:flex;\n",
              "      gap: 12px;\n",
              "    }\n",
              "\n",
              "    .colab-df-convert {\n",
              "      background-color: #E8F0FE;\n",
              "      border: none;\n",
              "      border-radius: 50%;\n",
              "      cursor: pointer;\n",
              "      display: none;\n",
              "      fill: #1967D2;\n",
              "      height: 32px;\n",
              "      padding: 0 0 0 0;\n",
              "      width: 32px;\n",
              "    }\n",
              "\n",
              "    .colab-df-convert:hover {\n",
              "      background-color: #E2EBFA;\n",
              "      box-shadow: 0px 1px 2px rgba(60, 64, 67, 0.3), 0px 1px 3px 1px rgba(60, 64, 67, 0.15);\n",
              "      fill: #174EA6;\n",
              "    }\n",
              "\n",
              "    .colab-df-buttons div {\n",
              "      margin-bottom: 4px;\n",
              "    }\n",
              "\n",
              "    [theme=dark] .colab-df-convert {\n",
              "      background-color: #3B4455;\n",
              "      fill: #D2E3FC;\n",
              "    }\n",
              "\n",
              "    [theme=dark] .colab-df-convert:hover {\n",
              "      background-color: #434B5C;\n",
              "      box-shadow: 0px 1px 3px 1px rgba(0, 0, 0, 0.15);\n",
              "      filter: drop-shadow(0px 1px 2px rgba(0, 0, 0, 0.3));\n",
              "      fill: #FFFFFF;\n",
              "    }\n",
              "  </style>\n",
              "\n",
              "    <script>\n",
              "      const buttonEl =\n",
              "        document.querySelector('#df-68136c6b-9c69-4cdf-b597-c5dbb041beec button.colab-df-convert');\n",
              "      buttonEl.style.display =\n",
              "        google.colab.kernel.accessAllowed ? 'block' : 'none';\n",
              "\n",
              "      async function convertToInteractive(key) {\n",
              "        const element = document.querySelector('#df-68136c6b-9c69-4cdf-b597-c5dbb041beec');\n",
              "        const dataTable =\n",
              "          await google.colab.kernel.invokeFunction('convertToInteractive',\n",
              "                                                    [key], {});\n",
              "        if (!dataTable) return;\n",
              "\n",
              "        const docLinkHtml = 'Like what you see? Visit the ' +\n",
              "          '<a target=\"_blank\" href=https://colab.research.google.com/notebooks/data_table.ipynb>data table notebook</a>'\n",
              "          + ' to learn more about interactive tables.';\n",
              "        element.innerHTML = '';\n",
              "        dataTable['output_type'] = 'display_data';\n",
              "        await google.colab.output.renderOutput(dataTable, element);\n",
              "        const docLink = document.createElement('div');\n",
              "        docLink.innerHTML = docLinkHtml;\n",
              "        element.appendChild(docLink);\n",
              "      }\n",
              "    </script>\n",
              "  </div>\n",
              "\n",
              "\n",
              "<div id=\"df-36db30d5-aa93-4b2c-adfa-5637847a7d3f\">\n",
              "  <button class=\"colab-df-quickchart\" onclick=\"quickchart('df-36db30d5-aa93-4b2c-adfa-5637847a7d3f')\"\n",
              "            title=\"Suggest charts\"\n",
              "            style=\"display:none;\">\n",
              "\n",
              "<svg xmlns=\"http://www.w3.org/2000/svg\" height=\"24px\"viewBox=\"0 0 24 24\"\n",
              "     width=\"24px\">\n",
              "    <g>\n",
              "        <path d=\"M19 3H5c-1.1 0-2 .9-2 2v14c0 1.1.9 2 2 2h14c1.1 0 2-.9 2-2V5c0-1.1-.9-2-2-2zM9 17H7v-7h2v7zm4 0h-2V7h2v10zm4 0h-2v-4h2v4z\"/>\n",
              "    </g>\n",
              "</svg>\n",
              "  </button>\n",
              "\n",
              "<style>\n",
              "  .colab-df-quickchart {\n",
              "      --bg-color: #E8F0FE;\n",
              "      --fill-color: #1967D2;\n",
              "      --hover-bg-color: #E2EBFA;\n",
              "      --hover-fill-color: #174EA6;\n",
              "      --disabled-fill-color: #AAA;\n",
              "      --disabled-bg-color: #DDD;\n",
              "  }\n",
              "\n",
              "  [theme=dark] .colab-df-quickchart {\n",
              "      --bg-color: #3B4455;\n",
              "      --fill-color: #D2E3FC;\n",
              "      --hover-bg-color: #434B5C;\n",
              "      --hover-fill-color: #FFFFFF;\n",
              "      --disabled-bg-color: #3B4455;\n",
              "      --disabled-fill-color: #666;\n",
              "  }\n",
              "\n",
              "  .colab-df-quickchart {\n",
              "    background-color: var(--bg-color);\n",
              "    border: none;\n",
              "    border-radius: 50%;\n",
              "    cursor: pointer;\n",
              "    display: none;\n",
              "    fill: var(--fill-color);\n",
              "    height: 32px;\n",
              "    padding: 0;\n",
              "    width: 32px;\n",
              "  }\n",
              "\n",
              "  .colab-df-quickchart:hover {\n",
              "    background-color: var(--hover-bg-color);\n",
              "    box-shadow: 0 1px 2px rgba(60, 64, 67, 0.3), 0 1px 3px 1px rgba(60, 64, 67, 0.15);\n",
              "    fill: var(--button-hover-fill-color);\n",
              "  }\n",
              "\n",
              "  .colab-df-quickchart-complete:disabled,\n",
              "  .colab-df-quickchart-complete:disabled:hover {\n",
              "    background-color: var(--disabled-bg-color);\n",
              "    fill: var(--disabled-fill-color);\n",
              "    box-shadow: none;\n",
              "  }\n",
              "\n",
              "  .colab-df-spinner {\n",
              "    border: 2px solid var(--fill-color);\n",
              "    border-color: transparent;\n",
              "    border-bottom-color: var(--fill-color);\n",
              "    animation:\n",
              "      spin 1s steps(1) infinite;\n",
              "  }\n",
              "\n",
              "  @keyframes spin {\n",
              "    0% {\n",
              "      border-color: transparent;\n",
              "      border-bottom-color: var(--fill-color);\n",
              "      border-left-color: var(--fill-color);\n",
              "    }\n",
              "    20% {\n",
              "      border-color: transparent;\n",
              "      border-left-color: var(--fill-color);\n",
              "      border-top-color: var(--fill-color);\n",
              "    }\n",
              "    30% {\n",
              "      border-color: transparent;\n",
              "      border-left-color: var(--fill-color);\n",
              "      border-top-color: var(--fill-color);\n",
              "      border-right-color: var(--fill-color);\n",
              "    }\n",
              "    40% {\n",
              "      border-color: transparent;\n",
              "      border-right-color: var(--fill-color);\n",
              "      border-top-color: var(--fill-color);\n",
              "    }\n",
              "    60% {\n",
              "      border-color: transparent;\n",
              "      border-right-color: var(--fill-color);\n",
              "    }\n",
              "    80% {\n",
              "      border-color: transparent;\n",
              "      border-right-color: var(--fill-color);\n",
              "      border-bottom-color: var(--fill-color);\n",
              "    }\n",
              "    90% {\n",
              "      border-color: transparent;\n",
              "      border-bottom-color: var(--fill-color);\n",
              "    }\n",
              "  }\n",
              "</style>\n",
              "\n",
              "  <script>\n",
              "    async function quickchart(key) {\n",
              "      const quickchartButtonEl =\n",
              "        document.querySelector('#' + key + ' button');\n",
              "      quickchartButtonEl.disabled = true;  // To prevent multiple clicks.\n",
              "      quickchartButtonEl.classList.add('colab-df-spinner');\n",
              "      try {\n",
              "        const charts = await google.colab.kernel.invokeFunction(\n",
              "            'suggestCharts', [key], {});\n",
              "      } catch (error) {\n",
              "        console.error('Error during call to suggestCharts:', error);\n",
              "      }\n",
              "      quickchartButtonEl.classList.remove('colab-df-spinner');\n",
              "      quickchartButtonEl.classList.add('colab-df-quickchart-complete');\n",
              "    }\n",
              "    (() => {\n",
              "      let quickchartButtonEl =\n",
              "        document.querySelector('#df-36db30d5-aa93-4b2c-adfa-5637847a7d3f button');\n",
              "      quickchartButtonEl.style.display =\n",
              "        google.colab.kernel.accessAllowed ? 'block' : 'none';\n",
              "    })();\n",
              "  </script>\n",
              "</div>\n",
              "\n",
              "    </div>\n",
              "  </div>\n"
            ]
          },
          "metadata": {},
          "execution_count": 7
        }
      ]
    },
    {
      "cell_type": "code",
      "source": [
        "print(df.columns)"
      ],
      "metadata": {
        "colab": {
          "base_uri": "https://localhost:8080/"
        },
        "id": "rE10I5ACM_CX",
        "outputId": "420b7415-28f5-4614-bfbd-aae47ad9dcfc"
      },
      "execution_count": 8,
      "outputs": [
        {
          "output_type": "stream",
          "name": "stdout",
          "text": [
            "Index(['v.id', 'on road old', 'on road now', 'years', 'km', 'rating',\n",
            "       'condition', 'economy', 'top speed', 'hp', 'torque', 'current price'],\n",
            "      dtype='object')\n"
          ]
        }
      ]
    },
    {
      "cell_type": "code",
      "source": [
        "df.shape"
      ],
      "metadata": {
        "colab": {
          "base_uri": "https://localhost:8080/"
        },
        "id": "l_1o9tAlNBXT",
        "outputId": "20130630-55ee-44a3-f859-4c9f1e40f805"
      },
      "execution_count": 9,
      "outputs": [
        {
          "output_type": "execute_result",
          "data": {
            "text/plain": [
              "(1000, 12)"
            ]
          },
          "metadata": {},
          "execution_count": 9
        }
      ]
    },
    {
      "cell_type": "code",
      "source": [
        "if os.environ['eda'] == \"True\":\n",
        "  sns.pairplot(df[['on road old', 'on road now', 'years', 'km', 'rating',\n",
        "       'condition', 'economy', 'top speed', 'hp', 'torque', 'current price']], diag_kind='kde')"
      ],
      "metadata": {
        "id": "UslcVfzENLfF"
      },
      "execution_count": 10,
      "outputs": []
    },
    {
      "cell_type": "code",
      "source": [
        "tensor_data = tf.constant(df)\n",
        "print(tensor_data.shape)"
      ],
      "metadata": {
        "colab": {
          "base_uri": "https://localhost:8080/"
        },
        "id": "fpR0xzXfOVnJ",
        "outputId": "1ec72c95-e3c6-45fe-9a13-4267b5209bf0"
      },
      "execution_count": 11,
      "outputs": [
        {
          "output_type": "stream",
          "name": "stdout",
          "text": [
            "(1000, 12)\n"
          ]
        }
      ]
    },
    {
      "cell_type": "code",
      "source": [
        "print(tensor_data)"
      ],
      "metadata": {
        "colab": {
          "base_uri": "https://localhost:8080/"
        },
        "id": "q9avs0KwQcCP",
        "outputId": "6c85f65a-9414-4b92-d280-9389842e9786"
      },
      "execution_count": 12,
      "outputs": [
        {
          "output_type": "stream",
          "name": "stdout",
          "text": [
            "tf.Tensor(\n",
            "[[1.000000e+00 5.356510e+05 7.981860e+05 ... 7.300000e+01 1.230000e+02\n",
            "  3.513180e+05]\n",
            " [2.000000e+00 5.919110e+05 8.610560e+05 ... 7.400000e+01 9.500000e+01\n",
            "  2.850015e+05]\n",
            " [3.000000e+00 6.869900e+05 7.707620e+05 ... 5.300000e+01 9.700000e+01\n",
            "  2.153860e+05]\n",
            " ...\n",
            " [9.980000e+02 6.463440e+05 8.427330e+05 ... 1.130000e+02 8.900000e+01\n",
            "  4.058710e+05]\n",
            " [9.990000e+02 5.355590e+05 7.324390e+05 ... 1.120000e+02 1.280000e+02\n",
            "  7.439800e+04]\n",
            " [1.000000e+03 5.901050e+05 7.797430e+05 ... 9.900000e+01 9.600000e+01\n",
            "  4.149385e+05]], shape=(1000, 12), dtype=float64)\n"
          ]
        }
      ]
    },
    {
      "cell_type": "code",
      "source": [
        "tensor_data = tf.random.shuffle(tensor_data)\n",
        "print(tensor_data[:5])"
      ],
      "metadata": {
        "colab": {
          "base_uri": "https://localhost:8080/"
        },
        "id": "Gmls1kIVQrqu",
        "outputId": "bcf79db2-1623-42c1-b0f5-6db08301f830"
      },
      "execution_count": 13,
      "outputs": [
        {
          "output_type": "stream",
          "name": "stdout",
          "text": [
            "tf.Tensor(\n",
            "[[6.310000e+02 5.868330e+05 8.420820e+05 7.000000e+00 1.101220e+05\n",
            "  3.000000e+00 1.000000e+01 9.000000e+00 1.950000e+02 6.700000e+01\n",
            "  1.320000e+02 3.159250e+05]\n",
            " [5.290000e+02 6.306590e+05 8.214540e+05 4.000000e+00 1.478710e+05\n",
            "  2.000000e+00 5.000000e+00 9.000000e+00 1.980000e+02 1.070000e+02\n",
            "  8.400000e+01 1.358740e+05]\n",
            " [2.980000e+02 5.043200e+05 7.065800e+05 7.000000e+00 9.503200e+04\n",
            "  3.000000e+00 3.000000e+00 1.400000e+01 1.640000e+02 7.100000e+01\n",
            "  1.380000e+02 2.174460e+05]\n",
            " [7.700000e+02 5.555530e+05 7.562090e+05 4.000000e+00 8.614200e+04\n",
            "  4.000000e+00 9.000000e+00 1.100000e+01 1.540000e+02 1.110000e+02\n",
            "  9.100000e+01 3.410760e+05]\n",
            " [1.050000e+02 5.002650e+05 7.531480e+05 7.000000e+00 5.270100e+04\n",
            "  5.000000e+00 7.000000e+00 9.000000e+00 1.840000e+02 1.080000e+02\n",
            "  8.400000e+01 4.176935e+05]], shape=(5, 12), dtype=float64)\n"
          ]
        }
      ]
    },
    {
      "cell_type": "code",
      "source": [
        "X = tensor_data[:, 3:-1]\n",
        "print(X.shape)"
      ],
      "metadata": {
        "colab": {
          "base_uri": "https://localhost:8080/"
        },
        "id": "_1lgqIevQ8p9",
        "outputId": "1d5fda13-4eeb-4315-9030-d761049d8a23"
      },
      "execution_count": 14,
      "outputs": [
        {
          "output_type": "stream",
          "name": "stdout",
          "text": [
            "(1000, 8)\n"
          ]
        }
      ]
    },
    {
      "cell_type": "code",
      "source": [
        "y = tensor_data[:, -1]\n",
        "y = tf.expand_dims(y, axis=-1)\n",
        "print(y.shape)"
      ],
      "metadata": {
        "colab": {
          "base_uri": "https://localhost:8080/"
        },
        "id": "Hhv5Bw18RkoS",
        "outputId": "5d6a999c-9821-4f26-d6fe-b535aa69b52d"
      },
      "execution_count": 15,
      "outputs": [
        {
          "output_type": "stream",
          "name": "stdout",
          "text": [
            "(1000, 1)\n"
          ]
        }
      ]
    },
    {
      "cell_type": "code",
      "source": [
        "TRAIN_RATIO = 0.8\n",
        "VAL_RATIO = 0.1\n",
        "TEST_RATIO = 0.1\n",
        "DATASET_SIZE = len(X)"
      ],
      "metadata": {
        "id": "5-YM78SG_pgX"
      },
      "execution_count": 16,
      "outputs": []
    },
    {
      "cell_type": "code",
      "source": [
        "X_train = X[:int(DATASET_SIZE*TRAIN_RATIO)]\n",
        "y_train = y[:int(DATASET_SIZE*TRAIN_RATIO)]\n",
        "print(X_train.shape)\n",
        "print(y_train.shape)"
      ],
      "metadata": {
        "colab": {
          "base_uri": "https://localhost:8080/"
        },
        "id": "YSoXfyTK_2rV",
        "outputId": "7b4bafce-a42e-4373-d079-bfa3e7570524"
      },
      "execution_count": 17,
      "outputs": [
        {
          "output_type": "stream",
          "name": "stdout",
          "text": [
            "(800, 8)\n",
            "(800, 1)\n"
          ]
        }
      ]
    },
    {
      "cell_type": "code",
      "source": [
        "X_val = X[int(DATASET_SIZE*TRAIN_RATIO):int(DATASET_SIZE*(VAL_RATIO+TRAIN_RATIO))]\n",
        "y_val = y[int(DATASET_SIZE*TRAIN_RATIO):int(DATASET_SIZE*(VAL_RATIO+TRAIN_RATIO))]\n",
        "print(X_val.shape)\n",
        "print(y_val.shape)"
      ],
      "metadata": {
        "colab": {
          "base_uri": "https://localhost:8080/"
        },
        "id": "0aptbmAXAL0E",
        "outputId": "dfc0e79b-370e-4024-b05e-d84db5148c6e"
      },
      "execution_count": 18,
      "outputs": [
        {
          "output_type": "stream",
          "name": "stdout",
          "text": [
            "(100, 8)\n",
            "(100, 1)\n"
          ]
        }
      ]
    },
    {
      "cell_type": "code",
      "source": [
        "X_test = X[int(DATASET_SIZE*(VAL_RATIO+TRAIN_RATIO)):int(DATASET_SIZE*(VAL_RATIO+TRAIN_RATIO+TEST_RATIO))]\n",
        "y_test = y[int(DATASET_SIZE*(VAL_RATIO+TRAIN_RATIO)):int(DATASET_SIZE*(VAL_RATIO+TRAIN_RATIO+TEST_RATIO))]\n",
        "print(X_test.shape)\n",
        "print(y_test.shape)"
      ],
      "metadata": {
        "colab": {
          "base_uri": "https://localhost:8080/"
        },
        "id": "AogHetAIAi3E",
        "outputId": "12759c3c-7a84-4156-ca21-1ed7a21c70df"
      },
      "execution_count": 19,
      "outputs": [
        {
          "output_type": "stream",
          "name": "stdout",
          "text": [
            "(100, 8)\n",
            "(100, 1)\n"
          ]
        }
      ]
    },
    {
      "cell_type": "code",
      "source": [
        "normalizer = Normalization()\n",
        "normalizer.adapt(X_train) # adapts the mean and variance\n",
        "normalizer(X_train)\n",
        "print(X_train[:5, :])"
      ],
      "metadata": {
        "colab": {
          "base_uri": "https://localhost:8080/"
        },
        "id": "dP4HRGHVRt7N",
        "outputId": "808f37b7-8bd3-4aa6-8f13-ab39a7f40f90"
      },
      "execution_count": 20,
      "outputs": [
        {
          "output_type": "stream",
          "name": "stdout",
          "text": [
            "tf.Tensor(\n",
            "[[7.00000e+00 1.10122e+05 3.00000e+00 1.00000e+01 9.00000e+00 1.95000e+02\n",
            "  6.70000e+01 1.32000e+02]\n",
            " [4.00000e+00 1.47871e+05 2.00000e+00 5.00000e+00 9.00000e+00 1.98000e+02\n",
            "  1.07000e+02 8.40000e+01]\n",
            " [7.00000e+00 9.50320e+04 3.00000e+00 3.00000e+00 1.40000e+01 1.64000e+02\n",
            "  7.10000e+01 1.38000e+02]\n",
            " [4.00000e+00 8.61420e+04 4.00000e+00 9.00000e+00 1.10000e+01 1.54000e+02\n",
            "  1.11000e+02 9.10000e+01]\n",
            " [7.00000e+00 5.27010e+04 5.00000e+00 7.00000e+00 9.00000e+00 1.84000e+02\n",
            "  1.08000e+02 8.40000e+01]], shape=(5, 8), dtype=float64)\n"
          ]
        }
      ]
    },
    {
      "cell_type": "markdown",
      "source": [
        "- Sequential API\n",
        "- Functional API\n",
        "- Subclass"
      ],
      "metadata": {
        "id": "PPEysFgDgPf3"
      }
    },
    {
      "cell_type": "markdown",
      "source": [
        "## Neural Network"
      ],
      "metadata": {
        "id": "Vd8WocckRdc1"
      }
    },
    {
      "cell_type": "code",
      "source": [
        "model = tf.keras.Sequential([\n",
        "     InputLayer(input_shape = (8,), batch_size=10),\n",
        "     normalizer,\n",
        "     Dense(1),\n",
        "])\n",
        "print(model.summary())"
      ],
      "metadata": {
        "colab": {
          "base_uri": "https://localhost:8080/"
        },
        "id": "Rpdvak_lbyLY",
        "outputId": "63c11c28-03ff-4d48-a0e7-ebe947ce7cff"
      },
      "execution_count": 21,
      "outputs": [
        {
          "output_type": "stream",
          "name": "stdout",
          "text": [
            "Model: \"sequential\"\n",
            "_________________________________________________________________\n",
            " Layer (type)                Output Shape              Param #   \n",
            "=================================================================\n",
            " normalization (Normalizati  (10, 8)                   17        \n",
            " on)                                                             \n",
            "                                                                 \n",
            " dense (Dense)               (10, 1)                   9         \n",
            "                                                                 \n",
            "=================================================================\n",
            "Total params: 26 (108.00 Byte)\n",
            "Trainable params: 9 (36.00 Byte)\n",
            "Non-trainable params: 17 (72.00 Byte)\n",
            "_________________________________________________________________\n",
            "None\n"
          ]
        }
      ]
    },
    {
      "cell_type": "code",
      "source": [
        "tf.keras.utils.plot_model(model, to_file=\"model.png\", show_shapes=True)"
      ],
      "metadata": {
        "colab": {
          "base_uri": "https://localhost:8080/",
          "height": 312
        },
        "id": "onRI0NuDRWzc",
        "outputId": "d1b453b0-fa3b-49f1-c3c6-00b1b779fec3"
      },
      "execution_count": 22,
      "outputs": [
        {
          "output_type": "execute_result",
          "data": {
            "image/png": "[encoded data removed]",
            "text/plain": [
              "<IPython.core.display.Image object>"
            ]
          },
          "metadata": {},
          "execution_count": 22
        }
      ]
    },
    {
      "cell_type": "markdown",
      "source": [
        "### Alternative Method for constructing Neural Network"
      ],
      "metadata": {
        "id": "2EZ4sprLSL8T"
      }
    },
    {
      "cell_type": "code",
      "source": [
        "\"\"\"\n",
        "model = tf.keras.Sequential()\n",
        "\n",
        "model.add(normalizer)\n",
        "model.add(Dense(1)) # Dense (1) will give one output, Dense (n) will give n outputs\n",
        "print(model.summary())\n",
        "\"\"\""
      ],
      "metadata": {
        "colab": {
          "base_uri": "https://localhost:8080/",
          "height": 36
        },
        "id": "C7uqHIApgGyM",
        "outputId": "1c46f9f7-e5a6-457e-a21f-e171fd071622"
      },
      "execution_count": 23,
      "outputs": [
        {
          "output_type": "execute_result",
          "data": {
            "text/plain": [
              "'\\nmodel = tf.keras.Sequential()\\n\\nmodel.add(normalizer)\\nmodel.add(Dense(1)) # Dense (1) will give one output, Dense (n) will give n outputs\\nprint(model.summary())\\n'"
            ],
            "application/vnd.google.colaboratory.intrinsic+json": {
              "type": "string"
            }
          },
          "metadata": {},
          "execution_count": 23
        }
      ]
    },
    {
      "cell_type": "code",
      "source": [
        "tf.keras.utils.plot_model(model, to_file=\"model.png\", show_shapes=True)"
      ],
      "metadata": {
        "id": "zZzQnL3Dgo4b",
        "colab": {
          "base_uri": "https://localhost:8080/",
          "height": 312
        },
        "outputId": "be7cb5a6-ef71-41f5-b45c-eb9c91ec2ead"
      },
      "execution_count": 24,
      "outputs": [
        {
          "output_type": "execute_result",
          "data": {
            "image/png": "[encoded data removed]",
            "text/plain": [
              "<IPython.core.display.Image object>"
            ]
          },
          "metadata": {},
          "execution_count": 24
        }
      ]
    },
    {
      "cell_type": "markdown",
      "source": [
        "## Training & Compiling it"
      ],
      "metadata": {
        "id": "VD1cPfY5y-7m"
      }
    },
    {
      "cell_type": "code",
      "source": [
        "model.compile(loss= MeanAbsoluteError(), optimizer = Adam(learning_rate=1), metrics= RootMeanSquaredError())"
      ],
      "metadata": {
        "id": "LkqUTnvYVHks"
      },
      "execution_count": 25,
      "outputs": []
    },
    {
      "cell_type": "code",
      "source": [
        "history = model.fit(X_train, y_train, validation_data=(X_val, y_val) ,epochs=100, verbose=1)"
      ],
      "metadata": {
        "colab": {
          "base_uri": "https://localhost:8080/"
        },
        "id": "WudCsp7OzDWX",
        "outputId": "7bdf4813-7dbf-4e19-cf6c-379883c9a387"
      },
      "execution_count": 26,
      "outputs": [
        {
          "output_type": "stream",
          "name": "stdout",
          "text": [
            "Epoch 1/100\n",
            "25/25 [==============================] - 1s 11ms/step - loss: 307106.6250 - root_mean_squared_error: 332095.7500 - val_loss: 311506.0000 - val_root_mean_squared_error: 336960.9688\n",
            "Epoch 2/100\n",
            "25/25 [==============================] - 0s 3ms/step - loss: 307081.4062 - root_mean_squared_error: 332072.4375 - val_loss: 311481.1250 - val_root_mean_squared_error: 336938.6250\n",
            "Epoch 3/100\n",
            "25/25 [==============================] - 0s 3ms/step - loss: 307056.4688 - root_mean_squared_error: 332049.5000 - val_loss: 311456.0312 - val_root_mean_squared_error: 336915.0000\n",
            "Epoch 4/100\n",
            "25/25 [==============================] - 0s 3ms/step - loss: 307031.5312 - root_mean_squared_error: 332026.6250 - val_loss: 311430.9062 - val_root_mean_squared_error: 336892.4062\n",
            "Epoch 5/100\n",
            "25/25 [==============================] - 0s 3ms/step - loss: 307006.4062 - root_mean_squared_error: 332003.4375 - val_loss: 311405.7500 - val_root_mean_squared_error: 336869.3750\n",
            "Epoch 6/100\n",
            "25/25 [==============================] - 0s 3ms/step - loss: 306981.4688 - root_mean_squared_error: 331980.6250 - val_loss: 311380.8125 - val_root_mean_squared_error: 336846.3438\n",
            "Epoch 7/100\n",
            "25/25 [==============================] - 0s 3ms/step - loss: 306956.4688 - root_mean_squared_error: 331957.7812 - val_loss: 311355.7500 - val_root_mean_squared_error: 336823.5625\n",
            "Epoch 8/100\n",
            "25/25 [==============================] - 0s 3ms/step - loss: 306931.5312 - root_mean_squared_error: 331933.9062 - val_loss: 311330.6875 - val_root_mean_squared_error: 336798.6562\n",
            "Epoch 9/100\n",
            "25/25 [==============================] - 0s 3ms/step - loss: 306906.4375 - root_mean_squared_error: 331910.6875 - val_loss: 311306.0000 - val_root_mean_squared_error: 336777.5938\n",
            "Epoch 10/100\n",
            "25/25 [==============================] - 0s 3ms/step - loss: 306881.5000 - root_mean_squared_error: 331888.0312 - val_loss: 311280.7812 - val_root_mean_squared_error: 336753.8125\n",
            "Epoch 11/100\n",
            "25/25 [==============================] - 0s 3ms/step - loss: 306856.5312 - root_mean_squared_error: 331864.9688 - val_loss: 311255.7500 - val_root_mean_squared_error: 336730.3438\n",
            "Epoch 12/100\n",
            "25/25 [==============================] - 0s 3ms/step - loss: 306831.3750 - root_mean_squared_error: 331841.3750 - val_loss: 311230.7188 - val_root_mean_squared_error: 336707.1250\n",
            "Epoch 13/100\n",
            "25/25 [==============================] - 0s 3ms/step - loss: 306806.4375 - root_mean_squared_error: 331818.2188 - val_loss: 311205.9375 - val_root_mean_squared_error: 336683.9062\n",
            "Epoch 14/100\n",
            "25/25 [==============================] - 0s 3ms/step - loss: 306781.4688 - root_mean_squared_error: 331795.0625 - val_loss: 311180.9062 - val_root_mean_squared_error: 336660.7188\n",
            "Epoch 15/100\n",
            "25/25 [==============================] - 0s 3ms/step - loss: 306756.4375 - root_mean_squared_error: 331772.3438 - val_loss: 311155.9375 - val_root_mean_squared_error: 336638.3750\n",
            "Epoch 16/100\n",
            "25/25 [==============================] - 0s 3ms/step - loss: 306731.7812 - root_mean_squared_error: 331749.7500 - val_loss: 311130.8125 - val_root_mean_squared_error: 336615.0312\n",
            "Epoch 17/100\n",
            "25/25 [==============================] - 0s 3ms/step - loss: 306706.3750 - root_mean_squared_error: 331725.6562 - val_loss: 311106.0312 - val_root_mean_squared_error: 336591.6875\n",
            "Epoch 18/100\n",
            "25/25 [==============================] - 0s 3ms/step - loss: 306681.5625 - root_mean_squared_error: 331702.8125 - val_loss: 311081.2500 - val_root_mean_squared_error: 336569.0938\n",
            "Epoch 19/100\n",
            "25/25 [==============================] - 0s 4ms/step - loss: 306656.3750 - root_mean_squared_error: 331679.6562 - val_loss: 311055.8125 - val_root_mean_squared_error: 336545.5312\n",
            "Epoch 20/100\n",
            "25/25 [==============================] - 0s 3ms/step - loss: 306631.6250 - root_mean_squared_error: 331656.5312 - val_loss: 311030.7812 - val_root_mean_squared_error: 336522.2500\n",
            "Epoch 21/100\n",
            "25/25 [==============================] - 0s 3ms/step - loss: 306606.7188 - root_mean_squared_error: 331633.7812 - val_loss: 311006.0312 - val_root_mean_squared_error: 336499.3750\n",
            "Epoch 22/100\n",
            "25/25 [==============================] - 0s 3ms/step - loss: 306581.5312 - root_mean_squared_error: 331610.8750 - val_loss: 310981.0938 - val_root_mean_squared_error: 336476.9375\n",
            "Epoch 23/100\n",
            "25/25 [==============================] - 0s 3ms/step - loss: 306556.4375 - root_mean_squared_error: 331587.4062 - val_loss: 310956.0000 - val_root_mean_squared_error: 336452.8438\n",
            "Epoch 24/100\n",
            "25/25 [==============================] - 0s 3ms/step - loss: 306531.6875 - root_mean_squared_error: 331563.9375 - val_loss: 310931.6250 - val_root_mean_squared_error: 336430.1562\n",
            "Epoch 25/100\n",
            "25/25 [==============================] - 0s 3ms/step - loss: 306506.4062 - root_mean_squared_error: 331540.8438 - val_loss: 310906.2812 - val_root_mean_squared_error: 336407.5938\n",
            "Epoch 26/100\n",
            "25/25 [==============================] - 0s 3ms/step - loss: 306481.5625 - root_mean_squared_error: 331518.7188 - val_loss: 310881.1250 - val_root_mean_squared_error: 336385.2188\n",
            "Epoch 27/100\n",
            "25/25 [==============================] - 0s 4ms/step - loss: 306456.5000 - root_mean_squared_error: 331495.0000 - val_loss: 310855.8438 - val_root_mean_squared_error: 336360.2188\n",
            "Epoch 28/100\n",
            "25/25 [==============================] - 0s 3ms/step - loss: 306431.6875 - root_mean_squared_error: 331471.1875 - val_loss: 310831.6250 - val_root_mean_squared_error: 336337.3438\n",
            "Epoch 29/100\n",
            "25/25 [==============================] - 0s 4ms/step - loss: 306406.4062 - root_mean_squared_error: 331448.2812 - val_loss: 310805.8438 - val_root_mean_squared_error: 336314.1875\n",
            "Epoch 30/100\n",
            "25/25 [==============================] - 0s 3ms/step - loss: 306381.5312 - root_mean_squared_error: 331425.4375 - val_loss: 310780.9062 - val_root_mean_squared_error: 336291.7812\n",
            "Epoch 31/100\n",
            "25/25 [==============================] - 0s 3ms/step - loss: 306356.4688 - root_mean_squared_error: 331402.6562 - val_loss: 310756.1250 - val_root_mean_squared_error: 336268.8438\n",
            "Epoch 32/100\n",
            "25/25 [==============================] - 0s 4ms/step - loss: 306331.5938 - root_mean_squared_error: 331378.9375 - val_loss: 310731.0312 - val_root_mean_squared_error: 336244.6250\n",
            "Epoch 33/100\n",
            "25/25 [==============================] - 0s 3ms/step - loss: 306306.3750 - root_mean_squared_error: 331356.0000 - val_loss: 310706.0938 - val_root_mean_squared_error: 336222.6562\n",
            "Epoch 34/100\n",
            "25/25 [==============================] - 0s 3ms/step - loss: 306281.4688 - root_mean_squared_error: 331332.7812 - val_loss: 310681.0000 - val_root_mean_squared_error: 336198.3125\n",
            "Epoch 35/100\n",
            "25/25 [==============================] - 0s 3ms/step - loss: 306256.4688 - root_mean_squared_error: 331310.0312 - val_loss: 310655.6875 - val_root_mean_squared_error: 336176.1875\n",
            "Epoch 36/100\n",
            "25/25 [==============================] - 0s 3ms/step - loss: 306231.4688 - root_mean_squared_error: 331287.1250 - val_loss: 310631.3438 - val_root_mean_squared_error: 336153.8125\n",
            "Epoch 37/100\n",
            "25/25 [==============================] - 0s 3ms/step - loss: 306206.5938 - root_mean_squared_error: 331263.2812 - val_loss: 310605.7812 - val_root_mean_squared_error: 336128.5625\n",
            "Epoch 38/100\n",
            "25/25 [==============================] - 0s 3ms/step - loss: 306181.3750 - root_mean_squared_error: 331239.7188 - val_loss: 310581.0312 - val_root_mean_squared_error: 336106.2812\n",
            "Epoch 39/100\n",
            "25/25 [==============================] - 0s 3ms/step - loss: 306156.5625 - root_mean_squared_error: 331217.2188 - val_loss: 310555.7188 - val_root_mean_squared_error: 336083.3125\n",
            "Epoch 40/100\n",
            "25/25 [==============================] - 0s 3ms/step - loss: 306131.5000 - root_mean_squared_error: 331194.3438 - val_loss: 310530.8125 - val_root_mean_squared_error: 336060.3750\n",
            "Epoch 41/100\n",
            "25/25 [==============================] - 0s 3ms/step - loss: 306106.6250 - root_mean_squared_error: 331171.2500 - val_loss: 310506.2812 - val_root_mean_squared_error: 336037.4688\n",
            "Epoch 42/100\n",
            "25/25 [==============================] - 0s 3ms/step - loss: 306081.3438 - root_mean_squared_error: 331148.2812 - val_loss: 310481.0312 - val_root_mean_squared_error: 336014.5312\n",
            "Epoch 43/100\n",
            "25/25 [==============================] - 0s 3ms/step - loss: 306056.3750 - root_mean_squared_error: 331125.1250 - val_loss: 310456.1250 - val_root_mean_squared_error: 335991.5000\n",
            "Epoch 44/100\n",
            "25/25 [==============================] - 0s 4ms/step - loss: 306031.4688 - root_mean_squared_error: 331102.0938 - val_loss: 310430.7500 - val_root_mean_squared_error: 335968.3750\n",
            "Epoch 45/100\n",
            "25/25 [==============================] - 0s 3ms/step - loss: 306006.5938 - root_mean_squared_error: 331078.4688 - val_loss: 310405.9688 - val_root_mean_squared_error: 335944.3438\n",
            "Epoch 46/100\n",
            "25/25 [==============================] - 0s 3ms/step - loss: 305981.6875 - root_mean_squared_error: 331055.8750 - val_loss: 310380.6250 - val_root_mean_squared_error: 335921.5625\n",
            "Epoch 47/100\n",
            "25/25 [==============================] - 0s 3ms/step - loss: 305956.5000 - root_mean_squared_error: 331032.4375 - val_loss: 310355.8750 - val_root_mean_squared_error: 335898.4688\n",
            "Epoch 48/100\n",
            "25/25 [==============================] - 0s 3ms/step - loss: 305931.4062 - root_mean_squared_error: 331009.4375 - val_loss: 310330.5938 - val_root_mean_squared_error: 335875.4688\n",
            "Epoch 49/100\n",
            "25/25 [==============================] - 0s 3ms/step - loss: 305906.4688 - root_mean_squared_error: 330986.1875 - val_loss: 310305.7812 - val_root_mean_squared_error: 335851.9375\n",
            "Epoch 50/100\n",
            "25/25 [==============================] - 0s 3ms/step - loss: 305881.4062 - root_mean_squared_error: 330962.7188 - val_loss: 310281.1250 - val_root_mean_squared_error: 335829.0938\n",
            "Epoch 51/100\n",
            "25/25 [==============================] - 0s 4ms/step - loss: 305856.5000 - root_mean_squared_error: 330940.2812 - val_loss: 310255.5938 - val_root_mean_squared_error: 335806.1562\n",
            "Epoch 52/100\n",
            "25/25 [==============================] - 0s 3ms/step - loss: 305831.5625 - root_mean_squared_error: 330916.9062 - val_loss: 310230.7500 - val_root_mean_squared_error: 335782.6250\n",
            "Epoch 53/100\n",
            "25/25 [==============================] - 0s 3ms/step - loss: 305806.4688 - root_mean_squared_error: 330893.9062 - val_loss: 310206.4688 - val_root_mean_squared_error: 335760.8125\n",
            "Epoch 54/100\n",
            "25/25 [==============================] - 0s 3ms/step - loss: 305781.3750 - root_mean_squared_error: 330870.6875 - val_loss: 310180.8125 - val_root_mean_squared_error: 335736.8125\n",
            "Epoch 55/100\n",
            "25/25 [==============================] - 0s 3ms/step - loss: 305756.4688 - root_mean_squared_error: 330848.0938 - val_loss: 310155.9062 - val_root_mean_squared_error: 335714.5625\n",
            "Epoch 56/100\n",
            "25/25 [==============================] - 0s 4ms/step - loss: 305731.5312 - root_mean_squared_error: 330824.4688 - val_loss: 310131.4688 - val_root_mean_squared_error: 335690.8750\n",
            "Epoch 57/100\n",
            "25/25 [==============================] - 0s 3ms/step - loss: 305706.5938 - root_mean_squared_error: 330801.7188 - val_loss: 310106.1250 - val_root_mean_squared_error: 335668.0938\n",
            "Epoch 58/100\n",
            "25/25 [==============================] - 0s 3ms/step - loss: 305681.3438 - root_mean_squared_error: 330778.4375 - val_loss: 310081.0938 - val_root_mean_squared_error: 335645.1875\n",
            "Epoch 59/100\n",
            "25/25 [==============================] - 0s 3ms/step - loss: 305656.4062 - root_mean_squared_error: 330755.4062 - val_loss: 310056.1250 - val_root_mean_squared_error: 335621.9688\n",
            "Epoch 60/100\n",
            "25/25 [==============================] - 0s 3ms/step - loss: 305631.5312 - root_mean_squared_error: 330732.3125 - val_loss: 310031.0938 - val_root_mean_squared_error: 335598.5000\n",
            "Epoch 61/100\n",
            "25/25 [==============================] - 0s 3ms/step - loss: 305606.6875 - root_mean_squared_error: 330708.7812 - val_loss: 310006.1562 - val_root_mean_squared_error: 335574.5000\n",
            "Epoch 62/100\n",
            "25/25 [==============================] - 0s 3ms/step - loss: 305581.5000 - root_mean_squared_error: 330685.6562 - val_loss: 309980.9062 - val_root_mean_squared_error: 335551.9688\n",
            "Epoch 63/100\n",
            "25/25 [==============================] - 0s 3ms/step - loss: 305556.5938 - root_mean_squared_error: 330662.6250 - val_loss: 309956.2500 - val_root_mean_squared_error: 335528.9375\n",
            "Epoch 64/100\n",
            "25/25 [==============================] - 0s 3ms/step - loss: 305531.4375 - root_mean_squared_error: 330639.5938 - val_loss: 309931.1250 - val_root_mean_squared_error: 335505.9375\n",
            "Epoch 65/100\n",
            "25/25 [==============================] - 0s 3ms/step - loss: 305506.4375 - root_mean_squared_error: 330616.9062 - val_loss: 309906.0000 - val_root_mean_squared_error: 335483.4688\n",
            "Epoch 66/100\n",
            "25/25 [==============================] - 0s 3ms/step - loss: 305481.3125 - root_mean_squared_error: 330593.4062 - val_loss: 309881.0938 - val_root_mean_squared_error: 335459.4688\n",
            "Epoch 67/100\n",
            "25/25 [==============================] - 0s 3ms/step - loss: 305456.5312 - root_mean_squared_error: 330569.8750 - val_loss: 309855.5938 - val_root_mean_squared_error: 335435.6562\n",
            "Epoch 68/100\n",
            "25/25 [==============================] - 0s 3ms/step - loss: 305431.5000 - root_mean_squared_error: 330547.1562 - val_loss: 309830.8438 - val_root_mean_squared_error: 335414.2188\n",
            "Epoch 69/100\n",
            "25/25 [==============================] - 0s 4ms/step - loss: 305406.5000 - root_mean_squared_error: 330524.6250 - val_loss: 309805.9062 - val_root_mean_squared_error: 335390.8125\n",
            "Epoch 70/100\n",
            "25/25 [==============================] - 0s 3ms/step - loss: 305381.4688 - root_mean_squared_error: 330500.8125 - val_loss: 309780.8125 - val_root_mean_squared_error: 335366.5938\n",
            "Epoch 71/100\n",
            "25/25 [==============================] - 0s 3ms/step - loss: 305356.5000 - root_mean_squared_error: 330477.8438 - val_loss: 309756.2500 - val_root_mean_squared_error: 335344.3750\n",
            "Epoch 72/100\n",
            "25/25 [==============================] - 0s 3ms/step - loss: 305331.5312 - root_mean_squared_error: 330455.1875 - val_loss: 309731.3125 - val_root_mean_squared_error: 335322.1562\n",
            "Epoch 73/100\n",
            "25/25 [==============================] - 0s 3ms/step - loss: 305306.2812 - root_mean_squared_error: 330432.4375 - val_loss: 309705.8750 - val_root_mean_squared_error: 335298.5312\n",
            "Epoch 74/100\n",
            "25/25 [==============================] - 0s 3ms/step - loss: 305281.6250 - root_mean_squared_error: 330408.8750 - val_loss: 309680.3125 - val_root_mean_squared_error: 335274.4375\n",
            "Epoch 75/100\n",
            "25/25 [==============================] - 0s 3ms/step - loss: 305256.6875 - root_mean_squared_error: 330385.8750 - val_loss: 309656.0312 - val_root_mean_squared_error: 335252.4375\n",
            "Epoch 76/100\n",
            "25/25 [==============================] - 0s 3ms/step - loss: 305231.5312 - root_mean_squared_error: 330362.9688 - val_loss: 309630.7500 - val_root_mean_squared_error: 335229.0000\n",
            "Epoch 77/100\n",
            "25/25 [==============================] - 0s 3ms/step - loss: 305206.4375 - root_mean_squared_error: 330340.0625 - val_loss: 309606.0938 - val_root_mean_squared_error: 335206.2812\n",
            "Epoch 78/100\n",
            "25/25 [==============================] - 0s 4ms/step - loss: 305181.4688 - root_mean_squared_error: 330316.4375 - val_loss: 309580.8750 - val_root_mean_squared_error: 335182.1875\n",
            "Epoch 79/100\n",
            "25/25 [==============================] - 0s 3ms/step - loss: 305156.5938 - root_mean_squared_error: 330293.2812 - val_loss: 309555.4062 - val_root_mean_squared_error: 335159.6875\n",
            "Epoch 80/100\n",
            "25/25 [==============================] - 0s 3ms/step - loss: 305131.4375 - root_mean_squared_error: 330270.5938 - val_loss: 309530.9062 - val_root_mean_squared_error: 335136.9375\n",
            "Epoch 81/100\n",
            "25/25 [==============================] - 0s 3ms/step - loss: 305106.6250 - root_mean_squared_error: 330247.9375 - val_loss: 309506.0938 - val_root_mean_squared_error: 335114.1562\n",
            "Epoch 82/100\n",
            "25/25 [==============================] - 0s 3ms/step - loss: 305081.8125 - root_mean_squared_error: 330224.1250 - val_loss: 309481.0000 - val_root_mean_squared_error: 335090.0625\n",
            "Epoch 83/100\n",
            "25/25 [==============================] - 0s 3ms/step - loss: 305056.4688 - root_mean_squared_error: 330200.9062 - val_loss: 309455.9375 - val_root_mean_squared_error: 335067.5625\n",
            "Epoch 84/100\n",
            "25/25 [==============================] - 0s 3ms/step - loss: 305031.5938 - root_mean_squared_error: 330177.9688 - val_loss: 309430.8750 - val_root_mean_squared_error: 335044.3438\n",
            "Epoch 85/100\n",
            "25/25 [==============================] - 0s 3ms/step - loss: 305006.3750 - root_mean_squared_error: 330154.7188 - val_loss: 309405.5938 - val_root_mean_squared_error: 335020.5938\n",
            "Epoch 86/100\n",
            "25/25 [==============================] - 0s 3ms/step - loss: 304981.6250 - root_mean_squared_error: 330131.8125 - val_loss: 309381.1250 - val_root_mean_squared_error: 334999.1250\n",
            "Epoch 87/100\n",
            "25/25 [==============================] - 0s 3ms/step - loss: 304956.4688 - root_mean_squared_error: 330108.7812 - val_loss: 309355.6562 - val_root_mean_squared_error: 334974.0625\n",
            "Epoch 88/100\n",
            "25/25 [==============================] - 0s 3ms/step - loss: 304931.4688 - root_mean_squared_error: 330085.1250 - val_loss: 309331.0625 - val_root_mean_squared_error: 334951.7812\n",
            "Epoch 89/100\n",
            "25/25 [==============================] - 0s 3ms/step - loss: 304906.3438 - root_mean_squared_error: 330062.0312 - val_loss: 309305.8125 - val_root_mean_squared_error: 334928.0000\n",
            "Epoch 90/100\n",
            "25/25 [==============================] - 0s 3ms/step - loss: 304881.4062 - root_mean_squared_error: 330038.7188 - val_loss: 309280.6562 - val_root_mean_squared_error: 334904.7500\n",
            "Epoch 91/100\n",
            "25/25 [==============================] - 0s 3ms/step - loss: 304856.3750 - root_mean_squared_error: 330015.8125 - val_loss: 309256.0625 - val_root_mean_squared_error: 334882.8438\n",
            "Epoch 92/100\n",
            "25/25 [==============================] - 0s 3ms/step - loss: 304831.5312 - root_mean_squared_error: 329993.0625 - val_loss: 309231.2188 - val_root_mean_squared_error: 334859.5938\n",
            "Epoch 93/100\n",
            "25/25 [==============================] - 0s 3ms/step - loss: 304806.4062 - root_mean_squared_error: 329970.0000 - val_loss: 309206.1875 - val_root_mean_squared_error: 334836.9375\n",
            "Epoch 94/100\n",
            "25/25 [==============================] - 0s 3ms/step - loss: 304781.4688 - root_mean_squared_error: 329947.0312 - val_loss: 309181.3125 - val_root_mean_squared_error: 334813.2188\n",
            "Epoch 95/100\n",
            "25/25 [==============================] - 0s 3ms/step - loss: 304756.4062 - root_mean_squared_error: 329923.3438 - val_loss: 309156.3125 - val_root_mean_squared_error: 334789.7812\n",
            "Epoch 96/100\n",
            "25/25 [==============================] - 0s 3ms/step - loss: 304731.5312 - root_mean_squared_error: 329900.2500 - val_loss: 309130.9688 - val_root_mean_squared_error: 334766.5625\n",
            "Epoch 97/100\n",
            "25/25 [==============================] - 0s 3ms/step - loss: 304706.4688 - root_mean_squared_error: 329877.7812 - val_loss: 309106.3125 - val_root_mean_squared_error: 334744.7812\n",
            "Epoch 98/100\n",
            "25/25 [==============================] - 0s 3ms/step - loss: 304681.5312 - root_mean_squared_error: 329854.5938 - val_loss: 309081.1875 - val_root_mean_squared_error: 334720.8125\n",
            "Epoch 99/100\n",
            "25/25 [==============================] - 0s 3ms/step - loss: 304656.4688 - root_mean_squared_error: 329831.5000 - val_loss: 309056.1250 - val_root_mean_squared_error: 334698.3125\n",
            "Epoch 100/100\n",
            "25/25 [==============================] - 0s 3ms/step - loss: 304631.7500 - root_mean_squared_error: 329808.6250 - val_loss: 309030.8750 - val_root_mean_squared_error: 334674.5625\n"
          ]
        }
      ]
    },
    {
      "cell_type": "code",
      "source": [
        "import matplotlib.pyplot as plt\n",
        "\n",
        "# Assuming `history` is the variable containing the history object\n",
        "plt.plot(history.history['loss'])\n",
        "plt.plot(history.history['val_loss'])\n",
        "plt.title('Mean Absolute Error- Model Loss')\n",
        "plt.xlabel('Epoch')\n",
        "plt.ylabel('Loss')\n",
        "plt.legend(['training', 'validation'], loc='upper right')\n",
        "plt.show()"
      ],
      "metadata": {
        "colab": {
          "base_uri": "https://localhost:8080/",
          "height": 0
        },
        "id": "qyQcseJjztR0",
        "outputId": "0c2d4421-fd0a-48fb-a75f-d6d123a72ce5"
      },
      "execution_count": 27,
      "outputs": [
        {
          "output_type": "display_data",
          "data": {
            "text/plain": [
              "<Figure size 640x480 with 1 Axes>"
            ],
            "image/png": "[encoded data removed]"
          },
          "metadata": {}
        }
      ]
    },
    {
      "cell_type": "code",
      "source": [
        "plt.plot(history.history['root_mean_squared_error'])\n",
        "plt.plot(history.history['val_root_mean_squared_error'])\n",
        "plt.title('Root Mean Square - Model Loss')\n",
        "plt.xlabel('Epoch')\n",
        "plt.ylabel('Loss')\n",
        "plt.legend(['training', 'validation'] ,loc='upper right')\n",
        "plt.show()"
      ],
      "metadata": {
        "colab": {
          "base_uri": "https://localhost:8080/",
          "height": 0
        },
        "id": "njsCkOmb7ceN",
        "outputId": "e7142804-42d9-42bf-d10f-6ccb1effcda2"
      },
      "execution_count": 28,
      "outputs": [
        {
          "output_type": "display_data",
          "data": {
            "text/plain": [
              "<Figure size 640x480 with 1 Axes>"
            ],
            "image/png": "[encoded data removed]"
          },
          "metadata": {}
        }
      ]
    },
    {
      "cell_type": "code",
      "source": [
        "model.evaluate(X_test, y_test)"
      ],
      "metadata": {
        "colab": {
          "base_uri": "https://localhost:8080/"
        },
        "id": "I1aGVcG_7_oO",
        "outputId": "e4c44831-5a4d-4066-c024-e34ce7c5dd33"
      },
      "execution_count": 29,
      "outputs": [
        {
          "output_type": "stream",
          "name": "stdout",
          "text": [
            "4/4 [==============================] - 0s 5ms/step - loss: 314225.0000 - root_mean_squared_error: 336353.1562\n"
          ]
        },
        {
          "output_type": "execute_result",
          "data": {
            "text/plain": [
              "[314225.0, 336353.15625]"
            ]
          },
          "metadata": {},
          "execution_count": 29
        }
      ]
    },
    {
      "cell_type": "markdown",
      "source": [
        "## Predicting"
      ],
      "metadata": {
        "id": "ahEeML70SVsN"
      }
    },
    {
      "cell_type": "code",
      "source": [
        "model.predict(X_test[0])"
      ],
      "metadata": {
        "id": "uwSramE29qeH",
        "colab": {
          "base_uri": "https://localhost:8080/"
        },
        "outputId": "5d18f203-1447-4bfb-91f2-d739bede4b4a"
      },
      "execution_count": 30,
      "outputs": [
        {
          "output_type": "stream",
          "name": "stdout",
          "text": [
            "1/1 [==============================] - 0s 81ms/step\n"
          ]
        },
        {
          "output_type": "execute_result",
          "data": {
            "text/plain": [
              "array([[2498.756]], dtype=float32)"
            ]
          },
          "metadata": {},
          "execution_count": 30
        }
      ]
    },
    {
      "cell_type": "code",
      "source": [
        "y_test[0]"
      ],
      "metadata": {
        "id": "ovaGQdnTSTdL",
        "colab": {
          "base_uri": "https://localhost:8080/"
        },
        "outputId": "e2853de2-4fd6-4abb-d180-1dee9fceb2b3"
      },
      "execution_count": 31,
      "outputs": [
        {
          "output_type": "execute_result",
          "data": {
            "text/plain": [
              "<tf.Tensor: shape=(1,), dtype=float64, numpy=array([462715.5])>"
            ]
          },
          "metadata": {},
          "execution_count": 31
        }
      ]
    },
    {
      "cell_type": "code",
      "source": [
        "y_true = list(y_test[:,0].numpy())"
      ],
      "metadata": {
        "id": "ua8066rLTEjj"
      },
      "execution_count": 36,
      "outputs": []
    },
    {
      "cell_type": "code",
      "source": [
        "y_pred = list(model.predict(X_test)[:, 0])\n",
        "print(y_pred)"
      ],
      "metadata": {
        "colab": {
          "base_uri": "https://localhost:8080/"
        },
        "id": "qv6g-IQgSFkX",
        "outputId": "9b03100c-72e3-4eda-b250-e5fcfc20235c"
      },
      "execution_count": 37,
      "outputs": [
        {
          "output_type": "stream",
          "name": "stdout",
          "text": [
            "4/4 [==============================] - 0s 3ms/step\n",
            "[2498.756, 2490.641, 2500.7224, 2504.7915, 2489.3906, 2505.178, 2510.1877, 2502.0374, 2504.4058, 2501.1025, 2497.279, 2503.4868, 2500.0557, 2500.8394, 2487.231, 2492.4944, 2499.0398, 2498.4014, 2498.3203, 2499.0906, 2496.8787, 2499.9834, 2495.4893, 2509.2378, 2492.2224, 2506.638, 2497.0422, 2496.5398, 2494.8398, 2503.7764, 2510.4788, 2502.6309, 2503.2817, 2497.5754, 2491.4722, 2507.3955, 2504.0486, 2495.8862, 2503.8767, 2498.812, 2497.4033, 2506.7705, 2493.2483, 2510.4033, 2503.646, 2502.1252, 2500.0303, 2512.0525, 2501.107, 2487.1262, 2497.1025, 2500.9463, 2507.2046, 2493.7844, 2514.054, 2493.0261, 2508.8286, 2506.0535, 2516.3267, 2498.217, 2506.4956, 2489.5425, 2503.3071, 2511.4314, 2508.3867, 2502.3474, 2505.1187, 2483.1006, 2503.601, 2499.1082, 2494.1455, 2498.647, 2495.7683, 2491.9773, 2509.8262, 2504.7417, 2508.4722, 2501.6135, 2504.386, 2502.721, 2497.4988, 2493.3494, 2505.2505, 2512.6985, 2494.6362, 2510.371, 2496.2734, 2501.0293, 2513.6526, 2500.5618, 2499.1702, 2502.4417, 2500.467, 2510.3486, 2498.0063, 2497.6433, 2507.581, 2505.9785, 2494.8887, 2506.6807]\n"
          ]
        }
      ]
    },
    {
      "cell_type": "code",
      "source": [
        "ind = np.arange(0, 200, 2)\n",
        "print(ind)\n",
        "plt.figure(figsize=(40,20))\n",
        "\n",
        "width = 1\n",
        "\n",
        "plt.bar(ind, y_pred, width, label = \"Predicted Car Prize\")\n",
        "plt.bar(ind+width, y_true, width, label = \"Actual Car Prize\")\n",
        "\n",
        "plt.legend(['Predicted', 'Actual'])\n",
        "plt.xlabel(\"Actual vs Predicted Prices\")\n",
        "plt.ylabel(\"Car Prizes\")\n",
        "\n",
        "plt.show()"
      ],
      "metadata": {
        "id": "UIsAx-myFiGO",
        "colab": {
          "base_uri": "https://localhost:8080/",
          "height": 825
        },
        "outputId": "2f945c9d-678e-443b-dd57-5b0cf448893c"
      },
      "execution_count": 52,
      "outputs": [
        {
          "output_type": "stream",
          "name": "stdout",
          "text": [
            "[  0   2   4   6   8  10  12  14  16  18  20  22  24  26  28  30  32  34\n",
            "  36  38  40  42  44  46  48  50  52  54  56  58  60  62  64  66  68  70\n",
            "  72  74  76  78  80  82  84  86  88  90  92  94  96  98 100 102 104 106\n",
            " 108 110 112 114 116 118 120 122 124 126 128 130 132 134 136 138 140 142\n",
            " 144 146 148 150 152 154 156 158 160 162 164 166 168 170 172 174 176 178\n",
            " 180 182 184 186 188 190 192 194 196 198]\n"
          ]
        },
        {
          "output_type": "display_data",
          "data": {
            "text/plain": [
              "<Figure size 4000x2000 with 1 Axes>"
            ],
            "image/png": "[encoded data removed]"
          },
          "metadata": {}
        }
      ]
    },
    {
      "cell_type": "code",
      "source": [],
      "metadata": {
        "id": "52ubAuVTWg70"
      },
      "execution_count": null,
      "outputs": []
    }
  ]
}