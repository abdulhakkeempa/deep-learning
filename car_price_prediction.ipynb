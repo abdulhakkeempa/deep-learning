{
  "nbformat": 4,
  "nbformat_minor": 0,
  "metadata": {
    "colab": {
      "provenance": [],
      "authorship_tag": "ABX9TyMnwoOgB+8l284oXbN74dUs"
    },
    "kernelspec": {
      "name": "python3",
      "display_name": "Python 3"
    },
    "language_info": {
      "name": "python"
    }
  },
  "cells": [
    {
      "cell_type": "code",
      "execution_count": 39,
      "metadata": {
        "id": "PYD4LJL2KhLo"
      },
      "outputs": [],
      "source": [
        "import tensorflow as tf\n",
        "import pandas as pd\n",
        "import seaborn as sns\n",
        "import numpy as np\n",
        "from tensorflow.keras.layers import Normalization, Dense, InputLayer\n",
        "from tensorflow.keras.losses import MeanSquaredError, Huber, MeanAbsoluteError\n",
        "from tensorflow.keras.metrics import RootMeanSquaredError\n",
        "from tensorflow.keras.optimizers import Adam"
      ]
    },
    {
      "cell_type": "markdown",
      "source": [
        "## Data Preperation"
      ],
      "metadata": {
        "id": "5omFq0fJRT9O"
      }
    },
    {
      "cell_type": "code",
      "source": [
        "import os\n",
        "os.environ['eda'] = \"False\""
      ],
      "metadata": {
        "id": "5Js7ykS6yfVh"
      },
      "execution_count": 40,
      "outputs": []
    },
    {
      "cell_type": "code",
      "source": [
        "df = pd.read_csv(\"/content/second-hand-car.csv\")"
      ],
      "metadata": {
        "id": "ArFwlemsMzJf"
      },
      "execution_count": 41,
      "outputs": []
    },
    {
      "cell_type": "code",
      "source": [
        "df.head()"
      ],
      "metadata": {
        "colab": {
          "base_uri": "https://localhost:8080/",
          "height": 206
        },
        "id": "KJPXSEJvM5ft",
        "outputId": "390d1f11-7c39-44f3-da7b-fad9f995f1f1"
      },
      "execution_count": 42,
      "outputs": [
        {
          "output_type": "execute_result",
          "data": {
            "text/plain": [
              "   v.id  on road old  on road now  years      km  rating  condition  economy  \\\n",
              "0     1       535651       798186      3   78945       1          2       14   \n",
              "1     2       591911       861056      6  117220       5          9        9   \n",
              "2     3       686990       770762      2  132538       2          8       15   \n",
              "3     4       573999       722381      4  101065       4          3       11   \n",
              "4     5       691388       811335      6   61559       3          9       12   \n",
              "\n",
              "   top speed  hp  torque  current price  \n",
              "0        177  73     123       351318.0  \n",
              "1        148  74      95       285001.5  \n",
              "2        181  53      97       215386.0  \n",
              "3        197  54     116       244295.5  \n",
              "4        160  53     105       531114.5  "
            ],
            "text/html": [
              "\n",
              "  <div id=\"df-388596ff-9a45-4e6a-bc9e-b8a4ac7fe606\" class=\"colab-df-container\">\n",
              "    <div>\n",
              "<style scoped>\n",
              "    .dataframe tbody tr th:only-of-type {\n",
              "        vertical-align: middle;\n",
              "    }\n",
              "\n",
              "    .dataframe tbody tr th {\n",
              "        vertical-align: top;\n",
              "    }\n",
              "\n",
              "    .dataframe thead th {\n",
              "        text-align: right;\n",
              "    }\n",
              "</style>\n",
              "<table border=\"1\" class=\"dataframe\">\n",
              "  <thead>\n",
              "    <tr style=\"text-align: right;\">\n",
              "      <th></th>\n",
              "      <th>v.id</th>\n",
              "      <th>on road old</th>\n",
              "      <th>on road now</th>\n",
              "      <th>years</th>\n",
              "      <th>km</th>\n",
              "      <th>rating</th>\n",
              "      <th>condition</th>\n",
              "      <th>economy</th>\n",
              "      <th>top speed</th>\n",
              "      <th>hp</th>\n",
              "      <th>torque</th>\n",
              "      <th>current price</th>\n",
              "    </tr>\n",
              "  </thead>\n",
              "  <tbody>\n",
              "    <tr>\n",
              "      <th>0</th>\n",
              "      <td>1</td>\n",
              "      <td>535651</td>\n",
              "      <td>798186</td>\n",
              "      <td>3</td>\n",
              "      <td>78945</td>\n",
              "      <td>1</td>\n",
              "      <td>2</td>\n",
              "      <td>14</td>\n",
              "      <td>177</td>\n",
              "      <td>73</td>\n",
              "      <td>123</td>\n",
              "      <td>351318.0</td>\n",
              "    </tr>\n",
              "    <tr>\n",
              "      <th>1</th>\n",
              "      <td>2</td>\n",
              "      <td>591911</td>\n",
              "      <td>861056</td>\n",
              "      <td>6</td>\n",
              "      <td>117220</td>\n",
              "      <td>5</td>\n",
              "      <td>9</td>\n",
              "      <td>9</td>\n",
              "      <td>148</td>\n",
              "      <td>74</td>\n",
              "      <td>95</td>\n",
              "      <td>285001.5</td>\n",
              "    </tr>\n",
              "    <tr>\n",
              "      <th>2</th>\n",
              "      <td>3</td>\n",
              "      <td>686990</td>\n",
              "      <td>770762</td>\n",
              "      <td>2</td>\n",
              "      <td>132538</td>\n",
              "      <td>2</td>\n",
              "      <td>8</td>\n",
              "      <td>15</td>\n",
              "      <td>181</td>\n",
              "      <td>53</td>\n",
              "      <td>97</td>\n",
              "      <td>215386.0</td>\n",
              "    </tr>\n",
              "    <tr>\n",
              "      <th>3</th>\n",
              "      <td>4</td>\n",
              "      <td>573999</td>\n",
              "      <td>722381</td>\n",
              "      <td>4</td>\n",
              "      <td>101065</td>\n",
              "      <td>4</td>\n",
              "      <td>3</td>\n",
              "      <td>11</td>\n",
              "      <td>197</td>\n",
              "      <td>54</td>\n",
              "      <td>116</td>\n",
              "      <td>244295.5</td>\n",
              "    </tr>\n",
              "    <tr>\n",
              "      <th>4</th>\n",
              "      <td>5</td>\n",
              "      <td>691388</td>\n",
              "      <td>811335</td>\n",
              "      <td>6</td>\n",
              "      <td>61559</td>\n",
              "      <td>3</td>\n",
              "      <td>9</td>\n",
              "      <td>12</td>\n",
              "      <td>160</td>\n",
              "      <td>53</td>\n",
              "      <td>105</td>\n",
              "      <td>531114.5</td>\n",
              "    </tr>\n",
              "  </tbody>\n",
              "</table>\n",
              "</div>\n",
              "    <div class=\"colab-df-buttons\">\n",
              "\n",
              "  <div class=\"colab-df-container\">\n",
              "    <button class=\"colab-df-convert\" onclick=\"convertToInteractive('df-388596ff-9a45-4e6a-bc9e-b8a4ac7fe606')\"\n",
              "            title=\"Convert this dataframe to an interactive table.\"\n",
              "            style=\"display:none;\">\n",
              "\n",
              "  <svg xmlns=\"http://www.w3.org/2000/svg\" height=\"24px\" viewBox=\"0 -960 960 960\">\n",
              "    <path d=\"M120-120v-720h720v720H120Zm60-500h600v-160H180v160Zm220 220h160v-160H400v160Zm0 220h160v-160H400v160ZM180-400h160v-160H180v160Zm440 0h160v-160H620v160ZM180-180h160v-160H180v160Zm440 0h160v-160H620v160Z\"/>\n",
              "  </svg>\n",
              "    </button>\n",
              "\n",
              "  <style>\n",
              "    .colab-df-container {\n",
              "      display:flex;\n",
              "      gap: 12px;\n",
              "    }\n",
              "\n",
              "    .colab-df-convert {\n",
              "      background-color: #E8F0FE;\n",
              "      border: none;\n",
              "      border-radius: 50%;\n",
              "      cursor: pointer;\n",
              "      display: none;\n",
              "      fill: #1967D2;\n",
              "      height: 32px;\n",
              "      padding: 0 0 0 0;\n",
              "      width: 32px;\n",
              "    }\n",
              "\n",
              "    .colab-df-convert:hover {\n",
              "      background-color: #E2EBFA;\n",
              "      box-shadow: 0px 1px 2px rgba(60, 64, 67, 0.3), 0px 1px 3px 1px rgba(60, 64, 67, 0.15);\n",
              "      fill: #174EA6;\n",
              "    }\n",
              "\n",
              "    .colab-df-buttons div {\n",
              "      margin-bottom: 4px;\n",
              "    }\n",
              "\n",
              "    [theme=dark] .colab-df-convert {\n",
              "      background-color: #3B4455;\n",
              "      fill: #D2E3FC;\n",
              "    }\n",
              "\n",
              "    [theme=dark] .colab-df-convert:hover {\n",
              "      background-color: #434B5C;\n",
              "      box-shadow: 0px 1px 3px 1px rgba(0, 0, 0, 0.15);\n",
              "      filter: drop-shadow(0px 1px 2px rgba(0, 0, 0, 0.3));\n",
              "      fill: #FFFFFF;\n",
              "    }\n",
              "  </style>\n",
              "\n",
              "    <script>\n",
              "      const buttonEl =\n",
              "        document.querySelector('#df-388596ff-9a45-4e6a-bc9e-b8a4ac7fe606 button.colab-df-convert');\n",
              "      buttonEl.style.display =\n",
              "        google.colab.kernel.accessAllowed ? 'block' : 'none';\n",
              "\n",
              "      async function convertToInteractive(key) {\n",
              "        const element = document.querySelector('#df-388596ff-9a45-4e6a-bc9e-b8a4ac7fe606');\n",
              "        const dataTable =\n",
              "          await google.colab.kernel.invokeFunction('convertToInteractive',\n",
              "                                                    [key], {});\n",
              "        if (!dataTable) return;\n",
              "\n",
              "        const docLinkHtml = 'Like what you see? Visit the ' +\n",
              "          '<a target=\"_blank\" href=https://colab.research.google.com/notebooks/data_table.ipynb>data table notebook</a>'\n",
              "          + ' to learn more about interactive tables.';\n",
              "        element.innerHTML = '';\n",
              "        dataTable['output_type'] = 'display_data';\n",
              "        await google.colab.output.renderOutput(dataTable, element);\n",
              "        const docLink = document.createElement('div');\n",
              "        docLink.innerHTML = docLinkHtml;\n",
              "        element.appendChild(docLink);\n",
              "      }\n",
              "    </script>\n",
              "  </div>\n",
              "\n",
              "\n",
              "<div id=\"df-a267ecb1-17ec-4fc1-8ede-12804cbf74fb\">\n",
              "  <button class=\"colab-df-quickchart\" onclick=\"quickchart('df-a267ecb1-17ec-4fc1-8ede-12804cbf74fb')\"\n",
              "            title=\"Suggest charts\"\n",
              "            style=\"display:none;\">\n",
              "\n",
              "<svg xmlns=\"http://www.w3.org/2000/svg\" height=\"24px\"viewBox=\"0 0 24 24\"\n",
              "     width=\"24px\">\n",
              "    <g>\n",
              "        <path d=\"M19 3H5c-1.1 0-2 .9-2 2v14c0 1.1.9 2 2 2h14c1.1 0 2-.9 2-2V5c0-1.1-.9-2-2-2zM9 17H7v-7h2v7zm4 0h-2V7h2v10zm4 0h-2v-4h2v4z\"/>\n",
              "    </g>\n",
              "</svg>\n",
              "  </button>\n",
              "\n",
              "<style>\n",
              "  .colab-df-quickchart {\n",
              "      --bg-color: #E8F0FE;\n",
              "      --fill-color: #1967D2;\n",
              "      --hover-bg-color: #E2EBFA;\n",
              "      --hover-fill-color: #174EA6;\n",
              "      --disabled-fill-color: #AAA;\n",
              "      --disabled-bg-color: #DDD;\n",
              "  }\n",
              "\n",
              "  [theme=dark] .colab-df-quickchart {\n",
              "      --bg-color: #3B4455;\n",
              "      --fill-color: #D2E3FC;\n",
              "      --hover-bg-color: #434B5C;\n",
              "      --hover-fill-color: #FFFFFF;\n",
              "      --disabled-bg-color: #3B4455;\n",
              "      --disabled-fill-color: #666;\n",
              "  }\n",
              "\n",
              "  .colab-df-quickchart {\n",
              "    background-color: var(--bg-color);\n",
              "    border: none;\n",
              "    border-radius: 50%;\n",
              "    cursor: pointer;\n",
              "    display: none;\n",
              "    fill: var(--fill-color);\n",
              "    height: 32px;\n",
              "    padding: 0;\n",
              "    width: 32px;\n",
              "  }\n",
              "\n",
              "  .colab-df-quickchart:hover {\n",
              "    background-color: var(--hover-bg-color);\n",
              "    box-shadow: 0 1px 2px rgba(60, 64, 67, 0.3), 0 1px 3px 1px rgba(60, 64, 67, 0.15);\n",
              "    fill: var(--button-hover-fill-color);\n",
              "  }\n",
              "\n",
              "  .colab-df-quickchart-complete:disabled,\n",
              "  .colab-df-quickchart-complete:disabled:hover {\n",
              "    background-color: var(--disabled-bg-color);\n",
              "    fill: var(--disabled-fill-color);\n",
              "    box-shadow: none;\n",
              "  }\n",
              "\n",
              "  .colab-df-spinner {\n",
              "    border: 2px solid var(--fill-color);\n",
              "    border-color: transparent;\n",
              "    border-bottom-color: var(--fill-color);\n",
              "    animation:\n",
              "      spin 1s steps(1) infinite;\n",
              "  }\n",
              "\n",
              "  @keyframes spin {\n",
              "    0% {\n",
              "      border-color: transparent;\n",
              "      border-bottom-color: var(--fill-color);\n",
              "      border-left-color: var(--fill-color);\n",
              "    }\n",
              "    20% {\n",
              "      border-color: transparent;\n",
              "      border-left-color: var(--fill-color);\n",
              "      border-top-color: var(--fill-color);\n",
              "    }\n",
              "    30% {\n",
              "      border-color: transparent;\n",
              "      border-left-color: var(--fill-color);\n",
              "      border-top-color: var(--fill-color);\n",
              "      border-right-color: var(--fill-color);\n",
              "    }\n",
              "    40% {\n",
              "      border-color: transparent;\n",
              "      border-right-color: var(--fill-color);\n",
              "      border-top-color: var(--fill-color);\n",
              "    }\n",
              "    60% {\n",
              "      border-color: transparent;\n",
              "      border-right-color: var(--fill-color);\n",
              "    }\n",
              "    80% {\n",
              "      border-color: transparent;\n",
              "      border-right-color: var(--fill-color);\n",
              "      border-bottom-color: var(--fill-color);\n",
              "    }\n",
              "    90% {\n",
              "      border-color: transparent;\n",
              "      border-bottom-color: var(--fill-color);\n",
              "    }\n",
              "  }\n",
              "</style>\n",
              "\n",
              "  <script>\n",
              "    async function quickchart(key) {\n",
              "      const quickchartButtonEl =\n",
              "        document.querySelector('#' + key + ' button');\n",
              "      quickchartButtonEl.disabled = true;  // To prevent multiple clicks.\n",
              "      quickchartButtonEl.classList.add('colab-df-spinner');\n",
              "      try {\n",
              "        const charts = await google.colab.kernel.invokeFunction(\n",
              "            'suggestCharts', [key], {});\n",
              "      } catch (error) {\n",
              "        console.error('Error during call to suggestCharts:', error);\n",
              "      }\n",
              "      quickchartButtonEl.classList.remove('colab-df-spinner');\n",
              "      quickchartButtonEl.classList.add('colab-df-quickchart-complete');\n",
              "    }\n",
              "    (() => {\n",
              "      let quickchartButtonEl =\n",
              "        document.querySelector('#df-a267ecb1-17ec-4fc1-8ede-12804cbf74fb button');\n",
              "      quickchartButtonEl.style.display =\n",
              "        google.colab.kernel.accessAllowed ? 'block' : 'none';\n",
              "    })();\n",
              "  </script>\n",
              "</div>\n",
              "\n",
              "    </div>\n",
              "  </div>\n"
            ]
          },
          "metadata": {},
          "execution_count": 42
        }
      ]
    },
    {
      "cell_type": "code",
      "source": [
        "print(df.columns)"
      ],
      "metadata": {
        "colab": {
          "base_uri": "https://localhost:8080/"
        },
        "id": "rE10I5ACM_CX",
        "outputId": "ca88a54e-cc30-4bbe-ad86-6d7462dad3cf"
      },
      "execution_count": 43,
      "outputs": [
        {
          "output_type": "stream",
          "name": "stdout",
          "text": [
            "Index(['v.id', 'on road old', 'on road now', 'years', 'km', 'rating',\n",
            "       'condition', 'economy', 'top speed', 'hp', 'torque', 'current price'],\n",
            "      dtype='object')\n"
          ]
        }
      ]
    },
    {
      "cell_type": "code",
      "source": [
        "df.shape"
      ],
      "metadata": {
        "colab": {
          "base_uri": "https://localhost:8080/"
        },
        "id": "l_1o9tAlNBXT",
        "outputId": "dc1c752a-2072-4fa2-ada5-d341adbe0467"
      },
      "execution_count": 44,
      "outputs": [
        {
          "output_type": "execute_result",
          "data": {
            "text/plain": [
              "(1000, 12)"
            ]
          },
          "metadata": {},
          "execution_count": 44
        }
      ]
    },
    {
      "cell_type": "code",
      "source": [
        "if os.environ['eda'] == \"True\":\n",
        "  sns.pairplot(df[['on road old', 'on road now', 'years', 'km', 'rating',\n",
        "       'condition', 'economy', 'top speed', 'hp', 'torque', 'current price']], diag_kind='kde')"
      ],
      "metadata": {
        "id": "UslcVfzENLfF"
      },
      "execution_count": 45,
      "outputs": []
    },
    {
      "cell_type": "code",
      "source": [
        "tensor_data = tf.constant(df)\n",
        "print(tensor_data.shape)"
      ],
      "metadata": {
        "colab": {
          "base_uri": "https://localhost:8080/"
        },
        "id": "fpR0xzXfOVnJ",
        "outputId": "18ac7f65-ceb2-425f-a3d5-5bb68eb664c1"
      },
      "execution_count": 46,
      "outputs": [
        {
          "output_type": "stream",
          "name": "stdout",
          "text": [
            "(1000, 12)\n"
          ]
        }
      ]
    },
    {
      "cell_type": "code",
      "source": [
        "print(tensor_data)"
      ],
      "metadata": {
        "colab": {
          "base_uri": "https://localhost:8080/"
        },
        "id": "q9avs0KwQcCP",
        "outputId": "14ab8e32-d16f-4aa9-9850-377fcd06e6bb"
      },
      "execution_count": 47,
      "outputs": [
        {
          "output_type": "stream",
          "name": "stdout",
          "text": [
            "tf.Tensor(\n",
            "[[1.000000e+00 5.356510e+05 7.981860e+05 ... 7.300000e+01 1.230000e+02\n",
            "  3.513180e+05]\n",
            " [2.000000e+00 5.919110e+05 8.610560e+05 ... 7.400000e+01 9.500000e+01\n",
            "  2.850015e+05]\n",
            " [3.000000e+00 6.869900e+05 7.707620e+05 ... 5.300000e+01 9.700000e+01\n",
            "  2.153860e+05]\n",
            " ...\n",
            " [9.980000e+02 6.463440e+05 8.427330e+05 ... 1.130000e+02 8.900000e+01\n",
            "  4.058710e+05]\n",
            " [9.990000e+02 5.355590e+05 7.324390e+05 ... 1.120000e+02 1.280000e+02\n",
            "  7.439800e+04]\n",
            " [1.000000e+03 5.901050e+05 7.797430e+05 ... 9.900000e+01 9.600000e+01\n",
            "  4.149385e+05]], shape=(1000, 12), dtype=float64)\n"
          ]
        }
      ]
    },
    {
      "cell_type": "code",
      "source": [
        "tensor_data = tf.random.shuffle(tensor_data)\n",
        "print(tensor_data[:5])"
      ],
      "metadata": {
        "colab": {
          "base_uri": "https://localhost:8080/"
        },
        "id": "Gmls1kIVQrqu",
        "outputId": "0696196b-cab9-4f8c-c940-0c6ce6e61717"
      },
      "execution_count": 48,
      "outputs": [
        {
          "output_type": "stream",
          "name": "stdout",
          "text": [
            "tf.Tensor(\n",
            "[[3.880000e+02 5.104020e+05 7.212560e+05 3.000000e+00 5.908900e+04\n",
            "  3.000000e+00 1.000000e+00 1.000000e+01 1.710000e+02 1.020000e+02\n",
            "  1.300000e+02 3.797250e+05]\n",
            " [4.210000e+02 5.522800e+05 8.982900e+05 2.000000e+00 1.298910e+05\n",
            "  5.000000e+00 2.000000e+00 1.100000e+01 1.440000e+02 5.700000e+01\n",
            "  7.200000e+01 2.074805e+05]\n",
            " [8.910000e+02 5.337740e+05 8.707360e+05 6.000000e+00 7.026100e+04\n",
            "  5.000000e+00 7.000000e+00 1.400000e+01 1.880000e+02 9.900000e+01\n",
            "  1.190000e+02 4.275900e+05]\n",
            " [2.100000e+01 5.609760e+05 7.190030e+05 7.000000e+00 1.305230e+05\n",
            "  5.000000e+00 5.000000e+00 1.000000e+01 1.870000e+02 7.500000e+01\n",
            "  1.290000e+02 1.128645e+05]\n",
            " [4.340000e+02 5.244730e+05 7.722320e+05 3.000000e+00 1.248330e+05\n",
            "  4.000000e+00 7.000000e+00 1.000000e+01 1.970000e+02 5.500000e+01\n",
            "  8.200000e+01 1.580315e+05]], shape=(5, 12), dtype=float64)\n"
          ]
        }
      ]
    },
    {
      "cell_type": "code",
      "source": [
        "X = tensor_data[:, 3:-1]\n",
        "print(X.shape)"
      ],
      "metadata": {
        "colab": {
          "base_uri": "https://localhost:8080/"
        },
        "id": "_1lgqIevQ8p9",
        "outputId": "be777fb9-38fa-4cce-aed5-0caeb18b404d"
      },
      "execution_count": 49,
      "outputs": [
        {
          "output_type": "stream",
          "name": "stdout",
          "text": [
            "(1000, 8)\n"
          ]
        }
      ]
    },
    {
      "cell_type": "code",
      "source": [
        "y = tensor_data[:, -1]\n",
        "y = tf.expand_dims(y, axis=-1) # to make it a 2d tensor\n",
        "print(y.shape)"
      ],
      "metadata": {
        "colab": {
          "base_uri": "https://localhost:8080/"
        },
        "id": "Hhv5Bw18RkoS",
        "outputId": "567c7d39-a4b4-4a92-ed00-8e2bd02f13b6"
      },
      "execution_count": 60,
      "outputs": [
        {
          "output_type": "stream",
          "name": "stdout",
          "text": [
            "(1000,)\n",
            "(1000, 1)\n"
          ]
        }
      ]
    },
    {
      "cell_type": "code",
      "source": [
        "TRAIN_RATIO = 0.8\n",
        "VAL_RATIO = 0.1\n",
        "TEST_RATIO = 0.1\n",
        "DATASET_SIZE = len(X)"
      ],
      "metadata": {
        "id": "5-YM78SG_pgX"
      },
      "execution_count": 51,
      "outputs": []
    },
    {
      "cell_type": "code",
      "source": [
        "X_train = X[:int(DATASET_SIZE*TRAIN_RATIO)]\n",
        "y_train = y[:int(DATASET_SIZE*TRAIN_RATIO)]\n",
        "print(X_train.shape)\n",
        "print(y_train.shape)"
      ],
      "metadata": {
        "colab": {
          "base_uri": "https://localhost:8080/"
        },
        "id": "YSoXfyTK_2rV",
        "outputId": "aa2596a8-624b-4aa6-bc8d-db1435772f90"
      },
      "execution_count": 52,
      "outputs": [
        {
          "output_type": "stream",
          "name": "stdout",
          "text": [
            "(800, 8)\n",
            "(800, 1)\n"
          ]
        }
      ]
    },
    {
      "cell_type": "code",
      "source": [
        "train_dataset = tf.data.Dataset.from_tensor_slices((X_train, y_train))\n",
        "train_dataset = train_dataset.shuffle(buffer_size = 8, reshuffle_each_iteration = True).batch(32).prefetch(tf.data.AUTOTUNE)"
      ],
      "metadata": {
        "id": "-UztDzPJWSFV"
      },
      "execution_count": 53,
      "outputs": []
    },
    {
      "cell_type": "code",
      "source": [
        "X_val = X[int(DATASET_SIZE*TRAIN_RATIO):int(DATASET_SIZE*(VAL_RATIO+TRAIN_RATIO))]\n",
        "y_val = y[int(DATASET_SIZE*TRAIN_RATIO):int(DATASET_SIZE*(VAL_RATIO+TRAIN_RATIO))]\n",
        "print(X_val.shape)\n",
        "print(y_val.shape)"
      ],
      "metadata": {
        "colab": {
          "base_uri": "https://localhost:8080/"
        },
        "id": "0aptbmAXAL0E",
        "outputId": "f5510db7-b911-4220-d73c-6f79a8efdb77"
      },
      "execution_count": 54,
      "outputs": [
        {
          "output_type": "stream",
          "name": "stdout",
          "text": [
            "(100, 8)\n",
            "(100, 1)\n"
          ]
        }
      ]
    },
    {
      "cell_type": "code",
      "source": [
        "val_dataset = tf.data.Dataset.from_tensor_slices((X_val, y_val))\n",
        "val_dataset = val_dataset.shuffle(buffer_size = 8, reshuffle_each_iteration = True).batch(32).prefetch(tf.data.AUTOTUNE)"
      ],
      "metadata": {
        "id": "9U4B5m9Gf9m5"
      },
      "execution_count": 55,
      "outputs": []
    },
    {
      "cell_type": "code",
      "source": [
        "X_test = X[int(DATASET_SIZE*(VAL_RATIO+TRAIN_RATIO)):int(DATASET_SIZE*(VAL_RATIO+TRAIN_RATIO+TEST_RATIO))]\n",
        "y_test = y[int(DATASET_SIZE*(VAL_RATIO+TRAIN_RATIO)):int(DATASET_SIZE*(VAL_RATIO+TRAIN_RATIO+TEST_RATIO))]\n",
        "print(X_test.shape)\n",
        "print(y_test.shape)"
      ],
      "metadata": {
        "colab": {
          "base_uri": "https://localhost:8080/"
        },
        "id": "AogHetAIAi3E",
        "outputId": "93389e2f-2331-42be-b485-ce5deadb7188"
      },
      "execution_count": 56,
      "outputs": [
        {
          "output_type": "stream",
          "name": "stdout",
          "text": [
            "(100, 8)\n",
            "(100, 1)\n"
          ]
        }
      ]
    },
    {
      "cell_type": "code",
      "source": [
        "test_dataset = tf.data.Dataset.from_tensor_slices((X_test, y_test))\n",
        "test_dataset = test_dataset.shuffle(buffer_size = 8, reshuffle_each_iteration = True).batch(32).prefetch(tf.data.AUTOTUNE)"
      ],
      "metadata": {
        "id": "2SvdDdN9gEtO"
      },
      "execution_count": 57,
      "outputs": []
    },
    {
      "cell_type": "code",
      "source": [
        "normalizer = Normalization()\n",
        "normalizer.adapt(X_train) # adapts the mean and variance\n",
        "normalizer(X_train)\n",
        "print(X_train[:5, :])"
      ],
      "metadata": {
        "colab": {
          "base_uri": "https://localhost:8080/"
        },
        "id": "dP4HRGHVRt7N",
        "outputId": "c340ae12-3006-4da9-ea83-e0863d2299b0"
      },
      "execution_count": 61,
      "outputs": [
        {
          "output_type": "stream",
          "name": "stdout",
          "text": [
            "tf.Tensor(\n",
            "[[3.00000e+00 5.90890e+04 3.00000e+00 1.00000e+00 1.00000e+01 1.71000e+02\n",
            "  1.02000e+02 1.30000e+02]\n",
            " [2.00000e+00 1.29891e+05 5.00000e+00 2.00000e+00 1.10000e+01 1.44000e+02\n",
            "  5.70000e+01 7.20000e+01]\n",
            " [6.00000e+00 7.02610e+04 5.00000e+00 7.00000e+00 1.40000e+01 1.88000e+02\n",
            "  9.90000e+01 1.19000e+02]\n",
            " [7.00000e+00 1.30523e+05 5.00000e+00 5.00000e+00 1.00000e+01 1.87000e+02\n",
            "  7.50000e+01 1.29000e+02]\n",
            " [3.00000e+00 1.24833e+05 4.00000e+00 7.00000e+00 1.00000e+01 1.97000e+02\n",
            "  5.50000e+01 8.20000e+01]], shape=(5, 8), dtype=float64)\n"
          ]
        }
      ]
    },
    {
      "cell_type": "markdown",
      "source": [
        "- Sequential API\n",
        "- Functional API\n",
        "- Subclass"
      ],
      "metadata": {
        "id": "PPEysFgDgPf3"
      }
    },
    {
      "cell_type": "markdown",
      "source": [
        "## Neural Network"
      ],
      "metadata": {
        "id": "Vd8WocckRdc1"
      }
    },
    {
      "cell_type": "code",
      "source": [
        "model = tf.keras.Sequential([\n",
        "     InputLayer(input_shape = (8,), batch_size=10),\n",
        "     normalizer,\n",
        "     Dense(128, activation = \"relu\"),\n",
        "     Dense(128, activation = \"relu\"),\n",
        "     Dense(128, activation = \"relu\"),\n",
        "     Dense(1),\n",
        "])\n",
        "print(model.summary())"
      ],
      "metadata": {
        "colab": {
          "base_uri": "https://localhost:8080/"
        },
        "id": "Rpdvak_lbyLY",
        "outputId": "5052b464-1833-4532-99c6-44a1811d28c8"
      },
      "execution_count": 87,
      "outputs": [
        {
          "output_type": "stream",
          "name": "stdout",
          "text": [
            "Model: \"sequential_2\"\n",
            "_________________________________________________________________\n",
            " Layer (type)                Output Shape              Param #   \n",
            "=================================================================\n",
            " normalization (Normalizati  (10, 8)                   17        \n",
            " on)                                                             \n",
            "                                                                 \n",
            " dense_8 (Dense)             (10, 128)                 1152      \n",
            "                                                                 \n",
            " dense_9 (Dense)             (10, 128)                 16512     \n",
            "                                                                 \n",
            " dense_10 (Dense)            (10, 128)                 16512     \n",
            "                                                                 \n",
            " dense_11 (Dense)            (10, 1)                   129       \n",
            "                                                                 \n",
            "=================================================================\n",
            "Total params: 34322 (134.07 KB)\n",
            "Trainable params: 34305 (134.00 KB)\n",
            "Non-trainable params: 17 (72.00 Byte)\n",
            "_________________________________________________________________\n",
            "None\n"
          ]
        }
      ]
    },
    {
      "cell_type": "code",
      "source": [
        "tf.keras.utils.plot_model(model, to_file=\"model.png\", show_shapes=True)"
      ],
      "metadata": {
        "colab": {
          "base_uri": "https://localhost:8080/",
          "height": 644
        },
        "id": "onRI0NuDRWzc",
        "outputId": "84cbd6dc-c81f-4068-85aa-006024b43385"
      },
      "execution_count": null,
      "outputs": [
        {
          "output_type": "execute_result",
          "data": {
            "image/png": "[encoded data removed]",
            "text/plain": [
              "<IPython.core.display.Image object>"
            ]
          },
          "metadata": {},
          "execution_count": 55
        }
      ]
    },
    {
      "cell_type": "markdown",
      "source": [
        "### Alternative Method for constructing Neural Network"
      ],
      "metadata": {
        "id": "2EZ4sprLSL8T"
      }
    },
    {
      "cell_type": "code",
      "source": [
        "\"\"\"\n",
        "model = tf.keras.Sequential()\n",
        "\n",
        "model.add(normalizer)\n",
        "model.add(Dense(1)) # Dense (1) will give one output, Dense (n) will give n outputs\n",
        "print(model.summary())\n",
        "\"\"\""
      ],
      "metadata": {
        "colab": {
          "base_uri": "https://localhost:8080/",
          "height": 70
        },
        "id": "C7uqHIApgGyM",
        "outputId": "1c46f9f7-e5a6-457e-a21f-e171fd071622"
      },
      "execution_count": null,
      "outputs": [
        {
          "output_type": "execute_result",
          "data": {
            "text/plain": [
              "'\\nmodel = tf.keras.Sequential()\\n\\nmodel.add(normalizer)\\nmodel.add(Dense(1)) # Dense (1) will give one output, Dense (n) will give n outputs\\nprint(model.summary())\\n'"
            ],
            "application/vnd.google.colaboratory.intrinsic+json": {
              "type": "string"
            }
          },
          "metadata": {},
          "execution_count": 23
        }
      ]
    },
    {
      "cell_type": "code",
      "source": [
        "tf.keras.utils.plot_model(model, to_file=\"model.png\", show_shapes=True)"
      ],
      "metadata": {
        "id": "zZzQnL3Dgo4b",
        "colab": {
          "base_uri": "https://localhost:8080/",
          "height": 312
        },
        "outputId": "be7cb5a6-ef71-41f5-b45c-eb9c91ec2ead"
      },
      "execution_count": null,
      "outputs": [
        {
          "output_type": "execute_result",
          "data": {
            "image/png": "[encoded data removed]",
            "text/plain": [
              "<IPython.core.display.Image object>"
            ]
          },
          "metadata": {},
          "execution_count": 24
        }
      ]
    },
    {
      "cell_type": "markdown",
      "source": [
        "## Training & Compiling it"
      ],
      "metadata": {
        "id": "VD1cPfY5y-7m"
      }
    },
    {
      "cell_type": "code",
      "source": [
        "model.compile(loss= MeanAbsoluteError(), optimizer = Adam(learning_rate=0.01), metrics= RootMeanSquaredError())"
      ],
      "metadata": {
        "id": "LkqUTnvYVHks"
      },
      "execution_count": 88,
      "outputs": []
    },
    {
      "cell_type": "code",
      "source": [
        "history = model.fit(train_dataset, validation_data=val_dataset ,epochs=100, verbose=1)"
      ],
      "metadata": {
        "colab": {
          "base_uri": "https://localhost:8080/"
        },
        "id": "WudCsp7OzDWX",
        "outputId": "09739c07-b132-45a9-fc56-254ab8d8f5ba"
      },
      "execution_count": 89,
      "outputs": [
        {
          "output_type": "stream",
          "name": "stdout",
          "text": [
            "Epoch 1/100\n",
            "25/25 [==============================] - 1s 9ms/step - loss: 307928.3750 - root_mean_squared_error: 332384.5938 - val_loss: 304686.0625 - val_root_mean_squared_error: 331757.4375\n",
            "Epoch 2/100\n",
            "25/25 [==============================] - 0s 3ms/step - loss: 252971.9375 - root_mean_squared_error: 284276.3438 - val_loss: 152098.8594 - val_root_mean_squared_error: 186715.2500\n",
            "Epoch 3/100\n",
            "25/25 [==============================] - 0s 4ms/step - loss: 84229.8125 - root_mean_squared_error: 108001.7812 - val_loss: 46416.8281 - val_root_mean_squared_error: 58244.4023\n",
            "Epoch 4/100\n",
            "25/25 [==============================] - 0s 3ms/step - loss: 41944.2695 - root_mean_squared_error: 52080.5586 - val_loss: 40664.1602 - val_root_mean_squared_error: 48623.9102\n",
            "Epoch 5/100\n",
            "25/25 [==============================] - 0s 3ms/step - loss: 39952.6367 - root_mean_squared_error: 49336.0898 - val_loss: 38545.0703 - val_root_mean_squared_error: 47192.1992\n",
            "Epoch 6/100\n",
            "25/25 [==============================] - 0s 3ms/step - loss: 38507.3125 - root_mean_squared_error: 47735.9922 - val_loss: 37833.5078 - val_root_mean_squared_error: 46522.8281\n",
            "Epoch 7/100\n",
            "25/25 [==============================] - 0s 3ms/step - loss: 37582.4492 - root_mean_squared_error: 46837.4766 - val_loss: 37621.7188 - val_root_mean_squared_error: 46082.1719\n",
            "Epoch 8/100\n",
            "25/25 [==============================] - 0s 3ms/step - loss: 37077.6914 - root_mean_squared_error: 46244.5312 - val_loss: 37234.6406 - val_root_mean_squared_error: 45598.6211\n",
            "Epoch 9/100\n",
            "25/25 [==============================] - 0s 4ms/step - loss: 36824.7539 - root_mean_squared_error: 45921.3281 - val_loss: 37333.9688 - val_root_mean_squared_error: 46026.1523\n",
            "Epoch 10/100\n",
            "25/25 [==============================] - 0s 3ms/step - loss: 36289.7891 - root_mean_squared_error: 45328.0859 - val_loss: 36419.6992 - val_root_mean_squared_error: 44806.9414\n",
            "Epoch 11/100\n",
            "25/25 [==============================] - 0s 3ms/step - loss: 36279.4414 - root_mean_squared_error: 45200.8516 - val_loss: 37032.7227 - val_root_mean_squared_error: 44947.1367\n",
            "Epoch 12/100\n",
            "25/25 [==============================] - 0s 3ms/step - loss: 35767.8164 - root_mean_squared_error: 44810.7500 - val_loss: 36829.3516 - val_root_mean_squared_error: 44948.9570\n",
            "Epoch 13/100\n",
            "25/25 [==============================] - 0s 3ms/step - loss: 35499.6406 - root_mean_squared_error: 44446.3086 - val_loss: 36317.1758 - val_root_mean_squared_error: 44729.7188\n",
            "Epoch 14/100\n",
            "25/25 [==============================] - 0s 3ms/step - loss: 35214.4609 - root_mean_squared_error: 44226.3203 - val_loss: 36630.8359 - val_root_mean_squared_error: 44301.4531\n",
            "Epoch 15/100\n",
            "25/25 [==============================] - 0s 3ms/step - loss: 35087.9023 - root_mean_squared_error: 44005.5508 - val_loss: 36777.5039 - val_root_mean_squared_error: 44577.3047\n",
            "Epoch 16/100\n",
            "25/25 [==============================] - 0s 3ms/step - loss: 34908.6641 - root_mean_squared_error: 43838.7109 - val_loss: 36460.3906 - val_root_mean_squared_error: 44372.3906\n",
            "Epoch 17/100\n",
            "25/25 [==============================] - 0s 3ms/step - loss: 34604.1680 - root_mean_squared_error: 43460.7461 - val_loss: 36234.2188 - val_root_mean_squared_error: 43997.2852\n",
            "Epoch 18/100\n",
            "25/25 [==============================] - 0s 4ms/step - loss: 34796.5859 - root_mean_squared_error: 43686.0391 - val_loss: 37217.2227 - val_root_mean_squared_error: 45182.5625\n",
            "Epoch 19/100\n",
            "25/25 [==============================] - 0s 3ms/step - loss: 34503.5391 - root_mean_squared_error: 43538.4883 - val_loss: 35640.8633 - val_root_mean_squared_error: 43437.8047\n",
            "Epoch 20/100\n",
            "25/25 [==============================] - 0s 3ms/step - loss: 34372.9219 - root_mean_squared_error: 43196.9805 - val_loss: 35834.0078 - val_root_mean_squared_error: 43770.4180\n",
            "Epoch 21/100\n",
            "25/25 [==============================] - 0s 3ms/step - loss: 34391.1094 - root_mean_squared_error: 43181.8984 - val_loss: 36127.6484 - val_root_mean_squared_error: 44047.3281\n",
            "Epoch 22/100\n",
            "25/25 [==============================] - 0s 3ms/step - loss: 34365.4219 - root_mean_squared_error: 43261.9883 - val_loss: 36448.7031 - val_root_mean_squared_error: 44341.8633\n",
            "Epoch 23/100\n",
            "25/25 [==============================] - 0s 3ms/step - loss: 33868.3164 - root_mean_squared_error: 42964.5781 - val_loss: 36081.7617 - val_root_mean_squared_error: 43587.5742\n",
            "Epoch 24/100\n",
            "25/25 [==============================] - 0s 4ms/step - loss: 33851.9180 - root_mean_squared_error: 42674.0938 - val_loss: 35874.1055 - val_root_mean_squared_error: 43657.9922\n",
            "Epoch 25/100\n",
            "25/25 [==============================] - 0s 3ms/step - loss: 33920.1719 - root_mean_squared_error: 42820.6758 - val_loss: 35660.1055 - val_root_mean_squared_error: 43332.5625\n",
            "Epoch 26/100\n",
            "25/25 [==============================] - 0s 2ms/step - loss: 34283.3945 - root_mean_squared_error: 43080.8516 - val_loss: 35848.0781 - val_root_mean_squared_error: 43485.3477\n",
            "Epoch 27/100\n",
            "25/25 [==============================] - 0s 3ms/step - loss: 34018.4922 - root_mean_squared_error: 42757.9883 - val_loss: 35736.9062 - val_root_mean_squared_error: 43248.3477\n",
            "Epoch 28/100\n",
            "25/25 [==============================] - 0s 3ms/step - loss: 33841.0859 - root_mean_squared_error: 42535.8789 - val_loss: 36757.0898 - val_root_mean_squared_error: 44436.3867\n",
            "Epoch 29/100\n",
            "25/25 [==============================] - 0s 4ms/step - loss: 33499.6836 - root_mean_squared_error: 42431.0391 - val_loss: 35609.8594 - val_root_mean_squared_error: 43362.1953\n",
            "Epoch 30/100\n",
            "25/25 [==============================] - 0s 3ms/step - loss: 33644.2812 - root_mean_squared_error: 42497.7227 - val_loss: 36213.3867 - val_root_mean_squared_error: 43847.9219\n",
            "Epoch 31/100\n",
            "25/25 [==============================] - 0s 3ms/step - loss: 33442.7383 - root_mean_squared_error: 42321.2539 - val_loss: 36648.5391 - val_root_mean_squared_error: 44183.2461\n",
            "Epoch 32/100\n",
            "25/25 [==============================] - 0s 3ms/step - loss: 33465.1602 - root_mean_squared_error: 42480.5273 - val_loss: 36254.2383 - val_root_mean_squared_error: 43816.5312\n",
            "Epoch 33/100\n",
            "25/25 [==============================] - 0s 3ms/step - loss: 33361.3633 - root_mean_squared_error: 42457.2852 - val_loss: 35881.9023 - val_root_mean_squared_error: 43015.3281\n",
            "Epoch 34/100\n",
            "25/25 [==============================] - 0s 3ms/step - loss: 33413.5430 - root_mean_squared_error: 42227.2500 - val_loss: 35792.1328 - val_root_mean_squared_error: 43424.9062\n",
            "Epoch 35/100\n",
            "25/25 [==============================] - 0s 3ms/step - loss: 33618.6406 - root_mean_squared_error: 42476.6484 - val_loss: 35796.1641 - val_root_mean_squared_error: 43146.8086\n",
            "Epoch 36/100\n",
            "25/25 [==============================] - 0s 3ms/step - loss: 33421.9219 - root_mean_squared_error: 42172.9102 - val_loss: 35837.9180 - val_root_mean_squared_error: 43082.1172\n",
            "Epoch 37/100\n",
            "25/25 [==============================] - 0s 4ms/step - loss: 33353.4844 - root_mean_squared_error: 42098.2266 - val_loss: 36237.0781 - val_root_mean_squared_error: 43810.0273\n",
            "Epoch 38/100\n",
            "25/25 [==============================] - 0s 5ms/step - loss: 33253.8398 - root_mean_squared_error: 42318.6562 - val_loss: 35575.7734 - val_root_mean_squared_error: 42762.3008\n",
            "Epoch 39/100\n",
            "25/25 [==============================] - 0s 4ms/step - loss: 33352.7734 - root_mean_squared_error: 42110.4570 - val_loss: 35840.7539 - val_root_mean_squared_error: 43112.3633\n",
            "Epoch 40/100\n",
            "25/25 [==============================] - 0s 3ms/step - loss: 33229.1797 - root_mean_squared_error: 41985.1328 - val_loss: 36076.5195 - val_root_mean_squared_error: 43419.4844\n",
            "Epoch 41/100\n",
            "25/25 [==============================] - 0s 3ms/step - loss: 33042.1797 - root_mean_squared_error: 41897.7227 - val_loss: 36025.8711 - val_root_mean_squared_error: 43556.4961\n",
            "Epoch 42/100\n",
            "25/25 [==============================] - 0s 4ms/step - loss: 33082.3711 - root_mean_squared_error: 41974.4609 - val_loss: 35941.0664 - val_root_mean_squared_error: 43331.9023\n",
            "Epoch 43/100\n",
            "25/25 [==============================] - 0s 6ms/step - loss: 33338.8516 - root_mean_squared_error: 42226.3320 - val_loss: 35624.1250 - val_root_mean_squared_error: 42959.1016\n",
            "Epoch 44/100\n",
            "25/25 [==============================] - 0s 5ms/step - loss: 33237.7891 - root_mean_squared_error: 42059.8281 - val_loss: 35661.8008 - val_root_mean_squared_error: 42856.3516\n",
            "Epoch 45/100\n",
            "25/25 [==============================] - 0s 6ms/step - loss: 33157.3828 - root_mean_squared_error: 41940.4102 - val_loss: 35580.0586 - val_root_mean_squared_error: 42803.0625\n",
            "Epoch 46/100\n",
            "25/25 [==============================] - 0s 6ms/step - loss: 32969.2031 - root_mean_squared_error: 41811.6953 - val_loss: 35482.6992 - val_root_mean_squared_error: 42777.8125\n",
            "Epoch 47/100\n",
            "25/25 [==============================] - 0s 5ms/step - loss: 33213.2383 - root_mean_squared_error: 41983.9766 - val_loss: 35930.3242 - val_root_mean_squared_error: 43087.0039\n",
            "Epoch 48/100\n",
            "25/25 [==============================] - 0s 7ms/step - loss: 32945.5469 - root_mean_squared_error: 41674.9922 - val_loss: 35973.7852 - val_root_mean_squared_error: 43221.2227\n",
            "Epoch 49/100\n",
            "25/25 [==============================] - 0s 6ms/step - loss: 32871.8711 - root_mean_squared_error: 41671.0625 - val_loss: 35799.5508 - val_root_mean_squared_error: 43014.9062\n",
            "Epoch 50/100\n",
            "25/25 [==============================] - 0s 6ms/step - loss: 33139.8242 - root_mean_squared_error: 41991.8438 - val_loss: 36175.5664 - val_root_mean_squared_error: 43519.6055\n",
            "Epoch 51/100\n",
            "25/25 [==============================] - 0s 6ms/step - loss: 32848.3008 - root_mean_squared_error: 41774.3945 - val_loss: 36298.2266 - val_root_mean_squared_error: 43788.6172\n",
            "Epoch 52/100\n",
            "25/25 [==============================] - 0s 6ms/step - loss: 32747.2148 - root_mean_squared_error: 41599.8398 - val_loss: 36201.2109 - val_root_mean_squared_error: 43489.8594\n",
            "Epoch 53/100\n",
            "25/25 [==============================] - 0s 3ms/step - loss: 33097.4609 - root_mean_squared_error: 41987.6914 - val_loss: 36114.1172 - val_root_mean_squared_error: 43432.8672\n",
            "Epoch 54/100\n",
            "25/25 [==============================] - 0s 3ms/step - loss: 33282.1367 - root_mean_squared_error: 42204.3242 - val_loss: 38186.3438 - val_root_mean_squared_error: 46130.8555\n",
            "Epoch 55/100\n",
            "25/25 [==============================] - 0s 4ms/step - loss: 33064.7188 - root_mean_squared_error: 41983.3320 - val_loss: 36792.4688 - val_root_mean_squared_error: 44607.6914\n",
            "Epoch 56/100\n",
            "25/25 [==============================] - 0s 3ms/step - loss: 32837.0000 - root_mean_squared_error: 41751.4570 - val_loss: 36471.4531 - val_root_mean_squared_error: 44108.9375\n",
            "Epoch 57/100\n",
            "25/25 [==============================] - 0s 3ms/step - loss: 32802.2539 - root_mean_squared_error: 41701.1133 - val_loss: 36318.2656 - val_root_mean_squared_error: 43861.4922\n",
            "Epoch 58/100\n",
            "25/25 [==============================] - 0s 3ms/step - loss: 32736.7969 - root_mean_squared_error: 41733.9688 - val_loss: 36026.9180 - val_root_mean_squared_error: 43401.7773\n",
            "Epoch 59/100\n",
            "25/25 [==============================] - 0s 3ms/step - loss: 33198.9336 - root_mean_squared_error: 42210.8125 - val_loss: 35734.0039 - val_root_mean_squared_error: 42890.7188\n",
            "Epoch 60/100\n",
            "25/25 [==============================] - 0s 3ms/step - loss: 33200.8164 - root_mean_squared_error: 42053.1953 - val_loss: 35473.0234 - val_root_mean_squared_error: 42706.4375\n",
            "Epoch 61/100\n",
            "25/25 [==============================] - 0s 3ms/step - loss: 33034.0469 - root_mean_squared_error: 41852.4844 - val_loss: 35534.0234 - val_root_mean_squared_error: 42398.0977\n",
            "Epoch 62/100\n",
            "25/25 [==============================] - 0s 3ms/step - loss: 32819.6094 - root_mean_squared_error: 41513.8242 - val_loss: 35537.9336 - val_root_mean_squared_error: 42598.3438\n",
            "Epoch 63/100\n",
            "25/25 [==============================] - 0s 3ms/step - loss: 33000.6602 - root_mean_squared_error: 41719.5195 - val_loss: 36113.4883 - val_root_mean_squared_error: 43220.9141\n",
            "Epoch 64/100\n",
            "25/25 [==============================] - 0s 3ms/step - loss: 32859.3242 - root_mean_squared_error: 41645.9727 - val_loss: 35988.6367 - val_root_mean_squared_error: 43151.0508\n",
            "Epoch 65/100\n",
            "25/25 [==============================] - 0s 3ms/step - loss: 32831.5703 - root_mean_squared_error: 41773.8633 - val_loss: 35448.1055 - val_root_mean_squared_error: 42193.8398\n",
            "Epoch 66/100\n",
            "25/25 [==============================] - 0s 3ms/step - loss: 32800.5664 - root_mean_squared_error: 41547.8594 - val_loss: 35751.8008 - val_root_mean_squared_error: 42710.9805\n",
            "Epoch 67/100\n",
            "25/25 [==============================] - 0s 3ms/step - loss: 32713.8457 - root_mean_squared_error: 41560.1953 - val_loss: 35883.5234 - val_root_mean_squared_error: 42909.1797\n",
            "Epoch 68/100\n",
            "25/25 [==============================] - 0s 3ms/step - loss: 32590.3281 - root_mean_squared_error: 41481.4727 - val_loss: 35667.1211 - val_root_mean_squared_error: 42703.2461\n",
            "Epoch 69/100\n",
            "25/25 [==============================] - 0s 3ms/step - loss: 32645.1172 - root_mean_squared_error: 41462.6602 - val_loss: 35499.4492 - val_root_mean_squared_error: 42506.4375\n",
            "Epoch 70/100\n",
            "25/25 [==============================] - 0s 3ms/step - loss: 32773.8125 - root_mean_squared_error: 41667.4766 - val_loss: 35409.5234 - val_root_mean_squared_error: 42226.9492\n",
            "Epoch 71/100\n",
            "25/25 [==============================] - 0s 5ms/step - loss: 32833.1211 - root_mean_squared_error: 41586.2148 - val_loss: 36159.7148 - val_root_mean_squared_error: 43108.8047\n",
            "Epoch 72/100\n",
            "25/25 [==============================] - 0s 3ms/step - loss: 32411.5957 - root_mean_squared_error: 41296.9688 - val_loss: 35716.5898 - val_root_mean_squared_error: 42739.6719\n",
            "Epoch 73/100\n",
            "25/25 [==============================] - 0s 3ms/step - loss: 32593.1621 - root_mean_squared_error: 41417.5938 - val_loss: 35583.0117 - val_root_mean_squared_error: 42637.8984\n",
            "Epoch 74/100\n",
            "25/25 [==============================] - 0s 4ms/step - loss: 32730.4355 - root_mean_squared_error: 41549.6562 - val_loss: 35543.4180 - val_root_mean_squared_error: 42756.6523\n",
            "Epoch 75/100\n",
            "25/25 [==============================] - 0s 3ms/step - loss: 32643.4258 - root_mean_squared_error: 41438.0547 - val_loss: 35661.2031 - val_root_mean_squared_error: 42713.4023\n",
            "Epoch 76/100\n",
            "25/25 [==============================] - 0s 3ms/step - loss: 32627.7695 - root_mean_squared_error: 41443.0664 - val_loss: 35927.5156 - val_root_mean_squared_error: 42903.8711\n",
            "Epoch 77/100\n",
            "25/25 [==============================] - 0s 3ms/step - loss: 32508.6758 - root_mean_squared_error: 41317.4844 - val_loss: 36443.5234 - val_root_mean_squared_error: 43627.8008\n",
            "Epoch 78/100\n",
            "25/25 [==============================] - 0s 3ms/step - loss: 32497.9531 - root_mean_squared_error: 41347.6250 - val_loss: 36407.9922 - val_root_mean_squared_error: 43613.9219\n",
            "Epoch 79/100\n",
            "25/25 [==============================] - 0s 4ms/step - loss: 32420.3984 - root_mean_squared_error: 41292.0273 - val_loss: 36625.9844 - val_root_mean_squared_error: 43627.3828\n",
            "Epoch 80/100\n",
            "25/25 [==============================] - 0s 3ms/step - loss: 32350.0879 - root_mean_squared_error: 41102.2305 - val_loss: 35965.0469 - val_root_mean_squared_error: 43065.5586\n",
            "Epoch 81/100\n",
            "25/25 [==============================] - 0s 4ms/step - loss: 32579.6367 - root_mean_squared_error: 41509.6680 - val_loss: 36144.6719 - val_root_mean_squared_error: 43241.1328\n",
            "Epoch 82/100\n",
            "25/25 [==============================] - 0s 3ms/step - loss: 32754.4766 - root_mean_squared_error: 41612.6055 - val_loss: 36784.5469 - val_root_mean_squared_error: 43885.7734\n",
            "Epoch 83/100\n",
            "25/25 [==============================] - 0s 3ms/step - loss: 32374.0449 - root_mean_squared_error: 41271.7422 - val_loss: 36296.6758 - val_root_mean_squared_error: 43257.8516\n",
            "Epoch 84/100\n",
            "25/25 [==============================] - 0s 3ms/step - loss: 32399.6074 - root_mean_squared_error: 41217.8672 - val_loss: 36069.1602 - val_root_mean_squared_error: 42968.0156\n",
            "Epoch 85/100\n",
            "25/25 [==============================] - 0s 3ms/step - loss: 32294.4219 - root_mean_squared_error: 41183.0195 - val_loss: 35875.0977 - val_root_mean_squared_error: 42791.9570\n",
            "Epoch 86/100\n",
            "25/25 [==============================] - 0s 3ms/step - loss: 32504.6504 - root_mean_squared_error: 41348.1250 - val_loss: 35561.5352 - val_root_mean_squared_error: 42671.6719\n",
            "Epoch 87/100\n",
            "25/25 [==============================] - 0s 4ms/step - loss: 32650.8770 - root_mean_squared_error: 41398.3125 - val_loss: 35440.3555 - val_root_mean_squared_error: 42779.6250\n",
            "Epoch 88/100\n",
            "25/25 [==============================] - 0s 3ms/step - loss: 32551.7656 - root_mean_squared_error: 41391.6250 - val_loss: 35555.1953 - val_root_mean_squared_error: 42353.9688\n",
            "Epoch 89/100\n",
            "25/25 [==============================] - 0s 4ms/step - loss: 32676.6973 - root_mean_squared_error: 41434.0352 - val_loss: 36213.5430 - val_root_mean_squared_error: 43279.1172\n",
            "Epoch 90/100\n",
            "25/25 [==============================] - 0s 3ms/step - loss: 32437.6074 - root_mean_squared_error: 41216.8398 - val_loss: 36778.7852 - val_root_mean_squared_error: 44143.9961\n",
            "Epoch 91/100\n",
            "25/25 [==============================] - 0s 3ms/step - loss: 32216.3359 - root_mean_squared_error: 41119.7031 - val_loss: 35765.3398 - val_root_mean_squared_error: 42708.0000\n",
            "Epoch 92/100\n",
            "25/25 [==============================] - 0s 4ms/step - loss: 32419.3867 - root_mean_squared_error: 41210.9609 - val_loss: 36456.3711 - val_root_mean_squared_error: 43488.2070\n",
            "Epoch 93/100\n",
            "25/25 [==============================] - 0s 3ms/step - loss: 32534.2891 - root_mean_squared_error: 41462.0156 - val_loss: 36953.7539 - val_root_mean_squared_error: 44323.7344\n",
            "Epoch 94/100\n",
            "25/25 [==============================] - 0s 3ms/step - loss: 32387.5703 - root_mean_squared_error: 41257.3203 - val_loss: 36262.2148 - val_root_mean_squared_error: 43541.0039\n",
            "Epoch 95/100\n",
            "25/25 [==============================] - 0s 4ms/step - loss: 32096.4824 - root_mean_squared_error: 40982.8281 - val_loss: 35809.1758 - val_root_mean_squared_error: 42893.6367\n",
            "Epoch 96/100\n",
            "25/25 [==============================] - 0s 4ms/step - loss: 32348.1699 - root_mean_squared_error: 41263.7188 - val_loss: 35926.7031 - val_root_mean_squared_error: 42837.0469\n",
            "Epoch 97/100\n",
            "25/25 [==============================] - 0s 4ms/step - loss: 32456.7109 - root_mean_squared_error: 41253.9375 - val_loss: 35902.0156 - val_root_mean_squared_error: 42974.4375\n",
            "Epoch 98/100\n",
            "25/25 [==============================] - 0s 4ms/step - loss: 32532.8457 - root_mean_squared_error: 41328.6250 - val_loss: 37319.1836 - val_root_mean_squared_error: 44952.7969\n",
            "Epoch 99/100\n",
            "25/25 [==============================] - 0s 3ms/step - loss: 32795.9570 - root_mean_squared_error: 41649.2773 - val_loss: 36691.2969 - val_root_mean_squared_error: 44048.8477\n",
            "Epoch 100/100\n",
            "25/25 [==============================] - 0s 3ms/step - loss: 32412.4922 - root_mean_squared_error: 41414.0430 - val_loss: 36835.6016 - val_root_mean_squared_error: 44293.6445\n"
          ]
        }
      ]
    },
    {
      "cell_type": "code",
      "source": [
        "import matplotlib.pyplot as plt\n",
        "\n",
        "# Assuming `history` is the variable containing the history object\n",
        "plt.plot(history.history['loss'])\n",
        "plt.plot(history.history['val_loss'])\n",
        "plt.title('Mean Absolute Error- Model Loss')\n",
        "plt.xlabel('Epoch')\n",
        "plt.ylabel('Loss')\n",
        "plt.legend(['training', 'validation'], loc='upper right')\n",
        "plt.show()"
      ],
      "metadata": {
        "colab": {
          "base_uri": "https://localhost:8080/",
          "height": 472
        },
        "id": "qyQcseJjztR0",
        "outputId": "0d25101f-9b56-4970-b0bc-a489ae28be45"
      },
      "execution_count": 90,
      "outputs": [
        {
          "output_type": "display_data",
          "data": {
            "text/plain": [
              "<Figure size 640x480 with 1 Axes>"
            ],
            "image/png": "[encoded data removed]"
          },
          "metadata": {}
        }
      ]
    },
    {
      "cell_type": "code",
      "source": [
        "plt.plot(history.history['root_mean_squared_error'])\n",
        "plt.plot(history.history['val_root_mean_squared_error'])\n",
        "plt.title('Root Mean Square - Model Loss')\n",
        "plt.xlabel('Epoch')\n",
        "plt.ylabel('Loss')\n",
        "plt.legend(['training', 'validation'] ,loc='upper right')\n",
        "plt.show()"
      ],
      "metadata": {
        "colab": {
          "base_uri": "https://localhost:8080/",
          "height": 472
        },
        "id": "njsCkOmb7ceN",
        "outputId": "a99309a6-06c3-4945-daf7-1e33bb073013"
      },
      "execution_count": 91,
      "outputs": [
        {
          "output_type": "display_data",
          "data": {
            "text/plain": [
              "<Figure size 640x480 with 1 Axes>"
            ],
            "image/png": "[encoded data removed]"
          },
          "metadata": {}
        }
      ]
    },
    {
      "cell_type": "code",
      "source": [
        "model.evaluate(X_test, y_test)\n",
        "# [38018.07421875, 46750.73046875]"
      ],
      "metadata": {
        "colab": {
          "base_uri": "https://localhost:8080/"
        },
        "id": "I1aGVcG_7_oO",
        "outputId": "4e63e62a-6a50-44f0-97a6-84b2aff60c2a"
      },
      "execution_count": 92,
      "outputs": [
        {
          "output_type": "stream",
          "name": "stdout",
          "text": [
            "4/4 [==============================] - 0s 4ms/step - loss: 35637.9883 - root_mean_squared_error: 45599.3477\n"
          ]
        },
        {
          "output_type": "execute_result",
          "data": {
            "text/plain": [
              "[35637.98828125, 45599.34765625]"
            ]
          },
          "metadata": {},
          "execution_count": 92
        }
      ]
    },
    {
      "cell_type": "markdown",
      "source": [
        "## Predicting"
      ],
      "metadata": {
        "id": "ahEeML70SVsN"
      }
    },
    {
      "cell_type": "code",
      "source": [
        "y_true = list(y_test[:,0].numpy())"
      ],
      "metadata": {
        "id": "ua8066rLTEjj"
      },
      "execution_count": 69,
      "outputs": []
    },
    {
      "cell_type": "code",
      "source": [
        "y_pred = list(model.predict(X_test)[:, 0])\n",
        "print(y_pred)"
      ],
      "metadata": {
        "colab": {
          "base_uri": "https://localhost:8080/"
        },
        "id": "qv6g-IQgSFkX",
        "outputId": "776272dc-5658-4dc6-d46d-e87f187f3fdc"
      },
      "execution_count": 70,
      "outputs": [
        {
          "output_type": "stream",
          "name": "stdout",
          "text": [
            "4/4 [==============================] - 0s 3ms/step\n",
            "[439144.84, 334851.2, 276941.47, 349823.16, 418386.84, 191719.92, 353342.06, 328318.03, 203954.6, 126098.72, 433273.03, 163373.06, 502510.9, 115920.07, 335688.6, 400141.4, 248464.8, 291592.88, 456926.16, 337865.6, 312382.72, 459644.4, 326233.1, 292920.75, 125904.07, 242119.72, 156336.67, 179489.78, 142897.72, 393955.66, 210828.52, 324841.16, 418438.22, 117477.164, 473129.03, 210783.56, 179502.62, 360897.03, 300277.66, 250406.89, 218020.52, 199787.12, 360345.7, 410342.66, 342167.28, 303918.53, 333562.97, 153380.34, 448800.78, 152638.14, 487068.56, 144684.02, 284423.97, 220508.84, 272595.84, 179622.6, 226143.81, 131723.28, 293777.12, 459059.22, 458053.1, 509534.28, 264333.03, 377752.2, 291914.88, 357829.22, 459059.22, 129708.26, 482068.78, 280540.28, 120498.766, 149771.66, 107074.18, 382369.53, 412399.28, 120985.23, 490774.56, 493263.16, 365372.75, 157460.44, 211986.3, 436420.62, 385383.6, 296206.75, 177751.9, 451721.34, 86591.77, 479899.16, 189415.16, 467750.22, 219787.62, 122473.02, 129969.84, 280670.8, 298137.28, 71390.17, 212035.72, 290970.6, 215778.02, 119012.64]\n"
          ]
        }
      ]
    },
    {
      "cell_type": "code",
      "source": [
        "ind = np.arange(0, 200, 2)\n",
        "print(ind)\n",
        "plt.figure(figsize=(40,20))\n",
        "\n",
        "width = 1\n",
        "\n",
        "plt.bar(ind, y_pred, width, label = \"Predicted Car Prize\")\n",
        "plt.bar(ind+width, y_true, width, label = \"Actual Car Prize\")\n",
        "\n",
        "plt.legend(['Predicted', 'Actual'])\n",
        "plt.xlabel(\"Actual vs Predicted Prices\")\n",
        "plt.ylabel(\"Car Prizes\")\n",
        "\n",
        "plt.show()"
      ],
      "metadata": {
        "id": "UIsAx-myFiGO",
        "colab": {
          "base_uri": "https://localhost:8080/",
          "height": 825
        },
        "outputId": "c44e0442-de18-412d-e986-9b81bf1e218a"
      },
      "execution_count": 71,
      "outputs": [
        {
          "output_type": "stream",
          "name": "stdout",
          "text": [
            "[  0   2   4   6   8  10  12  14  16  18  20  22  24  26  28  30  32  34\n",
            "  36  38  40  42  44  46  48  50  52  54  56  58  60  62  64  66  68  70\n",
            "  72  74  76  78  80  82  84  86  88  90  92  94  96  98 100 102 104 106\n",
            " 108 110 112 114 116 118 120 122 124 126 128 130 132 134 136 138 140 142\n",
            " 144 146 148 150 152 154 156 158 160 162 164 166 168 170 172 174 176 178\n",
            " 180 182 184 186 188 190 192 194 196 198]\n"
          ]
        },
        {
          "output_type": "display_data",
          "data": {
            "text/plain": [
              "<Figure size 4000x2000 with 1 Axes>"
            ],
            "image/png": "[encoded data removed]"
          },
          "metadata": {}
        }
      ]
    },
    {
      "cell_type": "code",
      "source": [],
      "metadata": {
        "id": "52ubAuVTWg70"
      },
      "execution_count": null,
      "outputs": []
    }
  ]
}