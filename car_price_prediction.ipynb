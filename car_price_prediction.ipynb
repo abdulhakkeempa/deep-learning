{
  "nbformat": 4,
  "nbformat_minor": 0,
  "metadata": {
    "colab": {
      "provenance": [],
      "authorship_tag": "ABX9TyMuwghAlNxkM7NXNjlnt60W"
    },
    "kernelspec": {
      "name": "python3",
      "display_name": "Python 3"
    },
    "language_info": {
      "name": "python"
    }
  },
  "cells": [
    {
      "cell_type": "code",
      "execution_count": 30,
      "metadata": {
        "id": "PYD4LJL2KhLo"
      },
      "outputs": [],
      "source": [
        "import tensorflow as tf\n",
        "import pandas as pd\n",
        "import seaborn as sns\n",
        "from tensorflow.keras.layers import Normalization, Dense, InputLayer\n",
        "from tensorflow.keras.losses import MeanSquaredError, Huber, MeanAbsoluteError\n",
        "from tensorflow.keras.optimizers import Adam"
      ]
    },
    {
      "cell_type": "markdown",
      "source": [
        "## Data Preperation"
      ],
      "metadata": {
        "id": "5omFq0fJRT9O"
      }
    },
    {
      "cell_type": "code",
      "source": [
        "import os\n",
        "os.environ['eda'] = \"False\""
      ],
      "metadata": {
        "id": "5Js7ykS6yfVh"
      },
      "execution_count": 7,
      "outputs": []
    },
    {
      "cell_type": "code",
      "source": [
        "df = pd.read_csv(\"/content/second-hand-car.csv\")"
      ],
      "metadata": {
        "id": "ArFwlemsMzJf"
      },
      "execution_count": 8,
      "outputs": []
    },
    {
      "cell_type": "code",
      "source": [
        "df.head()"
      ],
      "metadata": {
        "colab": {
          "base_uri": "https://localhost:8080/",
          "height": 206
        },
        "id": "KJPXSEJvM5ft",
        "outputId": "d069f3d6-fd02-415c-b661-1e21c25dab06"
      },
      "execution_count": 9,
      "outputs": [
        {
          "output_type": "execute_result",
          "data": {
            "text/plain": [
              "   v.id  on road old  on road now  years      km  rating  condition  economy  \\\n",
              "0     1       535651       798186      3   78945       1          2       14   \n",
              "1     2       591911       861056      6  117220       5          9        9   \n",
              "2     3       686990       770762      2  132538       2          8       15   \n",
              "3     4       573999       722381      4  101065       4          3       11   \n",
              "4     5       691388       811335      6   61559       3          9       12   \n",
              "\n",
              "   top speed  hp  torque  current price  \n",
              "0        177  73     123       351318.0  \n",
              "1        148  74      95       285001.5  \n",
              "2        181  53      97       215386.0  \n",
              "3        197  54     116       244295.5  \n",
              "4        160  53     105       531114.5  "
            ],
            "text/html": [
              "\n",
              "  <div id=\"df-2a504ced-6d64-466d-b7bf-233f31a9312d\" class=\"colab-df-container\">\n",
              "    <div>\n",
              "<style scoped>\n",
              "    .dataframe tbody tr th:only-of-type {\n",
              "        vertical-align: middle;\n",
              "    }\n",
              "\n",
              "    .dataframe tbody tr th {\n",
              "        vertical-align: top;\n",
              "    }\n",
              "\n",
              "    .dataframe thead th {\n",
              "        text-align: right;\n",
              "    }\n",
              "</style>\n",
              "<table border=\"1\" class=\"dataframe\">\n",
              "  <thead>\n",
              "    <tr style=\"text-align: right;\">\n",
              "      <th></th>\n",
              "      <th>v.id</th>\n",
              "      <th>on road old</th>\n",
              "      <th>on road now</th>\n",
              "      <th>years</th>\n",
              "      <th>km</th>\n",
              "      <th>rating</th>\n",
              "      <th>condition</th>\n",
              "      <th>economy</th>\n",
              "      <th>top speed</th>\n",
              "      <th>hp</th>\n",
              "      <th>torque</th>\n",
              "      <th>current price</th>\n",
              "    </tr>\n",
              "  </thead>\n",
              "  <tbody>\n",
              "    <tr>\n",
              "      <th>0</th>\n",
              "      <td>1</td>\n",
              "      <td>535651</td>\n",
              "      <td>798186</td>\n",
              "      <td>3</td>\n",
              "      <td>78945</td>\n",
              "      <td>1</td>\n",
              "      <td>2</td>\n",
              "      <td>14</td>\n",
              "      <td>177</td>\n",
              "      <td>73</td>\n",
              "      <td>123</td>\n",
              "      <td>351318.0</td>\n",
              "    </tr>\n",
              "    <tr>\n",
              "      <th>1</th>\n",
              "      <td>2</td>\n",
              "      <td>591911</td>\n",
              "      <td>861056</td>\n",
              "      <td>6</td>\n",
              "      <td>117220</td>\n",
              "      <td>5</td>\n",
              "      <td>9</td>\n",
              "      <td>9</td>\n",
              "      <td>148</td>\n",
              "      <td>74</td>\n",
              "      <td>95</td>\n",
              "      <td>285001.5</td>\n",
              "    </tr>\n",
              "    <tr>\n",
              "      <th>2</th>\n",
              "      <td>3</td>\n",
              "      <td>686990</td>\n",
              "      <td>770762</td>\n",
              "      <td>2</td>\n",
              "      <td>132538</td>\n",
              "      <td>2</td>\n",
              "      <td>8</td>\n",
              "      <td>15</td>\n",
              "      <td>181</td>\n",
              "      <td>53</td>\n",
              "      <td>97</td>\n",
              "      <td>215386.0</td>\n",
              "    </tr>\n",
              "    <tr>\n",
              "      <th>3</th>\n",
              "      <td>4</td>\n",
              "      <td>573999</td>\n",
              "      <td>722381</td>\n",
              "      <td>4</td>\n",
              "      <td>101065</td>\n",
              "      <td>4</td>\n",
              "      <td>3</td>\n",
              "      <td>11</td>\n",
              "      <td>197</td>\n",
              "      <td>54</td>\n",
              "      <td>116</td>\n",
              "      <td>244295.5</td>\n",
              "    </tr>\n",
              "    <tr>\n",
              "      <th>4</th>\n",
              "      <td>5</td>\n",
              "      <td>691388</td>\n",
              "      <td>811335</td>\n",
              "      <td>6</td>\n",
              "      <td>61559</td>\n",
              "      <td>3</td>\n",
              "      <td>9</td>\n",
              "      <td>12</td>\n",
              "      <td>160</td>\n",
              "      <td>53</td>\n",
              "      <td>105</td>\n",
              "      <td>531114.5</td>\n",
              "    </tr>\n",
              "  </tbody>\n",
              "</table>\n",
              "</div>\n",
              "    <div class=\"colab-df-buttons\">\n",
              "\n",
              "  <div class=\"colab-df-container\">\n",
              "    <button class=\"colab-df-convert\" onclick=\"convertToInteractive('df-2a504ced-6d64-466d-b7bf-233f31a9312d')\"\n",
              "            title=\"Convert this dataframe to an interactive table.\"\n",
              "            style=\"display:none;\">\n",
              "\n",
              "  <svg xmlns=\"http://www.w3.org/2000/svg\" height=\"24px\" viewBox=\"0 -960 960 960\">\n",
              "    <path d=\"M120-120v-720h720v720H120Zm60-500h600v-160H180v160Zm220 220h160v-160H400v160Zm0 220h160v-160H400v160ZM180-400h160v-160H180v160Zm440 0h160v-160H620v160ZM180-180h160v-160H180v160Zm440 0h160v-160H620v160Z\"/>\n",
              "  </svg>\n",
              "    </button>\n",
              "\n",
              "  <style>\n",
              "    .colab-df-container {\n",
              "      display:flex;\n",
              "      gap: 12px;\n",
              "    }\n",
              "\n",
              "    .colab-df-convert {\n",
              "      background-color: #E8F0FE;\n",
              "      border: none;\n",
              "      border-radius: 50%;\n",
              "      cursor: pointer;\n",
              "      display: none;\n",
              "      fill: #1967D2;\n",
              "      height: 32px;\n",
              "      padding: 0 0 0 0;\n",
              "      width: 32px;\n",
              "    }\n",
              "\n",
              "    .colab-df-convert:hover {\n",
              "      background-color: #E2EBFA;\n",
              "      box-shadow: 0px 1px 2px rgba(60, 64, 67, 0.3), 0px 1px 3px 1px rgba(60, 64, 67, 0.15);\n",
              "      fill: #174EA6;\n",
              "    }\n",
              "\n",
              "    .colab-df-buttons div {\n",
              "      margin-bottom: 4px;\n",
              "    }\n",
              "\n",
              "    [theme=dark] .colab-df-convert {\n",
              "      background-color: #3B4455;\n",
              "      fill: #D2E3FC;\n",
              "    }\n",
              "\n",
              "    [theme=dark] .colab-df-convert:hover {\n",
              "      background-color: #434B5C;\n",
              "      box-shadow: 0px 1px 3px 1px rgba(0, 0, 0, 0.15);\n",
              "      filter: drop-shadow(0px 1px 2px rgba(0, 0, 0, 0.3));\n",
              "      fill: #FFFFFF;\n",
              "    }\n",
              "  </style>\n",
              "\n",
              "    <script>\n",
              "      const buttonEl =\n",
              "        document.querySelector('#df-2a504ced-6d64-466d-b7bf-233f31a9312d button.colab-df-convert');\n",
              "      buttonEl.style.display =\n",
              "        google.colab.kernel.accessAllowed ? 'block' : 'none';\n",
              "\n",
              "      async function convertToInteractive(key) {\n",
              "        const element = document.querySelector('#df-2a504ced-6d64-466d-b7bf-233f31a9312d');\n",
              "        const dataTable =\n",
              "          await google.colab.kernel.invokeFunction('convertToInteractive',\n",
              "                                                    [key], {});\n",
              "        if (!dataTable) return;\n",
              "\n",
              "        const docLinkHtml = 'Like what you see? Visit the ' +\n",
              "          '<a target=\"_blank\" href=https://colab.research.google.com/notebooks/data_table.ipynb>data table notebook</a>'\n",
              "          + ' to learn more about interactive tables.';\n",
              "        element.innerHTML = '';\n",
              "        dataTable['output_type'] = 'display_data';\n",
              "        await google.colab.output.renderOutput(dataTable, element);\n",
              "        const docLink = document.createElement('div');\n",
              "        docLink.innerHTML = docLinkHtml;\n",
              "        element.appendChild(docLink);\n",
              "      }\n",
              "    </script>\n",
              "  </div>\n",
              "\n",
              "\n",
              "<div id=\"df-dd0a4704-7c04-4887-8f1f-96d8ddf43baf\">\n",
              "  <button class=\"colab-df-quickchart\" onclick=\"quickchart('df-dd0a4704-7c04-4887-8f1f-96d8ddf43baf')\"\n",
              "            title=\"Suggest charts\"\n",
              "            style=\"display:none;\">\n",
              "\n",
              "<svg xmlns=\"http://www.w3.org/2000/svg\" height=\"24px\"viewBox=\"0 0 24 24\"\n",
              "     width=\"24px\">\n",
              "    <g>\n",
              "        <path d=\"M19 3H5c-1.1 0-2 .9-2 2v14c0 1.1.9 2 2 2h14c1.1 0 2-.9 2-2V5c0-1.1-.9-2-2-2zM9 17H7v-7h2v7zm4 0h-2V7h2v10zm4 0h-2v-4h2v4z\"/>\n",
              "    </g>\n",
              "</svg>\n",
              "  </button>\n",
              "\n",
              "<style>\n",
              "  .colab-df-quickchart {\n",
              "      --bg-color: #E8F0FE;\n",
              "      --fill-color: #1967D2;\n",
              "      --hover-bg-color: #E2EBFA;\n",
              "      --hover-fill-color: #174EA6;\n",
              "      --disabled-fill-color: #AAA;\n",
              "      --disabled-bg-color: #DDD;\n",
              "  }\n",
              "\n",
              "  [theme=dark] .colab-df-quickchart {\n",
              "      --bg-color: #3B4455;\n",
              "      --fill-color: #D2E3FC;\n",
              "      --hover-bg-color: #434B5C;\n",
              "      --hover-fill-color: #FFFFFF;\n",
              "      --disabled-bg-color: #3B4455;\n",
              "      --disabled-fill-color: #666;\n",
              "  }\n",
              "\n",
              "  .colab-df-quickchart {\n",
              "    background-color: var(--bg-color);\n",
              "    border: none;\n",
              "    border-radius: 50%;\n",
              "    cursor: pointer;\n",
              "    display: none;\n",
              "    fill: var(--fill-color);\n",
              "    height: 32px;\n",
              "    padding: 0;\n",
              "    width: 32px;\n",
              "  }\n",
              "\n",
              "  .colab-df-quickchart:hover {\n",
              "    background-color: var(--hover-bg-color);\n",
              "    box-shadow: 0 1px 2px rgba(60, 64, 67, 0.3), 0 1px 3px 1px rgba(60, 64, 67, 0.15);\n",
              "    fill: var(--button-hover-fill-color);\n",
              "  }\n",
              "\n",
              "  .colab-df-quickchart-complete:disabled,\n",
              "  .colab-df-quickchart-complete:disabled:hover {\n",
              "    background-color: var(--disabled-bg-color);\n",
              "    fill: var(--disabled-fill-color);\n",
              "    box-shadow: none;\n",
              "  }\n",
              "\n",
              "  .colab-df-spinner {\n",
              "    border: 2px solid var(--fill-color);\n",
              "    border-color: transparent;\n",
              "    border-bottom-color: var(--fill-color);\n",
              "    animation:\n",
              "      spin 1s steps(1) infinite;\n",
              "  }\n",
              "\n",
              "  @keyframes spin {\n",
              "    0% {\n",
              "      border-color: transparent;\n",
              "      border-bottom-color: var(--fill-color);\n",
              "      border-left-color: var(--fill-color);\n",
              "    }\n",
              "    20% {\n",
              "      border-color: transparent;\n",
              "      border-left-color: var(--fill-color);\n",
              "      border-top-color: var(--fill-color);\n",
              "    }\n",
              "    30% {\n",
              "      border-color: transparent;\n",
              "      border-left-color: var(--fill-color);\n",
              "      border-top-color: var(--fill-color);\n",
              "      border-right-color: var(--fill-color);\n",
              "    }\n",
              "    40% {\n",
              "      border-color: transparent;\n",
              "      border-right-color: var(--fill-color);\n",
              "      border-top-color: var(--fill-color);\n",
              "    }\n",
              "    60% {\n",
              "      border-color: transparent;\n",
              "      border-right-color: var(--fill-color);\n",
              "    }\n",
              "    80% {\n",
              "      border-color: transparent;\n",
              "      border-right-color: var(--fill-color);\n",
              "      border-bottom-color: var(--fill-color);\n",
              "    }\n",
              "    90% {\n",
              "      border-color: transparent;\n",
              "      border-bottom-color: var(--fill-color);\n",
              "    }\n",
              "  }\n",
              "</style>\n",
              "\n",
              "  <script>\n",
              "    async function quickchart(key) {\n",
              "      const quickchartButtonEl =\n",
              "        document.querySelector('#' + key + ' button');\n",
              "      quickchartButtonEl.disabled = true;  // To prevent multiple clicks.\n",
              "      quickchartButtonEl.classList.add('colab-df-spinner');\n",
              "      try {\n",
              "        const charts = await google.colab.kernel.invokeFunction(\n",
              "            'suggestCharts', [key], {});\n",
              "      } catch (error) {\n",
              "        console.error('Error during call to suggestCharts:', error);\n",
              "      }\n",
              "      quickchartButtonEl.classList.remove('colab-df-spinner');\n",
              "      quickchartButtonEl.classList.add('colab-df-quickchart-complete');\n",
              "    }\n",
              "    (() => {\n",
              "      let quickchartButtonEl =\n",
              "        document.querySelector('#df-dd0a4704-7c04-4887-8f1f-96d8ddf43baf button');\n",
              "      quickchartButtonEl.style.display =\n",
              "        google.colab.kernel.accessAllowed ? 'block' : 'none';\n",
              "    })();\n",
              "  </script>\n",
              "</div>\n",
              "\n",
              "    </div>\n",
              "  </div>\n"
            ]
          },
          "metadata": {},
          "execution_count": 9
        }
      ]
    },
    {
      "cell_type": "code",
      "source": [
        "print(df.columns)"
      ],
      "metadata": {
        "colab": {
          "base_uri": "https://localhost:8080/"
        },
        "id": "rE10I5ACM_CX",
        "outputId": "ae9e8539-7fa5-4a64-e86a-a1974195d3fd"
      },
      "execution_count": 10,
      "outputs": [
        {
          "output_type": "stream",
          "name": "stdout",
          "text": [
            "Index(['v.id', 'on road old', 'on road now', 'years', 'km', 'rating',\n",
            "       'condition', 'economy', 'top speed', 'hp', 'torque', 'current price'],\n",
            "      dtype='object')\n"
          ]
        }
      ]
    },
    {
      "cell_type": "code",
      "source": [
        "df.shape"
      ],
      "metadata": {
        "colab": {
          "base_uri": "https://localhost:8080/"
        },
        "id": "l_1o9tAlNBXT",
        "outputId": "2ee19542-67ff-43c5-9409-30dc553392a3"
      },
      "execution_count": 11,
      "outputs": [
        {
          "output_type": "execute_result",
          "data": {
            "text/plain": [
              "(1000, 12)"
            ]
          },
          "metadata": {},
          "execution_count": 11
        }
      ]
    },
    {
      "cell_type": "code",
      "source": [
        "if os.environ['eda'] == \"True\":\n",
        "  sns.pairplot(df[['on road old', 'on road now', 'years', 'km', 'rating',\n",
        "       'condition', 'economy', 'top speed', 'hp', 'torque', 'current price']], diag_kind='kde')"
      ],
      "metadata": {
        "id": "UslcVfzENLfF"
      },
      "execution_count": 12,
      "outputs": []
    },
    {
      "cell_type": "code",
      "source": [
        "tensor_data = tf.constant(df)\n",
        "print(tensor_data.shape)"
      ],
      "metadata": {
        "colab": {
          "base_uri": "https://localhost:8080/"
        },
        "id": "fpR0xzXfOVnJ",
        "outputId": "723531f2-103a-4441-98f9-607a52d0b819"
      },
      "execution_count": 13,
      "outputs": [
        {
          "output_type": "stream",
          "name": "stdout",
          "text": [
            "(1000, 12)\n"
          ]
        }
      ]
    },
    {
      "cell_type": "code",
      "source": [
        "print(tensor_data)"
      ],
      "metadata": {
        "colab": {
          "base_uri": "https://localhost:8080/"
        },
        "id": "q9avs0KwQcCP",
        "outputId": "69bda778-5ed2-4b5d-b1a1-5aeeed346406"
      },
      "execution_count": 14,
      "outputs": [
        {
          "output_type": "stream",
          "name": "stdout",
          "text": [
            "tf.Tensor(\n",
            "[[1.000000e+00 5.356510e+05 7.981860e+05 ... 7.300000e+01 1.230000e+02\n",
            "  3.513180e+05]\n",
            " [2.000000e+00 5.919110e+05 8.610560e+05 ... 7.400000e+01 9.500000e+01\n",
            "  2.850015e+05]\n",
            " [3.000000e+00 6.869900e+05 7.707620e+05 ... 5.300000e+01 9.700000e+01\n",
            "  2.153860e+05]\n",
            " ...\n",
            " [9.980000e+02 6.463440e+05 8.427330e+05 ... 1.130000e+02 8.900000e+01\n",
            "  4.058710e+05]\n",
            " [9.990000e+02 5.355590e+05 7.324390e+05 ... 1.120000e+02 1.280000e+02\n",
            "  7.439800e+04]\n",
            " [1.000000e+03 5.901050e+05 7.797430e+05 ... 9.900000e+01 9.600000e+01\n",
            "  4.149385e+05]], shape=(1000, 12), dtype=float64)\n"
          ]
        }
      ]
    },
    {
      "cell_type": "code",
      "source": [
        "tensor_data = tf.random.shuffle(tensor_data)\n",
        "print(tensor_data[:5])"
      ],
      "metadata": {
        "colab": {
          "base_uri": "https://localhost:8080/"
        },
        "id": "Gmls1kIVQrqu",
        "outputId": "3ac2a94c-ee2d-4dbf-b457-1a0cf43884e7"
      },
      "execution_count": 15,
      "outputs": [
        {
          "output_type": "stream",
          "name": "stdout",
          "text": [
            "tf.Tensor(\n",
            "[[6.890000e+02 6.238250e+05 7.293350e+05 2.000000e+00 5.652300e+04\n",
            "  5.000000e+00 6.000000e+00 1.200000e+01 1.550000e+02 5.700000e+01\n",
            "  1.080000e+02 4.561545e+05]\n",
            " [7.770000e+02 6.934950e+05 8.303220e+05 6.000000e+00 7.757000e+04\n",
            "  5.000000e+00 3.000000e+00 9.000000e+00 1.820000e+02 1.090000e+02\n",
            "  7.900000e+01 4.496500e+05]\n",
            " [8.730000e+02 6.921570e+05 8.249260e+05 7.000000e+00 1.429590e+05\n",
            "  2.000000e+00 4.000000e+00 9.000000e+00 1.980000e+02 1.160000e+02\n",
            "  9.900000e+01 1.790770e+05]\n",
            " [5.410000e+02 5.222020e+05 8.281700e+05 3.000000e+00 9.672300e+04\n",
            "  4.000000e+00 2.000000e+00 1.100000e+01 1.430000e+02 1.140000e+02\n",
            "  7.300000e+01 2.889260e+05]\n",
            " [9.550000e+02 5.065040e+05 7.004280e+05 4.000000e+00 1.059050e+05\n",
            "  3.000000e+00 1.000000e+00 1.300000e+01 1.600000e+02 5.200000e+01\n",
            "  1.300000e+02 1.797115e+05]], shape=(5, 12), dtype=float64)\n"
          ]
        }
      ]
    },
    {
      "cell_type": "code",
      "source": [
        "X = tensor_data[:, 3:-1]\n",
        "print(X.shape)"
      ],
      "metadata": {
        "colab": {
          "base_uri": "https://localhost:8080/"
        },
        "id": "_1lgqIevQ8p9",
        "outputId": "af104a90-94eb-4fdf-ef32-42040c9d848f"
      },
      "execution_count": 16,
      "outputs": [
        {
          "output_type": "stream",
          "name": "stdout",
          "text": [
            "(1000, 8)\n"
          ]
        }
      ]
    },
    {
      "cell_type": "code",
      "source": [
        "y = tensor_data[:, -1]\n",
        "y = tf.expand_dims(y, axis=-1)\n",
        "print(y.shape)"
      ],
      "metadata": {
        "colab": {
          "base_uri": "https://localhost:8080/"
        },
        "id": "Hhv5Bw18RkoS",
        "outputId": "404768ae-5d1d-4096-c488-7175d090a4ab"
      },
      "execution_count": 17,
      "outputs": [
        {
          "output_type": "stream",
          "name": "stdout",
          "text": [
            "(1000, 1)\n"
          ]
        }
      ]
    },
    {
      "cell_type": "code",
      "source": [
        "normalizer = Normalization()\n",
        "normalizer.adapt(X) # adapts the mean and variance\n",
        "normalizer(X)\n",
        "print(X[:5, :])"
      ],
      "metadata": {
        "colab": {
          "base_uri": "https://localhost:8080/"
        },
        "id": "dP4HRGHVRt7N",
        "outputId": "9915a5d4-7406-4ffe-a900-cb06e56ab272"
      },
      "execution_count": 18,
      "outputs": [
        {
          "output_type": "stream",
          "name": "stdout",
          "text": [
            "tf.Tensor(\n",
            "[[2.00000e+00 5.65230e+04 5.00000e+00 6.00000e+00 1.20000e+01 1.55000e+02\n",
            "  5.70000e+01 1.08000e+02]\n",
            " [6.00000e+00 7.75700e+04 5.00000e+00 3.00000e+00 9.00000e+00 1.82000e+02\n",
            "  1.09000e+02 7.90000e+01]\n",
            " [7.00000e+00 1.42959e+05 2.00000e+00 4.00000e+00 9.00000e+00 1.98000e+02\n",
            "  1.16000e+02 9.90000e+01]\n",
            " [3.00000e+00 9.67230e+04 4.00000e+00 2.00000e+00 1.10000e+01 1.43000e+02\n",
            "  1.14000e+02 7.30000e+01]\n",
            " [4.00000e+00 1.05905e+05 3.00000e+00 1.00000e+00 1.30000e+01 1.60000e+02\n",
            "  5.20000e+01 1.30000e+02]], shape=(5, 8), dtype=float64)\n"
          ]
        }
      ]
    },
    {
      "cell_type": "markdown",
      "source": [
        "- Sequential API\n",
        "- Functional API\n",
        "- Subclass"
      ],
      "metadata": {
        "id": "PPEysFgDgPf3"
      }
    },
    {
      "cell_type": "markdown",
      "source": [
        "## Neural Network"
      ],
      "metadata": {
        "id": "Vd8WocckRdc1"
      }
    },
    {
      "cell_type": "code",
      "source": [
        "model = tf.keras.Sequential([\n",
        "     InputLayer(input_shape = (8,), batch_size=10),\n",
        "     normalizer,\n",
        "     Dense(1),\n",
        "])\n",
        "print(model.summary())"
      ],
      "metadata": {
        "colab": {
          "base_uri": "https://localhost:8080/"
        },
        "id": "Rpdvak_lbyLY",
        "outputId": "13ab923c-f94e-446a-f9f3-6e0270eda3e7"
      },
      "execution_count": 19,
      "outputs": [
        {
          "output_type": "stream",
          "name": "stdout",
          "text": [
            "Model: \"sequential\"\n",
            "_________________________________________________________________\n",
            " Layer (type)                Output Shape              Param #   \n",
            "=================================================================\n",
            " normalization (Normalizati  (10, 8)                   17        \n",
            " on)                                                             \n",
            "                                                                 \n",
            " dense (Dense)               (10, 1)                   9         \n",
            "                                                                 \n",
            "=================================================================\n",
            "Total params: 26 (108.00 Byte)\n",
            "Trainable params: 9 (36.00 Byte)\n",
            "Non-trainable params: 17 (72.00 Byte)\n",
            "_________________________________________________________________\n",
            "None\n"
          ]
        }
      ]
    },
    {
      "cell_type": "code",
      "source": [
        "tf.keras.utils.plot_model(model, to_file=\"model.png\", show_shapes=True)"
      ],
      "metadata": {
        "colab": {
          "base_uri": "https://localhost:8080/",
          "height": 312
        },
        "id": "onRI0NuDRWzc",
        "outputId": "0078e707-3093-4097-df71-36d7f09cc137"
      },
      "execution_count": 20,
      "outputs": [
        {
          "output_type": "execute_result",
          "data": {
            "image/png": "[encoded data removed]",
            "text/plain": [
              "<IPython.core.display.Image object>"
            ]
          },
          "metadata": {},
          "execution_count": 20
        }
      ]
    },
    {
      "cell_type": "markdown",
      "source": [
        "### Alternative Method for constructing Neural Network"
      ],
      "metadata": {
        "id": "2EZ4sprLSL8T"
      }
    },
    {
      "cell_type": "code",
      "source": [
        "\"\"\"\n",
        "model = tf.keras.Sequential()\n",
        "\n",
        "model.add(normalizer)\n",
        "model.add(Dense(1)) # Dense (1) will give one output, Dense (n) will give n outputs\n",
        "print(model.summary())\n",
        "\"\"\""
      ],
      "metadata": {
        "colab": {
          "base_uri": "https://localhost:8080/",
          "height": 53
        },
        "id": "C7uqHIApgGyM",
        "outputId": "e96ab9b6-c839-4f6c-8ead-dcbe340faf95"
      },
      "execution_count": 21,
      "outputs": [
        {
          "output_type": "execute_result",
          "data": {
            "text/plain": [
              "'\\nmodel = tf.keras.Sequential()\\n\\nmodel.add(normalizer)\\nmodel.add(Dense(1)) # Dense (1) will give one output, Dense (n) will give n outputs\\nprint(model.summary())\\n'"
            ],
            "application/vnd.google.colaboratory.intrinsic+json": {
              "type": "string"
            }
          },
          "metadata": {},
          "execution_count": 21
        }
      ]
    },
    {
      "cell_type": "code",
      "source": [
        "tf.keras.utils.plot_model(model, to_file=\"model.png\", show_shapes=True)"
      ],
      "metadata": {
        "id": "zZzQnL3Dgo4b",
        "colab": {
          "base_uri": "https://localhost:8080/",
          "height": 312
        },
        "outputId": "69a2d25d-0624-4252-ddf7-4fc11c673994"
      },
      "execution_count": 22,
      "outputs": [
        {
          "output_type": "execute_result",
          "data": {
            "image/png": "[encoded data removed]",
            "text/plain": [
              "<IPython.core.display.Image object>"
            ]
          },
          "metadata": {},
          "execution_count": 22
        }
      ]
    },
    {
      "cell_type": "markdown",
      "source": [
        "## Training & Compiling it"
      ],
      "metadata": {
        "id": "VD1cPfY5y-7m"
      }
    },
    {
      "cell_type": "code",
      "source": [
        "model.compile(loss= MeanAbsoluteError(), optimizer = Adam(learning_rate=1))"
      ],
      "metadata": {
        "id": "LkqUTnvYVHks"
      },
      "execution_count": 41,
      "outputs": []
    },
    {
      "cell_type": "code",
      "source": [
        "history = model.fit(X, y, epochs=100, verbose=1)"
      ],
      "metadata": {
        "colab": {
          "base_uri": "https://localhost:8080/"
        },
        "id": "WudCsp7OzDWX",
        "outputId": "22c6b1d5-59af-4322-a74b-d5431e3b4f3d"
      },
      "execution_count": 42,
      "outputs": [
        {
          "output_type": "stream",
          "name": "stdout",
          "text": [
            "Epoch 1/100\n",
            "32/32 [==============================] - 0s 2ms/step - loss: 308144.2188\n",
            "Epoch 2/100\n",
            "32/32 [==============================] - 0s 2ms/step - loss: 308111.8438\n",
            "Epoch 3/100\n",
            "32/32 [==============================] - 0s 2ms/step - loss: 308079.9062\n",
            "Epoch 4/100\n",
            "32/32 [==============================] - 0s 2ms/step - loss: 308047.9688\n",
            "Epoch 5/100\n",
            "32/32 [==============================] - 0s 1ms/step - loss: 308015.9062\n",
            "Epoch 6/100\n",
            "32/32 [==============================] - 0s 2ms/step - loss: 307983.8750\n",
            "Epoch 7/100\n",
            "32/32 [==============================] - 0s 1ms/step - loss: 307951.8125\n",
            "Epoch 8/100\n",
            "32/32 [==============================] - 0s 1ms/step - loss: 307920.0000\n",
            "Epoch 9/100\n",
            "32/32 [==============================] - 0s 1ms/step - loss: 307887.8125\n",
            "Epoch 10/100\n",
            "32/32 [==============================] - 0s 1ms/step - loss: 307855.8125\n",
            "Epoch 11/100\n",
            "32/32 [==============================] - 0s 2ms/step - loss: 307823.8125\n",
            "Epoch 12/100\n",
            "32/32 [==============================] - 0s 1ms/step - loss: 307791.9688\n",
            "Epoch 13/100\n",
            "32/32 [==============================] - 0s 2ms/step - loss: 307759.8125\n",
            "Epoch 14/100\n",
            "32/32 [==============================] - 0s 2ms/step - loss: 307727.8125\n",
            "Epoch 15/100\n",
            "32/32 [==============================] - 0s 2ms/step - loss: 307696.0312\n",
            "Epoch 16/100\n",
            "32/32 [==============================] - 0s 2ms/step - loss: 307663.8438\n",
            "Epoch 17/100\n",
            "32/32 [==============================] - 0s 2ms/step - loss: 307631.7188\n",
            "Epoch 18/100\n",
            "32/32 [==============================] - 0s 2ms/step - loss: 307599.7188\n",
            "Epoch 19/100\n",
            "32/32 [==============================] - 0s 2ms/step - loss: 307567.8125\n",
            "Epoch 20/100\n",
            "32/32 [==============================] - 0s 2ms/step - loss: 307535.8438\n",
            "Epoch 21/100\n",
            "32/32 [==============================] - 0s 1ms/step - loss: 307503.8125\n",
            "Epoch 22/100\n",
            "32/32 [==============================] - 0s 2ms/step - loss: 307471.8438\n",
            "Epoch 23/100\n",
            "32/32 [==============================] - 0s 2ms/step - loss: 307439.8125\n",
            "Epoch 24/100\n",
            "32/32 [==============================] - 0s 2ms/step - loss: 307407.8438\n",
            "Epoch 25/100\n",
            "32/32 [==============================] - 0s 1ms/step - loss: 307375.7500\n",
            "Epoch 26/100\n",
            "32/32 [==============================] - 0s 1ms/step - loss: 307344.0312\n",
            "Epoch 27/100\n",
            "32/32 [==============================] - 0s 2ms/step - loss: 307311.8750\n",
            "Epoch 28/100\n",
            "32/32 [==============================] - 0s 2ms/step - loss: 307279.7188\n",
            "Epoch 29/100\n",
            "32/32 [==============================] - 0s 1ms/step - loss: 307247.8438\n",
            "Epoch 30/100\n",
            "32/32 [==============================] - 0s 2ms/step - loss: 307215.8438\n",
            "Epoch 31/100\n",
            "32/32 [==============================] - 0s 1ms/step - loss: 307183.7188\n",
            "Epoch 32/100\n",
            "32/32 [==============================] - 0s 1ms/step - loss: 307151.7812\n",
            "Epoch 33/100\n",
            "32/32 [==============================] - 0s 1ms/step - loss: 307119.7812\n",
            "Epoch 34/100\n",
            "32/32 [==============================] - 0s 2ms/step - loss: 307087.9062\n",
            "Epoch 35/100\n",
            "32/32 [==============================] - 0s 2ms/step - loss: 307055.9375\n",
            "Epoch 36/100\n",
            "32/32 [==============================] - 0s 2ms/step - loss: 307023.8438\n",
            "Epoch 37/100\n",
            "32/32 [==============================] - 0s 2ms/step - loss: 306991.8125\n",
            "Epoch 38/100\n",
            "32/32 [==============================] - 0s 2ms/step - loss: 306959.9688\n",
            "Epoch 39/100\n",
            "32/32 [==============================] - 0s 2ms/step - loss: 306927.8438\n",
            "Epoch 40/100\n",
            "32/32 [==============================] - 0s 3ms/step - loss: 306895.8125\n",
            "Epoch 41/100\n",
            "32/32 [==============================] - 0s 2ms/step - loss: 306863.7812\n",
            "Epoch 42/100\n",
            "32/32 [==============================] - 0s 3ms/step - loss: 306832.0000\n",
            "Epoch 43/100\n",
            "32/32 [==============================] - 0s 3ms/step - loss: 306799.7812\n",
            "Epoch 44/100\n",
            "32/32 [==============================] - 0s 3ms/step - loss: 306767.8438\n",
            "Epoch 45/100\n",
            "32/32 [==============================] - 0s 3ms/step - loss: 306735.6875\n",
            "Epoch 46/100\n",
            "32/32 [==============================] - 0s 4ms/step - loss: 306703.9062\n",
            "Epoch 47/100\n",
            "32/32 [==============================] - 0s 3ms/step - loss: 306671.8125\n",
            "Epoch 48/100\n",
            "32/32 [==============================] - 0s 2ms/step - loss: 306639.8750\n",
            "Epoch 49/100\n",
            "32/32 [==============================] - 0s 2ms/step - loss: 306607.8125\n",
            "Epoch 50/100\n",
            "32/32 [==============================] - 0s 2ms/step - loss: 306575.8438\n",
            "Epoch 51/100\n",
            "32/32 [==============================] - 0s 3ms/step - loss: 306543.9375\n",
            "Epoch 52/100\n",
            "32/32 [==============================] - 0s 2ms/step - loss: 306511.9062\n",
            "Epoch 53/100\n",
            "32/32 [==============================] - 0s 2ms/step - loss: 306479.9688\n",
            "Epoch 54/100\n",
            "32/32 [==============================] - 0s 3ms/step - loss: 306447.7812\n",
            "Epoch 55/100\n",
            "32/32 [==============================] - 0s 2ms/step - loss: 306415.7500\n",
            "Epoch 56/100\n",
            "32/32 [==============================] - 0s 2ms/step - loss: 306384.0312\n",
            "Epoch 57/100\n",
            "32/32 [==============================] - 0s 3ms/step - loss: 306351.8750\n",
            "Epoch 58/100\n",
            "32/32 [==============================] - 0s 3ms/step - loss: 306319.7188\n",
            "Epoch 59/100\n",
            "32/32 [==============================] - 0s 2ms/step - loss: 306287.9375\n",
            "Epoch 60/100\n",
            "32/32 [==============================] - 0s 2ms/step - loss: 306255.7812\n",
            "Epoch 61/100\n",
            "32/32 [==============================] - 0s 2ms/step - loss: 306223.7188\n",
            "Epoch 62/100\n",
            "32/32 [==============================] - 0s 2ms/step - loss: 306191.6875\n",
            "Epoch 63/100\n",
            "32/32 [==============================] - 0s 3ms/step - loss: 306159.9688\n",
            "Epoch 64/100\n",
            "32/32 [==============================] - 0s 2ms/step - loss: 306127.8125\n",
            "Epoch 65/100\n",
            "32/32 [==============================] - 0s 3ms/step - loss: 306095.8438\n",
            "Epoch 66/100\n",
            "32/32 [==============================] - 0s 3ms/step - loss: 306063.8125\n",
            "Epoch 67/100\n",
            "32/32 [==============================] - 0s 3ms/step - loss: 306031.8750\n",
            "Epoch 68/100\n",
            "32/32 [==============================] - 0s 3ms/step - loss: 305999.7500\n",
            "Epoch 69/100\n",
            "32/32 [==============================] - 0s 3ms/step - loss: 305967.8125\n",
            "Epoch 70/100\n",
            "32/32 [==============================] - 0s 3ms/step - loss: 305935.8438\n",
            "Epoch 71/100\n",
            "32/32 [==============================] - 0s 2ms/step - loss: 305903.9062\n",
            "Epoch 72/100\n",
            "32/32 [==============================] - 0s 2ms/step - loss: 305871.8125\n",
            "Epoch 73/100\n",
            "32/32 [==============================] - 0s 2ms/step - loss: 305839.9062\n",
            "Epoch 74/100\n",
            "32/32 [==============================] - 0s 3ms/step - loss: 305808.0000\n",
            "Epoch 75/100\n",
            "32/32 [==============================] - 0s 2ms/step - loss: 305775.7812\n",
            "Epoch 76/100\n",
            "32/32 [==============================] - 0s 2ms/step - loss: 305743.8750\n",
            "Epoch 77/100\n",
            "32/32 [==============================] - 0s 1ms/step - loss: 305711.8438\n",
            "Epoch 78/100\n",
            "32/32 [==============================] - 0s 1ms/step - loss: 305679.8125\n",
            "Epoch 79/100\n",
            "32/32 [==============================] - 0s 1ms/step - loss: 305647.8438\n",
            "Epoch 80/100\n",
            "32/32 [==============================] - 0s 2ms/step - loss: 305615.9688\n",
            "Epoch 81/100\n",
            "32/32 [==============================] - 0s 2ms/step - loss: 305583.9062\n",
            "Epoch 82/100\n",
            "32/32 [==============================] - 0s 1ms/step - loss: 305551.9688\n",
            "Epoch 83/100\n",
            "32/32 [==============================] - 0s 2ms/step - loss: 305519.8750\n",
            "Epoch 84/100\n",
            "32/32 [==============================] - 0s 1ms/step - loss: 305487.8438\n",
            "Epoch 85/100\n",
            "32/32 [==============================] - 0s 2ms/step - loss: 305455.8438\n",
            "Epoch 86/100\n",
            "32/32 [==============================] - 0s 2ms/step - loss: 305423.9688\n",
            "Epoch 87/100\n",
            "32/32 [==============================] - 0s 1ms/step - loss: 305391.7812\n",
            "Epoch 88/100\n",
            "32/32 [==============================] - 0s 1ms/step - loss: 305359.8438\n",
            "Epoch 89/100\n",
            "32/32 [==============================] - 0s 1ms/step - loss: 305327.7188\n",
            "Epoch 90/100\n",
            "32/32 [==============================] - 0s 1ms/step - loss: 305295.8125\n",
            "Epoch 91/100\n",
            "32/32 [==============================] - 0s 2ms/step - loss: 305263.9688\n",
            "Epoch 92/100\n",
            "32/32 [==============================] - 0s 2ms/step - loss: 305231.8125\n",
            "Epoch 93/100\n",
            "32/32 [==============================] - 0s 1ms/step - loss: 305199.9375\n",
            "Epoch 94/100\n",
            "32/32 [==============================] - 0s 1ms/step - loss: 305167.7812\n",
            "Epoch 95/100\n",
            "32/32 [==============================] - 0s 1ms/step - loss: 305135.8750\n",
            "Epoch 96/100\n",
            "32/32 [==============================] - 0s 1ms/step - loss: 305103.6250\n",
            "Epoch 97/100\n",
            "32/32 [==============================] - 0s 1ms/step - loss: 305071.9062\n",
            "Epoch 98/100\n",
            "32/32 [==============================] - 0s 1ms/step - loss: 305039.8125\n",
            "Epoch 99/100\n",
            "32/32 [==============================] - 0s 2ms/step - loss: 305007.8125\n",
            "Epoch 100/100\n",
            "32/32 [==============================] - 0s 1ms/step - loss: 304975.8438\n"
          ]
        }
      ]
    },
    {
      "cell_type": "code",
      "source": [
        "import matplotlib.pyplot as plt\n",
        "\n",
        "# Assuming `history` is the variable containing the history object\n",
        "plt.plot(history.history['loss'])\n",
        "plt.title('Model Loss')\n",
        "plt.xlabel('Epoch')\n",
        "plt.ylabel('Loss')\n",
        "plt.legend(loc='upper right')\n",
        "plt.show()"
      ],
      "metadata": {
        "colab": {
          "base_uri": "https://localhost:8080/",
          "height": 509
        },
        "id": "qyQcseJjztR0",
        "outputId": "871abe6e-bd60-4b08-e13b-3e36f9a8a80d"
      },
      "execution_count": 43,
      "outputs": [
        {
          "output_type": "stream",
          "name": "stderr",
          "text": [
            "WARNING:matplotlib.legend:No artists with labels found to put in legend.  Note that artists whose label start with an underscore are ignored when legend() is called with no argument.\n"
          ]
        },
        {
          "output_type": "display_data",
          "data": {
            "text/plain": [
              "<Figure size 640x480 with 1 Axes>"
            ],
            "image/png": "[encoded data removed]"
          },
          "metadata": {}
        }
      ]
    },
    {
      "cell_type": "markdown",
      "source": [
        "## Error Sanctioning"
      ],
      "metadata": {
        "id": "ahEeML70SVsN"
      }
    },
    {
      "cell_type": "code",
      "source": [],
      "metadata": {
        "id": "uwSramE29qeH"
      },
      "execution_count": 23,
      "outputs": []
    },
    {
      "cell_type": "code",
      "source": [],
      "metadata": {
        "id": "ovaGQdnTSTdL"
      },
      "execution_count": 23,
      "outputs": []
    }
  ]
}